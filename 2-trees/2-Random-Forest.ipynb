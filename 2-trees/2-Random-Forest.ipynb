{
 "cells": [
  {
   "cell_type": "markdown",
   "metadata": {},
   "source": [
    "# 随机森林\n",
    "\n",
    "### Bagging \n",
    "\n",
    "从数据集中随机取一个样本,然后把样本放回数据集,重复 N次,既可得 N 个样本的采样集\n",
    "则: 数据集中有 63.2% 的样本出现在采样集中,剩下的 36.8% 作为验证集\n",
    "\n",
    "### 步骤:\n",
    "1. 创建随机森林\n",
    "  - 使用 Bagging 选择 N 个样本\n",
    "  - 随机从 M 个属性中选取 m 个属性 ($m \\ll M$) 来作为分裂属性(不剪枝)\n",
    "  - 按照以上 2 步建立大量决策树, 则构成随机森林\n",
    "2. 使用验证集校验随机森林\n",
    "3. 少于迭代次数则重复 1 \n",
    "\n",
    "\n",
    "### 数据缺失的处理\n",
    "\n",
    "1. 训练数据缺失\n",
    "  - 先使用属性的均值占位\n",
    "  - 创建邻近矩阵记录邻近的数据(决策树中路径一致则 +1)\n",
    "  - 正规化邻近矩阵\n",
    "  - 更新缺失数据 = 使用邻近矩阵中的权重 * 数据\n",
    "2. 预测数据缺失\n",
    "  - 先猜测结果\n",
    "  - 使用属性的均值填写缺失数据\n",
    "  - 分别进入随机森林预测, 分类误差少的结果胜利\n"
   ]
  },
  {
   "cell_type": "code",
   "execution_count": null,
   "metadata": {},
   "outputs": [],
   "source": []
  }
 ],
 "metadata": {
  "kernelspec": {
   "display_name": "PyCharm (jupyter)",
   "language": "python",
   "name": "pycharm-34f9d306"
  },
  "language_info": {
   "codemirror_mode": {
    "name": "ipython",
    "version": 3
   },
   "file_extension": ".py",
   "mimetype": "text/x-python",
   "name": "python",
   "nbconvert_exporter": "python",
   "pygments_lexer": "ipython3",
   "version": "3.7.4"
  }
 },
 "nbformat": 4,
 "nbformat_minor": 2
}
