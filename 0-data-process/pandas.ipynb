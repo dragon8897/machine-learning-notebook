{
 "cells": [
  {
   "cell_type": "markdown",
   "metadata": {},
   "source": [
    "# pandas 基础\n",
    "\n",
    "---\n",
    "\n",
    "导入库文件"
   ]
  },
  {
   "cell_type": "code",
   "execution_count": 2,
   "metadata": {},
   "outputs": [],
   "source": [
    "import numpy as np\n",
    "import pandas as pd"
   ]
  },
  {
   "cell_type": "markdown",
   "metadata": {},
   "source": [
    "### 数据结构\n",
    "\n",
    "##### Series\n",
    "\n",
    "创建 Series"
   ]
  },
  {
   "cell_type": "code",
   "execution_count": 15,
   "metadata": {},
   "outputs": [
    {
     "name": "stdout",
     "output_type": "stream",
     "text": [
      "0    0\n",
      "1    1\n",
      "2    2\n",
      "3    3\n",
      "4    4\n",
      "dtype: int64\n",
      "a    0\n",
      "b    1\n",
      "c    2\n",
      "d    3\n",
      "e    4\n",
      "dtype: int64\n",
      "Index(['a', 'b', 'c', 'd', 'e'], dtype='object')\n",
      "a    0\n",
      "b    1\n",
      "c    2\n",
      "dtype: int64\n",
      "d    NaN\n",
      "c    2.0\n",
      "b    1.0\n",
      "a    0.0\n",
      "dtype: float64\n",
      "a    5\n",
      "b    5\n",
      "c    5\n",
      "d    5\n",
      "e    5\n",
      "dtype: int64\n"
     ]
    }
   ],
   "source": [
    "s = pd.Series(np.arange(5))\n",
    "print(s)\n",
    "s = pd.Series(np.arange(5), index=['a', 'b', 'c', 'd', 'e'])\n",
    "print(s)\n",
    "print(s.index)\n",
    "\n",
    "d = {'a': 0, 'b': 1, 'c':2}\n",
    "s = pd.Series(d)\n",
    "print(s)\n",
    "s = pd.Series(d, index = ['d', 'c', 'b', 'a'])\n",
    "print(s)\n",
    "s = pd.Series(5, index = ['a', 'b', 'c', 'd', 'e'])\n",
    "print(s)"
   ]
  },
  {
   "cell_type": "markdown",
   "metadata": {},
   "source": [
    "取值"
   ]
  },
  {
   "cell_type": "code",
   "execution_count": 22,
   "metadata": {},
   "outputs": [
    {
     "name": "stdout",
     "output_type": "stream",
     "text": [
      "a    10\n",
      "b    11\n",
      "c    12\n",
      "d    13\n",
      "e    14\n",
      "dtype: int64\n",
      "11\n",
      "a    10\n",
      "b    11\n",
      "c    12\n",
      "dtype: int64\n",
      "d    13\n",
      "e    14\n",
      "dtype: int64\n",
      "d    13\n",
      "b    11\n",
      "dtype: int64\n",
      "a    2.202647e+04\n",
      "b    5.987414e+04\n",
      "c    1.627548e+05\n",
      "d    4.424134e+05\n",
      "e    1.202604e+06\n",
      "dtype: float64\n",
      "11\n",
      "True\n",
      "nan\n"
     ]
    }
   ],
   "source": [
    "s = pd.Series(np.arange(5) + 10, index = ['a', 'b', 'c', 'd', 'e'])\n",
    "# index\n",
    "print(s)\n",
    "print(s[1])\n",
    "print(s[:3])\n",
    "print(s[s > s.median()])\n",
    "print(s[[3, 1]])\n",
    "\n",
    "# dict\n",
    "print(s['b'])\n",
    "print('c' in s)\n",
    "print(s.get('f', np.nan))"
   ]
  },
  {
   "cell_type": "markdown",
   "metadata": {},
   "source": [
    "数值操作"
   ]
  },
  {
   "cell_type": "code",
   "execution_count": 31,
   "metadata": {},
   "outputs": [
    {
     "name": "stdout",
     "output_type": "stream",
     "text": [
      "a    0\n",
      "b    2\n",
      "c    4\n",
      "d    6\n",
      "e    8\n",
      "dtype: int64\n",
      "a     0\n",
      "b     3\n",
      "c     6\n",
      "d     9\n",
      "e    12\n",
      "dtype: int64\n",
      "a     1.000000\n",
      "b     2.718282\n",
      "c     7.389056\n",
      "d    20.085537\n",
      "e    54.598150\n",
      "dtype: float64\n",
      "b    1\n",
      "c    2\n",
      "d    3\n",
      "e    4\n",
      "dtype: int64\n",
      "a    NaN\n",
      "b    2.0\n",
      "c    4.0\n",
      "d    6.0\n",
      "e    NaN\n",
      "dtype: float64\n",
      "None\n"
     ]
    }
   ],
   "source": [
    "s = pd.Series(np.arange(5), index = ['a', 'b', 'c', 'd', 'e'])\n",
    "print(s + s)\n",
    "print(s * 3)\n",
    "print(np.exp(s))\n",
    "print(s[1:])\n",
    "# 没有相同 labels 时为空\n",
    "print(s[1:] + s[:-1])"
   ]
  },
  {
   "cell_type": "markdown",
   "metadata": {},
   "source": [
    "##### DataFrame\n",
    "\n",
    "创建"
   ]
  },
  {
   "cell_type": "code",
   "execution_count": 38,
   "metadata": {},
   "outputs": [
    {
     "name": "stdout",
     "output_type": "stream",
     "text": [
      "   one  two\n",
      "a  1.0    1\n",
      "b  2.0    2\n",
      "c  3.0    3\n",
      "d  NaN    4\n",
      "   one  two\n",
      "d  NaN    4\n",
      "b  2.0    2\n",
      "a  1.0    1\n",
      "   two three\n",
      "d    4   NaN\n",
      "b    2   NaN\n",
      "a    1   NaN\n",
      "   one  two\n",
      "0    1    4\n",
      "1    2    3\n",
      "2    3    2\n",
      "3    4    1\n",
      "   one  two\n",
      "a    1    4\n",
      "b    2    3\n",
      "c    3    2\n",
      "d    4    1\n"
     ]
    }
   ],
   "source": [
    "# index\n",
    "d = {'one': pd.Series([1, 2, 3], index = ['a', 'b', 'c']),\n",
    "     'two': pd.Series([1, 2, 3, 4], index = ['a', 'b', 'c', 'd'])}\n",
    "\n",
    "df = pd.DataFrame(d)\n",
    "print(df)\n",
    "df = pd.DataFrame(d, index = ['d', 'b', 'a'])\n",
    "print(df)\n",
    "df = pd.DataFrame(d, index = ['d', 'b', 'a'], columns = ['two', 'three'])\n",
    "print(df)\n",
    "\n",
    "# dict/list\n",
    "d = {'one': [1, 2, 3, 4],\n",
    "     'two': [4, 3, 2, 1]}\n",
    "\n",
    "df = pd.DataFrame(d)\n",
    "print(df)\n",
    "df = pd.DataFrame(d, index = ['a', 'b', 'c', 'd'])\n",
    "print(df)"
   ]
  },
  {
   "cell_type": "code",
   "execution_count": null,
   "metadata": {},
   "outputs": [],
   "source": []
  }
 ],
 "metadata": {
  "kernelspec": {
   "display_name": "PyCharm (jupyter)",
   "language": "python",
   "name": "pycharm-34f9d306"
  },
  "language_info": {
   "codemirror_mode": {
    "name": "ipython",
    "version": 3
   },
   "file_extension": ".py",
   "mimetype": "text/x-python",
   "name": "python",
   "nbconvert_exporter": "python",
   "pygments_lexer": "ipython3",
   "version": "3.7.4"
  }
 },
 "nbformat": 4,
 "nbformat_minor": 2
}
