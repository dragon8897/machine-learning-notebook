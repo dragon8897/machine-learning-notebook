{
 "cells": [
  {
   "cell_type": "markdown",
   "metadata": {},
   "source": [
    "# pandas 基础\n",
    "\n",
    "---\n",
    "\n",
    "导入库文件"
   ]
  },
  {
   "cell_type": "code",
   "execution_count": 81,
   "metadata": {},
   "outputs": [],
   "source": [
    "import numpy as np\n",
    "import pandas as pd"
   ]
  },
  {
   "cell_type": "markdown",
   "metadata": {},
   "source": [
    "### 数据结构\n",
    "\n",
    "##### Series\n",
    "\n",
    "创建 Series"
   ]
  },
  {
   "cell_type": "code",
   "execution_count": 82,
   "metadata": {},
   "outputs": [
    {
     "name": "stdout",
     "output_type": "stream",
     "text": [
      "0    0\n",
      "1    1\n",
      "2    2\n",
      "3    3\n",
      "4    4\n",
      "dtype: int64\n",
      "a    0\n",
      "b    1\n",
      "c    2\n",
      "d    3\n",
      "e    4\n",
      "dtype: int64\n",
      "Index(['a', 'b', 'c', 'd', 'e'], dtype='object')\n",
      "a    0\n",
      "b    1\n",
      "c    2\n",
      "dtype: int64\n",
      "d    NaN\n",
      "c    2.0\n",
      "b    1.0\n",
      "a    0.0\n",
      "dtype: float64\n",
      "a    5\n",
      "b    5\n",
      "c    5\n",
      "d    5\n",
      "e    5\n",
      "dtype: int64\n"
     ]
    }
   ],
   "source": [
    "s = pd.Series(np.arange(5))\n",
    "print(s)\n",
    "s = pd.Series(np.arange(5), index=['a', 'b', 'c', 'd', 'e'])\n",
    "print(s)\n",
    "print(s.index)\n",
    "\n",
    "d = {'a': 0, 'b': 1, 'c':2}\n",
    "s = pd.Series(d)\n",
    "print(s)\n",
    "s = pd.Series(d, index = ['d', 'c', 'b', 'a'])\n",
    "print(s)\n",
    "s = pd.Series(5, index = ['a', 'b', 'c', 'd', 'e'])\n",
    "print(s)"
   ]
  },
  {
   "cell_type": "markdown",
   "metadata": {},
   "source": [
    "取值"
   ]
  },
  {
   "cell_type": "code",
   "execution_count": 83,
   "metadata": {},
   "outputs": [
    {
     "name": "stdout",
     "output_type": "stream",
     "text": [
      "a    10\n",
      "b    11\n",
      "c    12\n",
      "d    13\n",
      "e    14\n",
      "dtype: int64\n",
      "11\n",
      "a    10\n",
      "b    11\n",
      "c    12\n",
      "dtype: int64\n",
      "d    13\n",
      "e    14\n",
      "dtype: int64\n",
      "d    13\n",
      "b    11\n",
      "dtype: int64\n",
      "11\n",
      "True\n",
      "nan\n"
     ]
    }
   ],
   "source": [
    "s = pd.Series(np.arange(5) + 10, index = ['a', 'b', 'c', 'd', 'e'])\n",
    "# index\n",
    "print(s)\n",
    "print(s[1])\n",
    "print(s[:3])\n",
    "print(s[s > s.median()])\n",
    "print(s[[3, 1]])\n",
    "\n",
    "# dict\n",
    "print(s['b'])\n",
    "print('c' in s)\n",
    "print(s.get('f', np.nan))"
   ]
  },
  {
   "cell_type": "markdown",
   "metadata": {},
   "source": [
    "数值操作"
   ]
  },
  {
   "cell_type": "code",
   "execution_count": 84,
   "metadata": {},
   "outputs": [
    {
     "name": "stdout",
     "output_type": "stream",
     "text": [
      "a    0\n",
      "b    2\n",
      "c    4\n",
      "d    6\n",
      "e    8\n",
      "dtype: int64\n",
      "a     0\n",
      "b     3\n",
      "c     6\n",
      "d     9\n",
      "e    12\n",
      "dtype: int64\n",
      "a     1.000000\n",
      "b     2.718282\n",
      "c     7.389056\n",
      "d    20.085537\n",
      "e    54.598150\n",
      "dtype: float64\n",
      "b    1\n",
      "c    2\n",
      "d    3\n",
      "e    4\n",
      "dtype: int64\n",
      "a    NaN\n",
      "b    2.0\n",
      "c    4.0\n",
      "d    6.0\n",
      "e    NaN\n",
      "dtype: float64\n"
     ]
    }
   ],
   "source": [
    "s = pd.Series(np.arange(5), index = ['a', 'b', 'c', 'd', 'e'])\n",
    "print(s + s)\n",
    "print(s * 3)\n",
    "print(np.exp(s))\n",
    "print(s[1:])\n",
    "# 没有相同 labels 时为空\n",
    "print(s[1:] + s[:-1])"
   ]
  },
  {
   "cell_type": "markdown",
   "metadata": {},
   "source": [
    "##### DataFrame\n",
    "\n",
    "创建"
   ]
  },
  {
   "cell_type": "code",
   "execution_count": 85,
   "metadata": {},
   "outputs": [
    {
     "name": "stdout",
     "output_type": "stream",
     "text": [
      "   one  two\n",
      "a  1.0    1\n",
      "b  2.0    2\n",
      "c  3.0    3\n",
      "d  NaN    4\n",
      "   one  two\n",
      "d  NaN    4\n",
      "b  2.0    2\n",
      "a  1.0    1\n",
      "   two three\n",
      "d    4   NaN\n",
      "b    2   NaN\n",
      "a    1   NaN\n"
     ]
    }
   ],
   "source": [
    "# index\n",
    "d = {'one': pd.Series([1, 2, 3], index = ['a', 'b', 'c']),\n",
    "     'two': pd.Series([1, 2, 3, 4], index = ['a', 'b', 'c', 'd'])}\n",
    "\n",
    "df = pd.DataFrame(d)\n",
    "print(df)\n",
    "df = pd.DataFrame(d, index = ['d', 'b', 'a'])\n",
    "print(df)\n",
    "df = pd.DataFrame(d, index = ['d', 'b', 'a'], columns = ['two', 'three'])\n",
    "print(df)"
   ]
  },
  {
   "cell_type": "code",
   "execution_count": 86,
   "metadata": {},
   "outputs": [
    {
     "name": "stdout",
     "output_type": "stream",
     "text": [
      "   one  two\n",
      "0    1    4\n",
      "1    2    3\n",
      "2    3    2\n",
      "3    4    1\n",
      "   one  two\n",
      "a    1    4\n",
      "b    2    3\n",
      "c    3    2\n",
      "d    4    1\n"
     ]
    }
   ],
   "source": [
    "# dict/list\n",
    "d = {'one': [1, 2, 3, 4],\n",
    "     'two': [4, 3, 2, 1]}\n",
    "\n",
    "df = pd.DataFrame(d)\n",
    "print(df)\n",
    "df = pd.DataFrame(d, index = ['a', 'b', 'c', 'd'])\n",
    "print(df)"
   ]
  },
  {
   "cell_type": "code",
   "execution_count": 87,
   "metadata": {},
   "outputs": [
    {
     "name": "stdout",
     "output_type": "stream",
     "text": [
      "[(1, 2., b'Hello') (2, 3., b'Hello')]\n",
      "   A    B         C\n",
      "0  1  2.0  b'Hello'\n",
      "1  2  3.0  b'Hello'\n",
      "        A    B         C\n",
      "first   1  2.0  b'Hello'\n",
      "second  2  3.0  b'Hello'\n",
      "          C    B  A\n",
      "0  b'Hello'  2.0  1\n",
      "1  b'Hello'  3.0  2\n"
     ]
    }
   ],
   "source": [
    "# structured array\n",
    "data = np.zeros((2,), dtype=[('A', 'i4'), ('B', 'f4'), ('C', 'a10')])\n",
    "data[:] = [(1, 2., 'Hello'), (2, 3., 'Hello')]\n",
    "print(data)\n",
    "print(pd.DataFrame(data))\n",
    "print(pd.DataFrame(data, index=['first', 'second']))\n",
    "print(pd.DataFrame(data, columns=['C', 'B', 'A']))"
   ]
  },
  {
   "cell_type": "code",
   "execution_count": 88,
   "metadata": {},
   "outputs": [
    {
     "name": "stdout",
     "output_type": "stream",
     "text": [
      "   a   b     c\n",
      "0  1   2   NaN\n",
      "1  5  10  20.0\n",
      "        a   b     c\n",
      "first   1   2   NaN\n",
      "second  5  10  20.0\n",
      "   a   b\n",
      "0  1   2\n",
      "1  5  10\n"
     ]
    }
   ],
   "source": [
    "# list of dicts\n",
    "data = [{'a':  1, 'b': 2}, {'a': 5, 'b': 10, 'c': 20}]\n",
    "print(pd.DataFrame(data))\n",
    "print(pd.DataFrame(data, index=['first', 'second']))\n",
    "print(pd.DataFrame(data, columns=['a', 'b']))"
   ]
  },
  {
   "cell_type": "code",
   "execution_count": 89,
   "metadata": {},
   "outputs": [
    {
     "data": {
      "text/html": [
       "<div>\n",
       "<style scoped>\n",
       "    .dataframe tbody tr th:only-of-type {\n",
       "        vertical-align: middle;\n",
       "    }\n",
       "\n",
       "    .dataframe tbody tr th {\n",
       "        vertical-align: top;\n",
       "    }\n",
       "\n",
       "    .dataframe thead tr th {\n",
       "        text-align: left;\n",
       "    }\n",
       "</style>\n",
       "<table border=\"1\" class=\"dataframe\">\n",
       "  <thead>\n",
       "    <tr>\n",
       "      <th></th>\n",
       "      <th></th>\n",
       "      <th colspan=\"3\" halign=\"left\">a</th>\n",
       "      <th colspan=\"2\" halign=\"left\">b</th>\n",
       "    </tr>\n",
       "    <tr>\n",
       "      <th></th>\n",
       "      <th></th>\n",
       "      <th>b</th>\n",
       "      <th>a</th>\n",
       "      <th>c</th>\n",
       "      <th>a</th>\n",
       "      <th>b</th>\n",
       "    </tr>\n",
       "  </thead>\n",
       "  <tbody>\n",
       "    <tr>\n",
       "      <th rowspan=\"3\" valign=\"top\">A</th>\n",
       "      <th>B</th>\n",
       "      <td>1.0</td>\n",
       "      <td>4.0</td>\n",
       "      <td>5.0</td>\n",
       "      <td>8.0</td>\n",
       "      <td>10.0</td>\n",
       "    </tr>\n",
       "    <tr>\n",
       "      <th>C</th>\n",
       "      <td>2.0</td>\n",
       "      <td>3.0</td>\n",
       "      <td>6.0</td>\n",
       "      <td>7.0</td>\n",
       "      <td>NaN</td>\n",
       "    </tr>\n",
       "    <tr>\n",
       "      <th>D</th>\n",
       "      <td>NaN</td>\n",
       "      <td>NaN</td>\n",
       "      <td>NaN</td>\n",
       "      <td>NaN</td>\n",
       "      <td>9.0</td>\n",
       "    </tr>\n",
       "  </tbody>\n",
       "</table>\n",
       "</div>"
      ],
      "text/plain": [
       "       a              b      \n",
       "       b    a    c    a     b\n",
       "A B  1.0  4.0  5.0  8.0  10.0\n",
       "  C  2.0  3.0  6.0  7.0   NaN\n",
       "  D  NaN  NaN  NaN  NaN   9.0"
      ]
     },
     "execution_count": 89,
     "metadata": {},
     "output_type": "execute_result"
    }
   ],
   "source": [
    "# dict of tuples\n",
    "pd.DataFrame({('a', 'b'): {('A', 'B'): 1, ('A', 'C'): 2},\n",
    "              ('a', 'a'): {('A', 'C'): 3, ('A', 'B'): 4},\n",
    "              ('a', 'c'): {('A', 'B'): 5, ('A', 'C'): 6},\n",
    "              ('b', 'a'): {('A', 'C'): 7, ('A', 'B'): 8},\n",
    "              ('b', 'b'): {('A', 'D'): 9, ('A', 'B'): 10}})"
   ]
  },
  {
   "cell_type": "code",
   "execution_count": 90,
   "metadata": {},
   "outputs": [
    {
     "data": {
      "text/html": [
       "<div>\n",
       "<style scoped>\n",
       "    .dataframe tbody tr th:only-of-type {\n",
       "        vertical-align: middle;\n",
       "    }\n",
       "\n",
       "    .dataframe tbody tr th {\n",
       "        vertical-align: top;\n",
       "    }\n",
       "\n",
       "    .dataframe thead th {\n",
       "        text-align: right;\n",
       "    }\n",
       "</style>\n",
       "<table border=\"1\" class=\"dataframe\">\n",
       "  <thead>\n",
       "    <tr style=\"text-align: right;\">\n",
       "      <th></th>\n",
       "      <th>0</th>\n",
       "      <th>1</th>\n",
       "      <th>2</th>\n",
       "    </tr>\n",
       "  </thead>\n",
       "  <tbody>\n",
       "    <tr>\n",
       "      <th>A</th>\n",
       "      <td>1</td>\n",
       "      <td>2</td>\n",
       "      <td>3</td>\n",
       "    </tr>\n",
       "    <tr>\n",
       "      <th>B</th>\n",
       "      <td>4</td>\n",
       "      <td>5</td>\n",
       "      <td>6</td>\n",
       "    </tr>\n",
       "  </tbody>\n",
       "</table>\n",
       "</div>"
      ],
      "text/plain": [
       "   0  1  2\n",
       "A  1  2  3\n",
       "B  4  5  6"
      ]
     },
     "execution_count": 90,
     "metadata": {},
     "output_type": "execute_result"
    }
   ],
   "source": [
    "# from_dict 可设置 orient 转换行和列\n",
    "pd.DataFrame.from_dict(dict([('A', [1, 2, 3]), ('B', [4, 5, 6])]), orient='index')"
   ]
  },
  {
   "cell_type": "code",
   "execution_count": 134,
   "metadata": {},
   "outputs": [
    {
     "name": "stdout",
     "output_type": "stream",
     "text": [
      "[(1, 2., b'Hello') (2, 3., b'World')]\n",
      "   A    B         C\n",
      "x  1  2.0  b'Hello'\n",
      "y  2  3.0  b'World'\n",
      "   A    B         C\n",
      "0  1  2.0  b'Hello'\n",
      "1  2  3.0  b'World'\n",
      "   A    B         C\n",
      "x  1  2.0  b'Hello'\n",
      "y  2  3.0  b'World'\n",
      "     A         C\n",
      "B               \n",
      "2.0  1  b'Hello'\n",
      "3.0  2  b'World'\n",
      "          A    B\n",
      "C               \n",
      "b'Hello'  1  2.0\n",
      "b'World'  2  3.0\n"
     ]
    }
   ],
   "source": [
    "# from_records 可使用 index 设置列\n",
    "data = np.array([(1, 2., b'Hello'), (2, 3., b'World')], dtype=[('A', '<i4'), ('B', '<f4'), ('C', 'S10')])\n",
    "print(data)\n",
    "print(pd.DataFrame(data, index=['x', 'y']))\n",
    "print(pd.DataFrame.from_records(data))\n",
    "print(pd.DataFrame.from_records(data, index=['x', 'y']))\n",
    "print(pd.DataFrame.from_records(data, index='B'))\n",
    "print(pd.DataFrame.from_records(data, index='C'))"
   ]
  },
  {
   "cell_type": "markdown",
   "metadata": {},
   "source": [
    "### 数据操作"
   ]
  },
  {
   "cell_type": "code",
   "execution_count": 187,
   "metadata": {},
   "outputs": [
    {
     "name": "stdout",
     "output_type": "stream",
     "text": [
      "   one  two  three\n",
      "a    1    1      2\n",
      "b    2    2      4\n",
      "c    3    3      9\n",
      "   one  two  three   flag\n",
      "a    1    1      1  False\n",
      "b    2    2      4   True\n",
      "c    3    3      9   True\n",
      "   one  three   flag\n",
      "a    1      1  False\n",
      "b    2      4   True\n",
      "c    3      9   True\n",
      "   one   flag\n",
      "a    1  False\n",
      "b    2   True\n",
      "c    3   True\n",
      "   one   flag  foo\n",
      "a    1  False  bar\n",
      "b    2   True  bar\n",
      "c    3   True  bar\n",
      "   one   flag  foo  one_trunc\n",
      "a    1  False  bar        1.0\n",
      "b    2   True  bar        2.0\n",
      "c    3   True  bar        NaN\n",
      "   one  bar   flag  foo  one_trunc\n",
      "a    1    1  False  bar        1.0\n",
      "b    2    2   True  bar        2.0\n",
      "c    3    3   True  bar        NaN\n"
     ]
    }
   ],
   "source": [
    "df = pd.DataFrame({'one': [1, 2, 3], \n",
    "                   'two': [1, 2, 3], \n",
    "                   'three': [2, 4, 9]}, index=['a', 'b', 'c'])\n",
    "print(df)\n",
    "\n",
    "df['three'] = df['one'] * df['two']\n",
    "df['flag'] = df['one'] > 1\n",
    "print(df)\n",
    "\n",
    "del df['two']\n",
    "print(df)\n",
    "three = df.pop('three')\n",
    "print(df)\n",
    "\n",
    "df['foo'] = 'bar'\n",
    "print(df)\n",
    "\n",
    "df['one_trunc'] = df['one'][:2]\n",
    "print(df)\n",
    "\n",
    "df.insert(1, 'bar', df['one'])\n",
    "print(df)"
   ]
  },
  {
   "cell_type": "code",
   "execution_count": 190,
   "metadata": {},
   "outputs": [
    {
     "name": "stdout",
     "output_type": "stream",
     "text": [
      "   one  two  three\n",
      "a    1    1      2\n",
      "b    2    2      4\n",
      "c    3    3      9\n",
      "   one  two  three     other\n",
      "a    1    1      2  0.500000\n",
      "b    2    2      4  0.500000\n",
      "c    3    3      9  0.333333\n",
      "   one  two  three\n",
      "a    1    1      2\n",
      "b    2    2      4\n",
      "c    3    3      9\n",
      "   one  two  three  other\n",
      "a    1    1      2      2\n",
      "b    2    2      4      3\n",
      "c    3    3      9      4\n"
     ]
    }
   ],
   "source": [
    "df = pd.DataFrame({'one': [1, 2, 3], \n",
    "                   'two': [1, 2, 3], \n",
    "                   'three': [2, 4, 9]}, index=['a', 'b', 'c'])\n",
    "\n",
    "dff = df.assign(other=df['one'] / df['three'])\n",
    "print(df)\n",
    "print(dff)\n",
    "dff = df.assign(other=lambda x: x['one'] + 1)\n",
    "print(df)\n",
    "print(dff)"
   ]
  },
  {
   "cell_type": "code",
   "execution_count": 250,
   "metadata": {},
   "outputs": [
    {
     "name": "stdout",
     "output_type": "stream",
     "text": [
      "   one  two  three\n",
      "a    1    1      2\n",
      "b    2    2      4\n",
      "c    3    3      9\n",
      "one      2\n",
      "two      2\n",
      "three    4\n",
      "Name: b, dtype: int64\n",
      "one      3\n",
      "two      3\n",
      "three    9\n",
      "Name: c, dtype: int64\n",
      "9\n",
      "   one  two  three\n",
      "a    1    1      2\n",
      "b    2    2      4\n"
     ]
    }
   ],
   "source": [
    "df = pd.DataFrame({'one': [1, 2, 3], \n",
    "                   'two': [1, 2, 3], \n",
    "                   'three': [2, 4, 9]}, index=['a', 'b', 'c'])\n",
    "\n",
    "print(df)\n",
    "print(df.loc['b'])\n",
    "print(df.iloc[2])\n",
    "print(df.loc['c', 'three'])\n",
    "print(df.loc['a':'b'])"
   ]
  },
  {
   "cell_type": "code",
   "execution_count": 255,
   "metadata": {},
   "outputs": [
    {
     "name": "stdout",
     "output_type": "stream",
     "text": [
      "   one  two  three\n",
      "a    1    1      2\n",
      "b    2    2      4\n",
      "c    3    3      9\n",
      "   one  two  three\n",
      "b    2    2      4\n",
      "c    3    3      9\n",
      "   one  two  three\n",
      "a  NaN  NaN      2\n",
      "b  2.0  2.0      4\n",
      "c  3.0  3.0      9\n",
      "   one  two  three\n",
      "a    1    1      2\n",
      "c    3    3      9\n"
     ]
    }
   ],
   "source": [
    "df = pd.DataFrame({'one': [1, 2, 3], \n",
    "                   'two': [1, 2, 3], \n",
    "                   'three': [2, 4, 9]}, index=['a', 'b', 'c'])\n",
    "\n",
    "print(df)\n",
    "print(df[df.one > 1])\n",
    "print(df[df > 1])\n",
    "print(df[df.two.isin([1, 3])])"
   ]
  },
  {
   "cell_type": "markdown",
   "metadata": {},
   "source": [
    "### 算术运算"
   ]
  },
  {
   "cell_type": "code",
   "execution_count": 229,
   "metadata": {},
   "outputs": [
    {
     "name": "stdout",
     "output_type": "stream",
     "text": [
      "          a         b         c   d   e\n",
      "0 -0.784763  0.307183  1.391457 NaN NaN\n",
      "1  0.934681 -1.190704  1.720644 NaN NaN\n",
      "2  0.233405  0.453800 -1.146283 NaN NaN\n",
      "3  2.033546 -0.325022  0.686667 NaN NaN\n",
      "4 -0.370479 -0.056357  0.670427 NaN NaN\n",
      "5  0.953203 -1.375230  0.553435 NaN NaN\n",
      "6 -0.569290 -1.655582  0.617930 NaN NaN\n",
      "7       NaN       NaN       NaN NaN NaN\n",
      "8       NaN       NaN       NaN NaN NaN\n",
      "9       NaN       NaN       NaN NaN NaN\n",
      "          a         b         c         d         e\n",
      "0  0.000000  0.000000  0.000000  0.000000  0.000000\n",
      "1  2.223411 -0.049869  0.946420 -1.961621  1.449956\n",
      "2  0.894992  0.008337  0.002835 -1.035968  1.756929\n",
      "3  2.491086 -0.045814  0.533073 -0.548517 -0.123665\n",
      "4  1.958932  0.183802  0.129448 -0.562595  1.263817\n",
      "5  1.000687 -0.544883 -2.032000 -0.721831  1.471599\n",
      "6  0.363422 -0.858943  1.321625 -0.546633  1.172747\n",
      "7  0.231386  1.429475 -0.828509 -0.542947  0.184943\n",
      "8  2.869006  0.801629  0.074472 -1.316691  1.663279\n",
      "9  1.825993  1.067842  0.252012 -1.605540  0.968174\n",
      "          a         b          c         d         e\n",
      "0 -4.967326  0.029587   4.076846  6.996885 -4.312405\n",
      "1  6.149727 -0.219761   8.808948 -2.811222  2.937375\n",
      "2 -0.492366  0.071273   4.091019  1.817048  4.472241\n",
      "3  7.488106 -0.199482   6.742211  4.254302 -4.930730\n",
      "4  4.827334  0.948597   4.724086  4.183909  2.006681\n",
      "5  0.036110 -2.694828  -6.083153  3.387729  3.045590\n",
      "6 -3.150213 -4.265128  10.684971  4.263718  1.551330\n",
      "7 -3.810394  7.176961  -0.065699  4.282152 -3.387690\n",
      "8  9.377702  4.037732   4.449204  0.413429  4.003988\n",
      "9  4.162638  5.368795   5.336904 -1.030815  0.528462\n",
      "          a         b         c          d           e\n",
      "0 -0.717635 -2.537539  2.407497   1.000623   -0.792091\n",
      "1  1.204898 -2.252495  0.734328  -1.039237    5.334047\n",
      "2 -2.006126 -2.592384  2.391179 -27.329504    2.022456\n",
      "3  0.911061 -2.273263  1.054360   2.217981   -0.721425\n",
      "4  1.768450 -4.755548  1.835478   2.289473  748.388098\n",
      "5 -2.545968 -1.065002 -0.618571   3.603009    4.781988\n",
      "6 -0.970834 -0.798068  0.575707   2.208756  -11.144057\n",
      "7 -0.860527  0.965818 -2.420488   2.190915   -0.928041\n",
      "8  0.677718  2.453709  2.041479  -3.151451    2.495025\n",
      "9  2.311991  1.484210  1.498395  -1.649722   -3.397807\n",
      "          a         b         c         d             e\n",
      "0  3.770374  0.024118  0.029767  0.997510  2.540385e+00\n",
      "1  0.474458  0.038846  3.439062  0.857317  1.235301e-03\n",
      "2  0.061740  0.022141  0.030588  0.000002  5.977001e-02\n",
      "3  1.451476  0.037446  0.809177  0.041321  3.691780e+00\n",
      "4  0.102242  0.001955  0.088106  0.036396  3.187811e-12\n",
      "5  0.023801  0.777318  6.830353  0.005934  1.912345e-03\n",
      "6  1.125695  2.465130  9.103189  0.042015  6.483757e-05\n",
      "7  1.823653  1.149264  0.029133  0.043401  1.348126e+00\n",
      "8  4.740285  0.027587  0.057573  0.010138  2.580480e-02\n",
      "9  0.034999  0.206072  0.198379  0.135007  7.502488e-03\n"
     ]
    }
   ],
   "source": [
    "df = pd.DataFrame(np.random.randn(10, 5), columns=['a', 'b', 'c', 'd', 'e'])\n",
    "df2 = pd.DataFrame(np.random.randn(7, 3), columns=['a', 'b', 'c'])\n",
    "\n",
    "print(df + df2)\n",
    "print(df - df.iloc[0])\n",
    "print(df * 5 + 2)\n",
    "print(1 / df)\n",
    "print(df ** 4)"
   ]
  },
  {
   "cell_type": "markdown",
   "metadata": {},
   "source": [
    "**包含 date 的运算**\n",
    "\n",
    "会列向广播"
   ]
  },
  {
   "cell_type": "code",
   "execution_count": 230,
   "metadata": {},
   "outputs": [
    {
     "name": "stdout",
     "output_type": "stream",
     "text": [
      "                   A         B         C\n",
      "2000-01-01  0.333398 -0.054952 -0.618668\n",
      "2000-01-02 -0.762901 -0.404033  1.325828\n",
      "2000-01-03 -0.946147  1.571659  0.972079\n",
      "2000-01-04  1.456920  0.277010 -2.277985\n",
      "2000-01-05  0.862030  0.475965  1.327618\n",
      "2000-01-06  0.337754 -1.496825  0.153446\n",
      "2000-01-07 -1.668093 -0.895612 -1.886384\n",
      "2000-01-08  0.562173  1.140714  0.470525\n",
      "            2000-01-01 00:00:00  2000-01-02 00:00:00  2000-01-03 00:00:00  \\\n",
      "2000-01-01                  NaN                  NaN                  NaN   \n",
      "2000-01-02                  NaN                  NaN                  NaN   \n",
      "2000-01-03                  NaN                  NaN                  NaN   \n",
      "2000-01-04                  NaN                  NaN                  NaN   \n",
      "2000-01-05                  NaN                  NaN                  NaN   \n",
      "2000-01-06                  NaN                  NaN                  NaN   \n",
      "2000-01-07                  NaN                  NaN                  NaN   \n",
      "2000-01-08                  NaN                  NaN                  NaN   \n",
      "\n",
      "            2000-01-04 00:00:00  2000-01-05 00:00:00  2000-01-06 00:00:00  \\\n",
      "2000-01-01                  NaN                  NaN                  NaN   \n",
      "2000-01-02                  NaN                  NaN                  NaN   \n",
      "2000-01-03                  NaN                  NaN                  NaN   \n",
      "2000-01-04                  NaN                  NaN                  NaN   \n",
      "2000-01-05                  NaN                  NaN                  NaN   \n",
      "2000-01-06                  NaN                  NaN                  NaN   \n",
      "2000-01-07                  NaN                  NaN                  NaN   \n",
      "2000-01-08                  NaN                  NaN                  NaN   \n",
      "\n",
      "            2000-01-07 00:00:00  2000-01-08 00:00:00   A   B   C  \n",
      "2000-01-01                  NaN                  NaN NaN NaN NaN  \n",
      "2000-01-02                  NaN                  NaN NaN NaN NaN  \n",
      "2000-01-03                  NaN                  NaN NaN NaN NaN  \n",
      "2000-01-04                  NaN                  NaN NaN NaN NaN  \n",
      "2000-01-05                  NaN                  NaN NaN NaN NaN  \n",
      "2000-01-06                  NaN                  NaN NaN NaN NaN  \n",
      "2000-01-07                  NaN                  NaN NaN NaN NaN  \n",
      "2000-01-08                  NaN                  NaN NaN NaN NaN  \n"
     ]
    }
   ],
   "source": [
    "index = pd.date_range('1/1/2000', periods = 8)\n",
    "\n",
    "df = pd.DataFrame(np.random.randn(8, 3), index = index, columns = list('ABC'))\n",
    "print(df)\n",
    "\n",
    "print(df - df['A'])"
   ]
  },
  {
   "cell_type": "markdown",
   "metadata": {},
   "source": [
    "### 逻辑运算"
   ]
  },
  {
   "cell_type": "code",
   "execution_count": 243,
   "metadata": {},
   "outputs": [
    {
     "name": "stdout",
     "output_type": "stream",
     "text": [
      "       a      b\n",
      "0   True  False\n",
      "1  False   True\n",
      "2   True   True\n",
      "       a      b\n",
      "0  False  False\n",
      "1  False   True\n",
      "2   True  False\n",
      "      a     b\n",
      "0  True  True\n",
      "1  True  True\n",
      "2  True  True\n",
      "       a      b\n",
      "0   True   True\n",
      "1   True  False\n",
      "2  False   True\n",
      "       a      b\n",
      "0  False   True\n",
      "1   True  False\n",
      "2  False  False\n"
     ]
    }
   ],
   "source": [
    "df1 = pd.DataFrame({'a': [3, 0, -1], 'b': [0, 1, 1]}, dtype=bool)\n",
    "df2 = pd.DataFrame({'a': [0, 1, 1], 'b': [1, 1, 0]}, dtype=bool)\n",
    "\n",
    "print(df1)\n",
    "print(df1 & df2)\n",
    "print(df1 | df2)\n",
    "print(df1 ^ df2)\n",
    "print(-df1)"
   ]
  },
  {
   "cell_type": "markdown",
   "metadata": {},
   "source": [
    "### 使用 numpy 库"
   ]
  },
  {
   "cell_type": "code",
   "execution_count": 249,
   "metadata": {},
   "outputs": [
    {
     "name": "stdout",
     "output_type": "stream",
     "text": [
      "          0         1         2         3         4\n",
      "0  0.306910 -0.881694  0.939780  0.596585 -0.923235\n",
      "1  0.053833  1.237064  0.799716 -0.728101 -0.461223\n",
      "2 -0.025709 -1.321131 -0.788061 -0.571385 -0.112651\n",
      "          0         1         2\n",
      "0  0.306910  0.053833 -0.025709\n",
      "1 -0.881694  1.237064 -1.321131\n",
      "2  0.939780  0.799716 -0.788061\n",
      "3  0.596585 -0.728101 -0.571385\n",
      "4 -0.923235 -0.461223 -0.112651\n",
      "          0         1         2         3         4\n",
      "0  1.359219  0.414081  2.559418  1.815907  0.397232\n",
      "1  1.055309  3.445483  2.224910  0.482825  0.630512\n",
      "2  0.974618  0.266833  0.454726  0.564743  0.893463\n",
      "[[ 0.30691    -0.88169411  0.93977973  0.59658523 -0.92323454]\n",
      " [ 0.05383344  1.23706413  0.79971639 -0.72810061 -0.46122342]\n",
      " [-0.02570918 -1.32113103 -0.78806108 -0.57138472 -0.1126508 ]]\n",
      "0      2.718282\n",
      "1      7.389056\n",
      "2     20.085537\n",
      "3     54.598150\n",
      "4    148.413159\n",
      "dtype: float64\n"
     ]
    }
   ],
   "source": [
    "df = pd.DataFrame(np.random.randn(3, 5))\n",
    "print(df)\n",
    "print(df.T)\n",
    "print(np.exp(df))\n",
    "print(np.asarray(df))\n",
    "\n",
    "s = pd.Series([1, 2, 3, 4, 5])\n",
    "print(np.exp(s))"
   ]
  },
  {
   "cell_type": "markdown",
   "metadata": {},
   "source": [
    "### 丢失的数据"
   ]
  },
  {
   "cell_type": "code",
   "execution_count": 263,
   "metadata": {},
   "outputs": [
    {
     "name": "stdout",
     "output_type": "stream",
     "text": [
      "   one  two  three\n",
      "0  1.0    1    1.0\n",
      "1  2.0    2    NaN\n",
      "2  NaN    3    3.0\n",
      "   one  two  three\n",
      "0  1.0    1    1.0\n",
      "   one  two  three\n",
      "0  1.0    1    1.0\n",
      "   one  two  three\n",
      "0  1.0    1    1.0\n",
      "1  2.0    2    5.0\n",
      "2  5.0    3    3.0\n",
      "     one    two  three\n",
      "0  False  False  False\n",
      "1  False  False   True\n",
      "2   True  False  False\n"
     ]
    }
   ],
   "source": [
    "df = pd.DataFrame({'one': [1, 2, np.nan],\n",
    "                   'two': [1, 2, 3],\n",
    "                   'three': [1, np.nan, 3]})\n",
    "\n",
    "print(df)\n",
    "print(df.dropna())\n",
    "print(df.dropna(how='any'))\n",
    "print(df.fillna(5))\n",
    "print(df.isna())"
   ]
  },
  {
   "cell_type": "markdown",
   "metadata": {},
   "source": [
    "### 其他操作"
   ]
  },
  {
   "cell_type": "code",
   "execution_count": 277,
   "metadata": {},
   "outputs": [
    {
     "name": "stdout",
     "output_type": "stream",
     "text": [
      "    A   B   C\n",
      "0   0   1   2\n",
      "1   3   4   5\n",
      "2   6   7   8\n",
      "3   9  10  11\n",
      "4  12  13  14\n",
      "A    6.0\n",
      "B    7.0\n",
      "C    8.0\n",
      "dtype: float64\n",
      "0     1.0\n",
      "1     4.0\n",
      "2     7.0\n",
      "3    10.0\n",
      "4    13.0\n",
      "dtype: float64\n",
      "A    30\n",
      "B    35\n",
      "C    40\n",
      "dtype: int64\n",
      "0     3\n",
      "1    12\n",
      "2    21\n",
      "3    30\n",
      "4    39\n",
      "dtype: int64\n"
     ]
    }
   ],
   "source": [
    "df = pd.DataFrame(np.arange(15).reshape(5, 3), columns=list('ABC'))\n",
    "\n",
    "print(df)\n",
    "print(df.mean())\n",
    "print(df.mean(1))\n",
    "print(df.sum())\n",
    "print(df.sum(1))"
   ]
  },
  {
   "cell_type": "markdown",
   "metadata": {},
   "source": [
    "apply: 调用函数"
   ]
  },
  {
   "cell_type": "code",
   "execution_count": 315,
   "metadata": {},
   "outputs": [
    {
     "name": "stdout",
     "output_type": "stream",
     "text": [
      "    A   B   C   D   E\n",
      "0   0   1   2   3   4\n",
      "1   5   6   7   8   9\n",
      "2  10  11  12  13  14\n",
      "    A   B   C   D   E\n",
      "0   0   1   2   3   4\n",
      "1   5   7   9  11  13\n",
      "2  15  18  21  24  27\n",
      "A    10\n",
      "B    10\n",
      "C    10\n",
      "D    10\n",
      "E    10\n",
      "dtype: int64\n"
     ]
    }
   ],
   "source": [
    "df = pd.DataFrame(np.arange(15).reshape(3, 5), columns=list('ABCDE'))\n",
    "\n",
    "print(df)\n",
    "print(df.apply(np.cumsum))\n",
    "print(df.apply(lambda x: x.max() - x.min()))"
   ]
  },
  {
   "cell_type": "markdown",
   "metadata": {},
   "source": [
    "直方图函数"
   ]
  },
  {
   "cell_type": "code",
   "execution_count": 295,
   "metadata": {},
   "outputs": [
    {
     "name": "stdout",
     "output_type": "stream",
     "text": [
      "0    6\n",
      "1    0\n",
      "2    6\n",
      "3    1\n",
      "4    0\n",
      "5    2\n",
      "6    4\n",
      "7    0\n",
      "8    4\n",
      "9    1\n",
      "dtype: int64\n",
      "0    3\n",
      "6    2\n",
      "4    2\n",
      "1    2\n",
      "2    1\n",
      "dtype: int64\n"
     ]
    }
   ],
   "source": [
    "s = pd.Series(np.random.randint(0, 7, size=10))\n",
    "print(s)\n",
    "print(s.value_counts())"
   ]
  },
  {
   "cell_type": "markdown",
   "metadata": {},
   "source": [
    "连接函数(concat, merge, append)"
   ]
  },
  {
   "cell_type": "code",
   "execution_count": 341,
   "metadata": {},
   "outputs": [
    {
     "name": "stdout",
     "output_type": "stream",
     "text": [
      "          0         1         2\n",
      "0 -1.285508 -1.324906 -1.168188\n",
      "1  0.305015  1.685790 -2.152666\n",
      "2  2.335725  0.594483 -0.664023\n",
      "3  0.076089 -0.500892 -0.455123\n",
      "4  1.089732  1.439271 -1.482990\n",
      "5  1.519411  0.375227 -0.089621\n",
      "6 -1.454561  0.866731  0.209684\n",
      "7  1.080736  0.447506  0.307102\n",
      "8 -1.015557  0.163751 -0.377634\n",
      "9  0.242297 -0.795961 -0.689897\n",
      "          0         1         2\n",
      "0 -1.179023 -1.164865  1.021659\n",
      "1  1.971447 -0.596679 -1.121079\n",
      "2  1.616161 -0.083754  2.135327\n",
      "3 -0.241179  2.264218 -0.313299\n",
      "4  0.476147  0.124304  1.192932\n",
      "5 -0.882835  1.271724  2.036673\n",
      "6  0.629274  0.553067 -1.548465\n",
      "7 -0.359195  0.136155 -0.604184\n",
      "8  0.816060  0.272584 -1.362648\n",
      "9  0.219129 -0.491771 -1.032331\n",
      "          0         1         2\n",
      "0 -1.285508 -1.324906 -1.168188\n",
      "1  0.305015  1.685790 -2.152666\n",
      "2  2.335725  0.594483 -0.664023\n",
      "1  1.971447 -0.596679 -1.121079\n",
      "2  1.616161 -0.083754  2.135327\n",
      "3 -0.241179  2.264218 -0.313299\n",
      "4  0.476147  0.124304  1.192932\n",
      "5 -0.882835  1.271724  2.036673\n",
      "   key  lval\n",
      "0  foo     1\n",
      "1  foo     2\n",
      "   key  lval\n",
      "0  foo     3\n",
      "1  foo     5\n",
      "   key  lval_x  lval_y\n",
      "0  foo       1       3\n",
      "1  foo       1       5\n",
      "2  foo       2       3\n",
      "3  foo       2       5\n",
      "   key  lval\n",
      "0  foo     1\n",
      "1  bar     2\n",
      "   key  lval\n",
      "0  foo     3\n",
      "1  bar     5\n",
      "   key  lval_x  lval_y\n",
      "0  foo       1       3\n",
      "1  bar       2       5\n",
      "          A         B         C\n",
      "0 -0.572035  0.577242  1.731695\n",
      "1 -2.115274 -0.035542 -0.372391\n",
      "2  0.087752  0.080208  1.893552\n",
      "3 -1.184398  0.100972 -1.780124\n",
      "4  0.395969 -0.514865  0.607185\n",
      "5  0.963038  0.727064 -1.057319\n",
      "6 -0.734579 -0.762502  1.355292\n",
      "7 -0.579828  0.552455 -3.357105\n",
      "          A         B         C\n",
      "0 -0.572035  0.577242  1.731695\n",
      "1 -2.115274 -0.035542 -0.372391\n",
      "2  0.087752  0.080208  1.893552\n",
      "3 -1.184398  0.100972 -1.780124\n",
      "4  0.395969 -0.514865  0.607185\n",
      "5  0.963038  0.727064 -1.057319\n",
      "6 -0.734579 -0.762502  1.355292\n",
      "7 -0.579828  0.552455 -3.357105\n",
      "8 -1.184398  0.100972 -1.780124\n"
     ]
    }
   ],
   "source": [
    "df1 = pd.DataFrame(np.random.randn(10, 3))\n",
    "print(df1)\n",
    "\n",
    "df2 = pd.DataFrame(np.random.randn(10, 3))\n",
    "print(df2)\n",
    "print(pd.concat([df1[:3], df2[1:6]]))\n",
    "\n",
    "df1 = pd.DataFrame({'key': ['foo', 'foo'], 'lval': [1, 2]})\n",
    "df2 = pd.DataFrame({'key': ['foo', 'foo'], 'lval': [3, 5]})\n",
    "print(df1)\n",
    "print(df2)\n",
    "print(pd.merge(df1, df2, on='key'))\n",
    "\n",
    "df1 = pd.DataFrame({'key': ['foo', 'bar'], 'lval': [1, 2]})\n",
    "df2 = pd.DataFrame({'key': ['foo', 'bar'], 'lval': [3, 5]})\n",
    "print(df1)\n",
    "print(df2)\n",
    "print(pd.merge(df1, df2, on='key'))\n",
    "\n",
    "df = pd.DataFrame(np.random.randn(8, 3), columns=list('ABC'))\n",
    "print(df)\n",
    "print(df.append(df.iloc[3], ignore_index=True))"
   ]
  },
  {
   "cell_type": "markdown",
   "metadata": {},
   "source": [
    "Grouping"
   ]
  },
  {
   "cell_type": "code",
   "execution_count": 349,
   "metadata": {},
   "outputs": [
    {
     "name": "stdout",
     "output_type": "stream",
     "text": [
      "     A      B         C         D\n",
      "0  foo    one -0.371973 -0.766346\n",
      "1  bar    one  2.506311  0.081730\n",
      "2  foo    two  1.096826  0.218904\n",
      "3  bar  three  0.377486 -0.966667\n",
      "4  foo    two -0.209624  1.055059\n",
      "5  bar    tow -1.280293 -0.637718\n",
      "6  foo    one  0.035330 -0.061476\n",
      "7  bar  three  0.314974  0.964512\n",
      "            C         D\n",
      "A                      \n",
      "bar  1.918478 -0.558142\n",
      "foo  0.550559  0.446140\n",
      "                  C         D\n",
      "A   B                        \n",
      "bar one    2.506311  0.081730\n",
      "    three  0.692460 -0.002154\n",
      "    tow   -1.280293 -0.637718\n",
      "foo one   -0.336643 -0.827822\n",
      "    two    0.887202  1.273963\n",
      "0  A          foo\n",
      "   B          one\n",
      "   C    -0.371973\n",
      "   D    -0.766346\n",
      "1  A          bar\n",
      "   B          one\n",
      "   C      2.50631\n",
      "   D    0.0817301\n",
      "2  A          foo\n",
      "   B          two\n",
      "   C      1.09683\n",
      "   D     0.218904\n",
      "3  A          bar\n",
      "   B        three\n",
      "   C     0.377486\n",
      "   D    -0.966667\n",
      "4  A          foo\n",
      "   B          two\n",
      "   C    -0.209624\n",
      "   D      1.05506\n",
      "5  A          bar\n",
      "   B          tow\n",
      "   C     -1.28029\n",
      "   D    -0.637718\n",
      "6  A          foo\n",
      "   B          one\n",
      "   C    0.0353301\n",
      "   D   -0.0614763\n",
      "7  A          bar\n",
      "   B        three\n",
      "   C     0.314974\n",
      "   D     0.964512\n",
      "dtype: object\n"
     ]
    }
   ],
   "source": [
    "df = pd.DataFrame({'A': ['foo', 'bar', 'foo', 'bar', 'foo', 'bar', 'foo', 'bar'],\n",
    "                   'B': ['one', 'one', 'two', 'three', 'two', 'tow', 'one', 'three'],\n",
    "                   'C': np.random.randn(8),\n",
    "                   'D': np.random.randn(8)})\n",
    "\n",
    "print(df)\n",
    "print(df.groupby('A').sum())\n",
    "print(df.groupby(['A', 'B']).sum())"
   ]
  },
  {
   "cell_type": "markdown",
   "metadata": {},
   "source": [
    "### Reshaping\n",
    "\n",
    "1. Stack"
   ]
  },
  {
   "cell_type": "code",
   "execution_count": 353,
   "metadata": {},
   "outputs": [
    {
     "name": "stdout",
     "output_type": "stream",
     "text": [
      "     A      B         C         D\n",
      "0  foo    one -0.847904 -1.035614\n",
      "1  bar    one  0.924530 -1.560261\n",
      "2  foo    two -1.702611 -0.494159\n",
      "3  bar  three -0.561232 -0.295863\n",
      "4  foo    two  0.304010  1.960583\n",
      "5  bar    tow -1.065019 -0.193310\n",
      "6  foo    one -1.156186 -0.431564\n",
      "7  bar  three -0.962752  0.784821\n",
      "0  A         foo\n",
      "   B         one\n",
      "   C   -0.847904\n",
      "   D    -1.03561\n",
      "1  A         bar\n",
      "   B         one\n",
      "   C     0.92453\n",
      "   D    -1.56026\n",
      "2  A         foo\n",
      "   B         two\n",
      "   C    -1.70261\n",
      "   D   -0.494159\n",
      "3  A         bar\n",
      "   B       three\n",
      "   C   -0.561232\n",
      "   D   -0.295863\n",
      "4  A         foo\n",
      "   B         two\n",
      "   C     0.30401\n",
      "   D     1.96058\n",
      "5  A         bar\n",
      "   B         tow\n",
      "   C    -1.06502\n",
      "   D    -0.19331\n",
      "6  A         foo\n",
      "   B         one\n",
      "   C    -1.15619\n",
      "   D   -0.431564\n",
      "7  A         bar\n",
      "   B       three\n",
      "   C   -0.962752\n",
      "   D    0.784821\n",
      "dtype: object\n",
      "     A      B         C         D\n",
      "0  foo    one -0.847904  -1.03561\n",
      "1  bar    one   0.92453  -1.56026\n",
      "2  foo    two  -1.70261 -0.494159\n",
      "3  bar  three -0.561232 -0.295863\n",
      "4  foo    two   0.30401   1.96058\n",
      "5  bar    tow  -1.06502  -0.19331\n",
      "6  foo    one  -1.15619 -0.431564\n",
      "7  bar  three -0.962752  0.784821\n"
     ]
    }
   ],
   "source": [
    "df = pd.DataFrame({'A': ['foo', 'bar', 'foo', 'bar', 'foo', 'bar', 'foo', 'bar'],\n",
    "                   'B': ['one', 'one', 'two', 'three', 'two', 'tow', 'one', 'three'],\n",
    "                   'C': np.random.randn(8),\n",
    "                   'D': np.random.randn(8)})\n",
    "\n",
    "print(df)\n",
    "print(df.stack())\n",
    "print(df.stack().unstack())"
   ]
  },
  {
   "cell_type": "markdown",
   "metadata": {},
   "source": [
    "2. Pivot tables"
   ]
  },
  {
   "cell_type": "code",
   "execution_count": 358,
   "metadata": {},
   "outputs": [
    {
     "name": "stdout",
     "output_type": "stream",
     "text": [
      "        A  B    C         D         E\n",
      "0     one  A  foo  0.882803 -1.190901\n",
      "1     one  B  foo -0.640033  1.415144\n",
      "2     two  C  foo  0.583787  0.797457\n",
      "3   three  A  bar -0.159312 -1.775118\n",
      "4     one  B  bar -0.380190  1.120903\n",
      "5     one  C  bar -1.733827 -0.839566\n",
      "6     two  A  foo -2.386614  1.425258\n",
      "7   three  B  foo -0.750410  0.976104\n",
      "8     one  C  foo -0.179076 -0.488516\n",
      "9     one  A  bar  0.044489 -0.178019\n",
      "10    two  B  bar -0.120432  1.975754\n",
      "11  three  C  bar -0.649913  0.320874\n",
      "C             bar       foo\n",
      "A     B                    \n",
      "one   A  0.044489  0.882803\n",
      "      B -0.380190 -0.640033\n",
      "      C -1.733827 -0.179076\n",
      "three A -0.159312       NaN\n",
      "      B       NaN -0.750410\n",
      "      C -0.649913       NaN\n",
      "two   A       NaN -2.386614\n",
      "      B -0.120432       NaN\n",
      "      C       NaN  0.583787\n"
     ]
    }
   ],
   "source": [
    "df = pd.DataFrame({'A': ['one', 'one', 'two', 'three'] * 3,\n",
    "                   'B': ['A', 'B', 'C'] * 4,\n",
    "                   'C': ['foo', 'foo', 'foo', 'bar', 'bar', 'bar'] * 2,\n",
    "                   'D': np.random.randn(12),\n",
    "                   'E': np.random.randn(12)})\n",
    "print(df)\n",
    "print(pd.pivot_table(df, values='D', index=['A', 'B'], columns=['C']))"
   ]
  },
  {
   "cell_type": "markdown",
   "metadata": {},
   "source": [
    "### Time Series"
   ]
  },
  {
   "cell_type": "code",
   "execution_count": 369,
   "metadata": {},
   "outputs": [
    {
     "name": "stdout",
     "output_type": "stream",
     "text": [
      "2000-01-01    282\n",
      "2000-01-02    350\n",
      "2000-01-03    416\n",
      "2000-01-04    158\n",
      "2000-01-05    471\n",
      "             ... \n",
      "2000-04-05    252\n",
      "2000-04-06    160\n",
      "2000-04-07    415\n",
      "2000-04-08    394\n",
      "2000-04-09    387\n",
      "Freq: D, Length: 100, dtype: int64\n",
      "1999-12-31 19:00:00-05:00    282\n",
      "2000-01-01 19:00:00-05:00    350\n",
      "2000-01-02 19:00:00-05:00    416\n",
      "2000-01-03 19:00:00-05:00    158\n",
      "2000-01-04 19:00:00-05:00    471\n",
      "                            ... \n",
      "2000-04-04 20:00:00-04:00    252\n",
      "2000-04-05 20:00:00-04:00    160\n",
      "2000-04-06 20:00:00-04:00    415\n",
      "2000-04-07 20:00:00-04:00    394\n",
      "2000-04-08 20:00:00-04:00    387\n",
      "Freq: D, Length: 100, dtype: int64\n",
      "2000-01-01    282\n",
      "2000-01-02    350\n",
      "2000-01-03    416\n",
      "2000-01-04    158\n",
      "2000-01-05    471\n",
      "             ... \n",
      "2000-04-05    252\n",
      "2000-04-06    160\n",
      "2000-04-07    415\n",
      "2000-04-08    394\n",
      "2000-04-09    387\n",
      "Freq: D, Length: 100, dtype: int64\n"
     ]
    }
   ],
   "source": [
    "rng = pd.date_range('1/1/2000', periods = 100, freq = 'D')\n",
    "\n",
    "ts = pd.Series(np.random.randint(0, 500, len(rng)), index = rng)\n",
    "print(ts)\n",
    "print(ts.tz_localize('UTC').tz_convert('US/Eastern'))\n",
    "print(ts.to_period())"
   ]
  },
  {
   "cell_type": "markdown",
   "metadata": {},
   "source": [
    "### Categoricals"
   ]
  },
  {
   "cell_type": "code",
   "execution_count": 382,
   "metadata": {},
   "outputs": [
    {
     "name": "stdout",
     "output_type": "stream",
     "text": [
      "   id raw_grade\n",
      "0   1         a\n",
      "1   2         b\n",
      "2   3         b\n",
      "3   4         a\n",
      "4   5         a\n",
      "5   6         e\n",
      "   id raw_grade grade\n",
      "0   1         a     a\n",
      "1   2         b     b\n",
      "2   3         b     b\n",
      "3   4         a     a\n",
      "4   5         a     a\n",
      "5   6         e     e\n",
      "   id raw_grade        grade\n",
      "0   1         a    very good\n",
      "1   2         b         good\n",
      "2   3         b         good\n",
      "3   4         a    very good\n",
      "4   5         a    very good\n",
      "5   6         e  very bad...\n",
      "   id raw_grade        grade\n",
      "0   1         a    very good\n",
      "1   2         b         good\n",
      "2   3         b         good\n",
      "3   4         a    very good\n",
      "4   5         a    very good\n",
      "5   6         e  very bad...\n",
      "   id raw_grade        grade\n",
      "5   6         e  very bad...\n",
      "1   2         b         good\n",
      "2   3         b         good\n",
      "0   1         a    very good\n",
      "3   4         a    very good\n",
      "4   5         a    very good\n"
     ]
    }
   ],
   "source": [
    "df = pd.DataFrame({'id': [1, 2, 3, 4, 5, 6],\n",
    "                   'raw_grade': ['a', 'b', 'b', 'a', 'a', 'e']})\n",
    "print(df)\n",
    "df['grade'] = df['raw_grade'].astype('category')\n",
    "print(df)\n",
    "df['grade'].cat.categories = [\"very good\", \"good\", \"very bad\"]\n",
    "print(df)\n",
    "df['grade'] = df['grade'].cat.set_categories([\"very bad\", \"bad\", \"medium\", \"good\", \"very good\"])\n",
    "print(df)\n",
    "print(df.sort_values(by='grade'))"
   ]
  },
  {
   "cell_type": "markdown",
   "metadata": {},
   "source": [
    "### Plotting"
   ]
  },
  {
   "cell_type": "code",
   "execution_count": 396,
   "metadata": {},
   "outputs": [
    {
     "name": "stdout",
     "output_type": "stream",
     "text": [
      "2000-01-01     1.113424\n",
      "2000-01-02     2.443949\n",
      "2000-01-03     2.161802\n",
      "2000-01-04     1.947293\n",
      "2000-01-05     1.475310\n",
      "                ...    \n",
      "2002-09-22   -41.455721\n",
      "2002-09-23   -42.144791\n",
      "2002-09-24   -42.451701\n",
      "2002-09-25   -42.196639\n",
      "2002-09-26   -41.048691\n",
      "Freq: D, Length: 1000, dtype: float64\n"
     ]
    },
    {
     "data": {
      "text/plain": [
       "<matplotlib.axes._subplots.AxesSubplot at 0x1213f83d0>"
      ]
     },
     "execution_count": 396,
     "metadata": {},
     "output_type": "execute_result"
    },
    {
     "data": {
      "image/png": "[encoded data removed]",
      "text/plain": [
       "<Figure size 432x288 with 1 Axes>"
      ]
     },
     "metadata": {
      "needs_background": "light"
     },
     "output_type": "display_data"
    }
   ],
   "source": [
    "ts = pd.Series(np.random.randn(1000), index = pd.date_range('1/1/2000', periods=1000))\n",
    "ts = ts.cumsum()\n",
    "print(ts)\n",
    "\n",
    "ts.plot()"
   ]
  }
 ],
 "metadata": {
  "kernelspec": {
   "display_name": "PyCharm (jupyter)",
   "language": "python",
   "name": "pycharm-34f9d306"
  },
  "language_info": {
   "codemirror_mode": {
    "name": "ipython",
    "version": 3
   },
   "file_extension": ".py",
   "mimetype": "text/x-python",
   "name": "python",
   "nbconvert_exporter": "python",
   "pygments_lexer": "ipython3",
   "version": "3.7.4"
  }
 },
 "nbformat": 4,
 "nbformat_minor": 2
}
