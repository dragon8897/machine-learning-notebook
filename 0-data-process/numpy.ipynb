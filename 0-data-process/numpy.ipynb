{
 "cells": [
  {
   "cell_type": "markdown",
   "source": [
    "# Numpy 基础\n",
    "\n",
    "### 创建 array\n",
    "---\n",
    "\n",
    "导入库文件"
   ],
   "metadata": {
    "collapsed": false,
    "pycharm": {
     "name": "#%% md\n"
    }
   }
  },
  {
   "cell_type": "code",
   "execution_count": 1,
   "outputs": [],
   "source": [
    "import numpy as np\n"
   ],
   "metadata": {
    "collapsed": false,
    "pycharm": {
     "name": "#%%\n",
     "is_executing": false
    }
   }
  },
  {
   "cell_type": "markdown",
   "source": [
    "创建 array\n"
   ],
   "metadata": {
    "collapsed": false,
    "pycharm": {
     "name": "#%% md\n"
    }
   }
  },
  {
   "cell_type": "code",
   "execution_count": 2,
   "outputs": [
    {
     "name": "stdout",
     "text": [
      "[1 2 3] int64\n[1. 2. 3.] float64\n[1.+0.j 2.+0.j 3.+0.j] complex128\n[1 2 3 4 5 6 6]\n[[1]\n [2]\n [3]\n [4]\n [5]]\n"
     ],
     "output_type": "stream"
    }
   ],
   "source": [
    "a = np.array([1, 2, 3])\n",
    "print(a, a.dtype)\n",
    "\n",
    "b = np.array([1., 2., 3.])\n",
    "print(b, b.dtype)\n",
    "\n",
    "c = np.array([1, 2, 3], dtype=complex)\n",
    "print(c, c.dtype)\n",
    "\n",
    "print(np.r_[1:6, 6, 6])\n",
    "print(np.c_[1:6])\n"
   ],
   "metadata": {
    "collapsed": false,
    "pycharm": {
     "name": "#%%\n",
     "is_executing": false
    }
   }
  },
  {
   "cell_type": "markdown",
   "source": [
    "创建 n 维数组\n"
   ],
   "metadata": {
    "collapsed": false,
    "pycharm": {
     "name": "#%% md\n"
    }
   }
  },
  {
   "cell_type": "code",
   "execution_count": 3,
   "outputs": [
    {
     "name": "stdout",
     "text": [
      "[[1. 2. 3.]\n [4. 5. 6.]]\n[(1, 2) (3, 4, 5)] (2,)\n"
     ],
     "output_type": "stream"
    }
   ],
   "source": [
    "b = np.array([(1., 2., 3.), (4., 5., 6.)])\n",
    "print(b)\n",
    "\n",
    "# 错误示例: (维度不对)\n",
    "c = np.array([(1, 2), (3, 4, 5)])\n",
    "print(c, c.shape)\n"
   ],
   "metadata": {
    "collapsed": false,
    "pycharm": {
     "name": "#%%\n",
     "is_executing": false
    }
   }
  },
  {
   "cell_type": "markdown",
   "source": [
    "快速创建方法\n"
   ],
   "metadata": {
    "collapsed": false,
    "pycharm": {
     "name": "#%% md\n"
    }
   }
  },
  {
   "cell_type": "code",
   "execution_count": 4,
   "outputs": [
    {
     "data": {
      "text/plain": "array([[0., 0., 0., 0., 0.],\n       [0., 0., 0., 0., 0.],\n       [0., 0., 0., 0., 0.]])"
     },
     "metadata": {},
     "output_type": "execute_result",
     "execution_count": 4
    }
   ],
   "source": [
    "np.zeros((3, 5))\n"
   ],
   "metadata": {
    "collapsed": false,
    "pycharm": {
     "name": "#%%\n",
     "is_executing": false
    }
   }
  },
  {
   "cell_type": "code",
   "execution_count": 5,
   "outputs": [
    {
     "data": {
      "text/plain": "array([[[1, 1, 1, 1],\n        [1, 1, 1, 1],\n        [1, 1, 1, 1]],\n\n       [[1, 1, 1, 1],\n        [1, 1, 1, 1],\n        [1, 1, 1, 1]]], dtype=int16)"
     },
     "metadata": {},
     "output_type": "execute_result",
     "execution_count": 5
    }
   ],
   "source": [
    "np.ones((2,3,4), dtype=np.int16)\n"
   ],
   "metadata": {
    "collapsed": false,
    "pycharm": {
     "name": "#%%\n",
     "is_executing": false
    }
   }
  },
  {
   "cell_type": "code",
   "execution_count": 6,
   "outputs": [
    {
     "data": {
      "text/plain": "array([[1., 2., 3.],\n       [4., 5., 6.]])"
     },
     "metadata": {},
     "output_type": "execute_result",
     "execution_count": 6
    }
   ],
   "source": [
    "# 结果没有初始化\n",
    "np.empty((2, 3))\n"
   ],
   "metadata": {
    "collapsed": false,
    "pycharm": {
     "name": "#%%\n",
     "is_executing": false
    }
   }
  },
  {
   "cell_type": "markdown",
   "source": [
    "生成序列 number\n"
   ],
   "metadata": {
    "collapsed": false,
    "pycharm": {
     "name": "#%% md\n"
    }
   }
  },
  {
   "cell_type": "code",
   "execution_count": 7,
   "outputs": [
    {
     "data": {
      "text/plain": "array([0, 1, 2, 3, 4, 5, 6, 7, 8, 9])"
     },
     "metadata": {},
     "output_type": "execute_result",
     "execution_count": 7
    }
   ],
   "source": [
    "np.arange(10)\n"
   ],
   "metadata": {
    "collapsed": false,
    "pycharm": {
     "name": "#%%\n",
     "is_executing": false
    }
   }
  },
  {
   "cell_type": "code",
   "execution_count": 8,
   "outputs": [
    {
     "data": {
      "text/plain": "array([10, 15, 20, 25])"
     },
     "metadata": {},
     "output_type": "execute_result",
     "execution_count": 8
    }
   ],
   "source": [
    "np.arange(10, 30, 5)\n"
   ],
   "metadata": {
    "collapsed": false,
    "pycharm": {
     "name": "#%%\n",
     "is_executing": false
    }
   }
  },
  {
   "cell_type": "code",
   "execution_count": 9,
   "outputs": [
    {
     "data": {
      "text/plain": "array([0. , 0.3, 0.6, 0.9, 1.2, 1.5, 1.8])"
     },
     "metadata": {},
     "output_type": "execute_result",
     "execution_count": 9
    }
   ],
   "source": [
    "np.arange(0, 2, 0.3)\n"
   ],
   "metadata": {
    "collapsed": false,
    "pycharm": {
     "name": "#%%\n",
     "is_executing": false
    }
   }
  },
  {
   "cell_type": "code",
   "execution_count": 10,
   "outputs": [
    {
     "data": {
      "text/plain": "array([0.  , 0.25, 0.5 , 0.75, 1.  , 1.25, 1.5 , 1.75, 2.  ])"
     },
     "metadata": {},
     "output_type": "execute_result",
     "execution_count": 10
    }
   ],
   "source": [
    "np.linspace(0, 2, 9)\n"
   ],
   "metadata": {
    "collapsed": false,
    "pycharm": {
     "name": "#%%\n",
     "is_executing": false
    }
   }
  },
  {
   "cell_type": "markdown",
   "source": [
    "1 维转 n 维\n"
   ],
   "metadata": {
    "collapsed": false,
    "pycharm": {
     "name": "#%% md\n"
    }
   }
  },
  {
   "cell_type": "code",
   "execution_count": null,
   "outputs": [
    {
     "data": {
      "text/plain": "array([[0, 1, 2, 3, 4],\n       [5, 6, 7, 8, 9]])"
     },
     "metadata": {},
     "output_type": "execute_result",
     "execution_count": 11
    }
   ],
   "source": [
    "np.arange(10).reshape(2, 5)\n"
   ],
   "metadata": {
    "collapsed": false,
    "pycharm": {
     "name": "#%%\n",
     "is_executing": true
    }
   }
  },
  {
   "cell_type": "code",
   "execution_count": 12,
   "outputs": [
    {
     "traceback": [
      "\u001b[0;31m---------------------------------------------------------------------------\u001b[0m",
      "\u001b[0;31mValueError\u001b[0m                                Traceback (most recent call last)",
      "\u001b[0;32m<ipython-input-12-42dd4c141d37>\u001b[0m in \u001b[0;36m<module>\u001b[0;34m\u001b[0m\n\u001b[1;32m      1\u001b[0m \u001b[0;31m# 错误示例: 维数相乘不相等\u001b[0m\u001b[0;34m\u001b[0m\u001b[0;34m\u001b[0m\u001b[0;34m\u001b[0m\u001b[0m\n\u001b[0;32m----> 2\u001b[0;31m \u001b[0mnp\u001b[0m\u001b[0;34m.\u001b[0m\u001b[0marange\u001b[0m\u001b[0;34m(\u001b[0m\u001b[0;36m10\u001b[0m\u001b[0;34m)\u001b[0m\u001b[0;34m.\u001b[0m\u001b[0mreshape\u001b[0m\u001b[0;34m(\u001b[0m\u001b[0;36m2\u001b[0m\u001b[0;34m,\u001b[0m \u001b[0;36m3\u001b[0m\u001b[0;34m)\u001b[0m\u001b[0;34m\u001b[0m\u001b[0;34m\u001b[0m\u001b[0m\n\u001b[0m\u001b[1;32m      3\u001b[0m \u001b[0;34m\u001b[0m\u001b[0m\n",
      "\u001b[0;31mValueError\u001b[0m: cannot reshape array of size 10 into shape (2,3)"
     ],
     "ename": "ValueError",
     "evalue": "cannot reshape array of size 10 into shape (2,3)",
     "output_type": "error"
    }
   ],
   "source": [
    "# 错误示例: 维数相乘不相等\n",
    "np.arange(10).reshape(2, 3)\n"
   ],
   "metadata": {
    "collapsed": false,
    "pycharm": {
     "name": "#%%\n",
     "is_executing": false
    }
   }
  },
  {
   "cell_type": "markdown",
   "source": [
    "基本操作\n"
   ],
   "metadata": {
    "collapsed": false
   }
  },
  {
   "cell_type": "code",
   "execution_count": null,
   "outputs": [],
   "source": [
    "a = np.array([20, 30, 40, 50, 60])\n",
    "b = np.arange(5)\n",
    "\n",
    "c = a - b\n",
    "print(c)\n",
    "\n",
    "# power\n",
    "print(b**2)\n",
    "\n",
    "print(10 * np.sin(a))\n",
    "\n",
    "print(a < 36)"
   ],
   "metadata": {
    "collapsed": false,
    "pycharm": {
     "name": "#%%\n",
     "is_executing": true
    }
   }
  },
  {
   "cell_type": "markdown",
   "source": [
    "乘法操作\n"
   ],
   "metadata": {
    "collapsed": false
   }
  },
  {
   "cell_type": "code",
   "execution_count": 13,
   "outputs": [
    {
     "name": "stdout",
     "text": [
      "[[2 0]\n [0 4]]\n[[5 4]\n [3 4]]\n[[5 4]\n [3 4]]\n"
     ],
     "output_type": "stream"
    }
   ],
   "source": [
    "A = np.array([[1, 1], \n",
    "              [0, 1]])\n",
    "B = np.array([[2, 0], \n",
    "              [3, 4]])\n",
    "# elementwise product\n",
    "print(A * B)\n",
    "# matrix product\n",
    "print(A @ B)\n",
    "# another matrix product\n",
    "print(A.dot(B))"
   ],
   "metadata": {
    "collapsed": false,
    "pycharm": {
     "name": "#%%\n",
     "is_executing": false
    }
   }
  },
  {
   "cell_type": "markdown",
   "source": [
    "+= 和 *= 等类似操作会改变现有 array\n"
   ],
   "metadata": {
    "collapsed": false
   }
  },
  {
   "cell_type": "code",
   "execution_count": 14,
   "outputs": [
    {
     "name": "stdout",
     "text": [
      "[[1. 1. 1.]\n [1. 1. 1.]]\n[[3. 3. 3.]\n [3. 3. 3.]]\n[[0.42859234 0.13261324 0.03220195]\n [0.89693628 0.88032148 0.99160312]]\n[[3.42859234 3.13261324 3.03220195]\n [3.89693628 3.88032148 3.99160312]]\n"
     ],
     "output_type": "stream"
    }
   ],
   "source": [
    "a = np.ones((2, 3))\n",
    "print(a)\n",
    "a *= 3\n",
    "print(a)\n",
    "\n",
    "b = np.random.random((2, 3))\n",
    "print(b)\n",
    "b += a\n",
    "print(b)"
   ],
   "metadata": {
    "collapsed": false,
    "pycharm": {
     "name": "#%%\n",
     "is_executing": false
    }
   }
  },
  {
   "cell_type": "markdown",
   "source": [
    "数据类型转换\n"
   ],
   "metadata": {
    "collapsed": false
   }
  },
  {
   "cell_type": "code",
   "execution_count": 15,
   "outputs": [
    {
     "name": "stdout",
     "text": [
      "int64 float64\n[[1.51506165 1.79247882 1.30552541]\n [1.53201723 1.55589871 1.74521915]]\n"
     ],
     "output_type": "stream"
    },
    {
     "traceback": [
      "\u001b[0;31m---------------------------------------------------------------------------\u001b[0m",
      "\u001b[0;31mTypeError\u001b[0m                                 Traceback (most recent call last)",
      "\u001b[0;32m<ipython-input-15-0f42d362fa7b>\u001b[0m in \u001b[0;36m<module>\u001b[0;34m\u001b[0m\n\u001b[1;32m      8\u001b[0m \u001b[0;34m\u001b[0m\u001b[0m\n\u001b[1;32m      9\u001b[0m \u001b[0;31m# 错误示例: float -> int\u001b[0m\u001b[0;34m\u001b[0m\u001b[0;34m\u001b[0m\u001b[0;34m\u001b[0m\u001b[0m\n\u001b[0;32m---> 10\u001b[0;31m \u001b[0ma\u001b[0m \u001b[0;34m+=\u001b[0m \u001b[0mb\u001b[0m\u001b[0;34m\u001b[0m\u001b[0;34m\u001b[0m\u001b[0m\n\u001b[0m\u001b[1;32m     11\u001b[0m \u001b[0;34m\u001b[0m\u001b[0m\n",
      "\u001b[0;31mTypeError\u001b[0m: Cannot cast ufunc add output from dtype('float64') to dtype('int64') with casting rule 'same_kind'"
     ],
     "ename": "TypeError",
     "evalue": "Cannot cast ufunc add output from dtype('float64') to dtype('int64') with casting rule 'same_kind'",
     "output_type": "error"
    }
   ],
   "source": [
    "a = np.ones((2, 3), dtype=np.int)\n",
    "b = np.random.random((2, 3))\n",
    "print(a.dtype, b.dtype)\n",
    "\n",
    "# int -> float\n",
    "b += a\n",
    "print(b)\n",
    "\n",
    "# 错误示例: float -> int\n",
    "a += b\n"
   ],
   "metadata": {
    "collapsed": false,
    "pycharm": {
     "name": "#%%\n",
     "is_executing": false
    }
   }
  },
  {
   "cell_type": "markdown",
   "source": [
    "ndarray 的一元操作\n"
   ],
   "metadata": {
    "collapsed": false
   }
  },
  {
   "cell_type": "code",
   "execution_count": 16,
   "outputs": [
    {
     "name": "stdout",
     "text": [
      "[[0.12949135 0.29624386 0.86730455]\n [0.26157833 0.32205075 0.49058799]]\n2.3672568377037355\n",
      "0.12949135280032598\n0.8673045524915247\n[[ 0  1  2  3]\n [ 4  5  6  7]\n [ 8  9 10 11]]\n[12 15 18 21]\n[ 6 22 38]\n[[ 0  1  3  6]\n [ 4  9 15 22]\n [ 8 17 27 38]]\n"
     ],
     "output_type": "stream"
    }
   ],
   "source": [
    "a = np.random.random((2, 3))\n",
    "print(a)\n",
    "print(a.sum())\n",
    "print(a.min())\n",
    "print(a.max())\n",
    "\n",
    "b = np.arange(12).reshape(3, 4)\n",
    "print(b)\n",
    "print(b.sum(axis = 0))\n",
    "print(b.sum(axis = 1))\n",
    "# 每行的累计值\n",
    "print(b.cumsum(axis = 1))"
   ],
   "metadata": {
    "collapsed": false,
    "pycharm": {
     "name": "#%%\n",
     "is_executing": false
    }
   }
  },
  {
   "cell_type": "markdown",
   "source": [
    "通用方法,如: \n",
    "\n",
    "sin, cos, exp, all, any, apply_along_axis, argmax, argmin, argsort, average, bincount, ceil, clip, conj, corrcoef, cov, cross, cumprod, cumsum, diff, dot, floor, inner, inv, lexsort, max, maximum, mean, median, min, minimum, nonzero, outer, prod, re, round, sort, std, sum, trace, transpose, var, vdot, vectorize, where\n"
   ],
   "metadata": {
    "collapsed": false
   }
  },
  {
   "cell_type": "code",
   "execution_count": 17,
   "outputs": [
    {
     "name": "stdout",
     "text": [
      "[0 1 2]\n[1.         2.71828183 7.3890561 ]\n[0.         1.         1.41421356]\n[2. 0. 5.]\n"
     ],
     "output_type": "stream"
    }
   ],
   "source": [
    "B = np.arange(3)\n",
    "print(B)\n",
    "print(np.exp(B))\n",
    "print(np.sqrt(B))\n",
    "\n",
    "C = np.array([2., -1., 3.])\n",
    "print(np.add(B, C))"
   ],
   "metadata": {
    "collapsed": false,
    "pycharm": {
     "name": "#%%\n",
     "is_executing": false
    }
   }
  },
  {
   "cell_type": "markdown",
   "source": [
    "array 的取值,切片和迭代\n"
   ],
   "metadata": {
    "collapsed": false
   }
  },
  {
   "cell_type": "code",
   "source": [
    "a = np.arange(10)**3\n",
    "print(a)\n",
    "print(a[2])\n",
    "print(a[1:6])\n",
    "print(a[:-1])\n",
    "\n",
    "for i in a:\n",
    "    print(i * 3)"
   ],
   "metadata": {
    "collapsed": false,
    "pycharm": {
     "name": "#%% \n",
     "is_executing": false
    }
   },
   "execution_count": 18,
   "outputs": [
    {
     "name": "stdout",
     "text": [
      "[  0   1   8  27  64 125 216 343 512 729]\n8\n[  1   8  27  64 125]\n[  0   1   8  27  64 125 216 343 512]\n0\n3\n24\n81\n192\n375\n648\n1029\n1536\n2187\n"
     ],
     "output_type": "stream"
    }
   ]
  },
  {
   "cell_type": "markdown",
   "source": [
    "多维度 array 取值\n"
   ],
   "metadata": {
    "collapsed": false
   }
  },
  {
   "cell_type": "code",
   "source": [
    "def f(x, y):\n",
    "    return 10 * x + y\n",
    "\n",
    "b = np.fromfunction(f, (5, 4), dtype=np.int)\n",
    "print(b)\n",
    "print(b[2, 3])\n",
    "print(b[:5, 1])\n",
    "print(b[:, 1])\n",
    "print(b[1:3, :])"
   ],
   "metadata": {
    "collapsed": false,
    "pycharm": {
     "name": "#%% \n",
     "is_executing": false
    }
   },
   "execution_count": 19,
   "outputs": [
    {
     "name": "stdout",
     "text": [
      "[[ 0  1  2  3]\n [10 11 12 13]\n [20 21 22 23]\n [30 31 32 33]\n [40 41 42 43]]",
      "\n23\n[ 1 11 21 31 41]\n[ 1 11 21 31 41]\n[[10 11 12 13]\n [20 21 22 23]]\n"
     ],
     "output_type": "stream"
    }
   ]
  },
  {
   "cell_type": "markdown",
   "source": [
    "点操作 (`...`) 代表省略的冒号.如: `x` 为 5 维数组, 则:\n",
    "- `x[1, 2, ...]` = `x[1, 2, :, :, :]`\n",
    "- `x[..., 3]` = `x[:, :, :, :, 3]`\n",
    "- `x[4, ..., 5, :]` = `x[4, :, :, 5, :]`\n"
   ],
   "metadata": {
    "collapsed": false,
    "pycharm": {
     "name": "#%% md\n"
    }
   }
  },
  {
   "cell_type": "code",
   "execution_count": 20,
   "outputs": [
    {
     "name": "stdout",
     "text": [
      "[[[ 1  3  5]\n  [ 2  4  6]]\n\n [[10 12 14]\n  [11 13 15]]]\n[[10 12 14]\n [11 13 15]]\n[[ 5  6]\n [14 15]]\nrow:  [[1 3 5]\n [2 4 6]]\nrow:  [[10 12 14]\n [11 13 15]]\nelement:  1\nelement:  3\nelement:  5\nelement:  2\nelement:  4\nelement:  6\nelement:  10\nelement:  12\nelement:  14\nelement:  11\nelement:  13\nelement:  15\n"
     ],
     "output_type": "stream"
    }
   ],
   "source": [
    "c = np.fromfunction(lambda x, y, z: 10**x + y + 2*z, (2, 2, 3), dtype=np.int)\n",
    "print(c)\n",
    "print(c[1, ...])\n",
    "print(c[..., 2])\n",
    "\n",
    "for row in c:\n",
    "    print('row: ', row)\n",
    "\n",
    "for element in c.flat:\n",
    "    print('element: ', element)"
   ],
   "metadata": {
    "collapsed": false,
    "pycharm": {
     "name": "#%%\n",
     "is_executing": false
    }
   }
  },
  {
   "cell_type": "markdown",
   "source": [
    "维度控制\n"
   ],
   "metadata": {
    "collapsed": false
   }
  },
  {
   "cell_type": "code",
   "source": [
    "a = np.array([[0, 1, 2, 3, 4], \n",
    "              [5, 6, 7, 8, 9], \n",
    "              [10, 11, 12, 13, 14]], order='F')\n",
    "print(a, a.shape)\n",
    "\n",
    "# matrix.flatten : returns a similar output matrix but always a copy\n",
    "# matrix.flat : a flat iterator on the array.\n",
    "# numpy.ravel : related function which returns an ndarray\n",
    "print(a.flatten())\n",
    "print(a.ravel())\n",
    "\n",
    "b = a.reshape(5, 3)\n",
    "print(b, b.shape)\n",
    "\n",
    "c = a.T\n",
    "print(c, c.shape)\n",
    "\n",
    "# 与 array 的 order 有关, 如果是 Fortran 风格的 array ,则与 reshape 的结果不同\n",
    "# 且会改变原 array\n",
    "a.resize(5, 3)\n",
    "print(a, a.shape)"
   ],
   "metadata": {
    "collapsed": false,
    "pycharm": {
     "name": "#%% \n",
     "is_executing": false
    }
   },
   "execution_count": 21,
   "outputs": [
    {
     "name": "stdout",
     "text": [
      "[[ 0  1  2  3  4]\n [ 5  6  7  8  9]\n [10 11 12 13 14]]",
      " (3, 5)\n[ 0  1  2  3  4  5  6  7  8  9 10 11 12 13 14]\n[ 0  1  2  3  4  5  6  7  8  9 10 11 12 13 14]\n[[ 0  1  2]\n [ 3  4  5]\n [ 6  7  8]\n [ 9 10 11]\n [12 13 14]] (5, 3)\n[[ 0  5 10]\n [ 1  6 11]\n [ 2  7 12]\n [ 3  8 13]\n [ 4  9 14]] (5, 3)\n",
      "[[ 0 11  8]\n [ 5  2 13]\n [10  7  4]\n [ 1 12  9]\n [ 6  3 14]] (5, 3)\n"
     ],
     "output_type": "stream"
    }
   ]
  },
  {
   "cell_type": "markdown",
   "source": [
    "array 的连接方法\n"
   ],
   "metadata": {
    "collapsed": false,
    "pycharm": {
     "name": "#%% md\n"
    }
   }
  },
  {
   "cell_type": "code",
   "source": [
    "a = np.array([1, 1, 1])\n",
    "b = np.array([2, 2, 2])\n",
    "print(np.vstack((a, b)))\n",
    "print(np.hstack((a, b)))\n",
    "print(np.column_stack((a, b)))\n",
    "print(np.row_stack((a, b)))\n"
   ],
   "metadata": {
    "collapsed": false,
    "pycharm": {
     "name": "#%% \n",
     "is_executing": false
    }
   },
   "execution_count": 22,
   "outputs": [
    {
     "name": "stdout",
     "text": [
      "[[1 1 1]\n [2 2 2]]\n[1 1 1 2 2 2]\n[[1 2]\n [1 2]\n [1 2]]\n[[1 1 1]\n [2 2 2]]\n"
     ],
     "output_type": "stream"
    }
   ]
  },
  {
   "cell_type": "markdown",
   "source": [
    "array 的分离方法"
   ],
   "metadata": {
    "collapsed": false
   }
  },
  {
   "cell_type": "code",
   "source": [
    "\n",
    "a = np.arange(18).reshape(3, 6)\n",
    "print(a)\n",
    "# 按份数分\n",
    "print(np.hsplit(a, 3))\n",
    "# 按分割线分\n",
    "print(np.hsplit(a, (1, 3)))\n",
    "print(np.vsplit(a, 3))\n",
    "print(np.vsplit(a, (2, 5)))"
   ],
   "metadata": {
    "collapsed": false,
    "pycharm": {
     "name": "#%% \n",
     "is_executing": false
    }
   },
   "execution_count": 50,
   "outputs": [
    {
     "name": "stdout",
     "text": [
      "[[ 0  1  2  3  4  5]\n [ 6  7  8  9 10 11]\n [12 13 14 15 16 17]]\n[array([[ 0,  1],\n       [ 6,  7],\n       [12, 13]]), array([[ 2,  3],\n       [ 8,  9],\n       [14, 15]]), array([[ 4,  5],\n       [10, 11],\n       [16, 17]])]\n[array([[ 0],\n       [ 6],\n       [12]]), array([[ 1,  2],\n       [ 7,  8],\n       [13, 14]]), array([[ 3,  4,  5],\n       [ 9, 10, 11],\n       [15, 16, 17]])]\n[array([[0, 1, 2, 3, 4, 5]]), array([[ 6,  7,  8,  9, 10, 11]]), array([[12, 13, 14, 15, 16, 17]])]\n[array([[ 0,  1,  2,  3,  4,  5],\n       [ 6,  7,  8,  9, 10, 11]]), array([[12, 13, 14, 15, 16, 17]]), array([], shape=(0, 6), dtype=int64)]\n"
     ],
     "output_type": "stream"
    }
   ]
  },
  {
   "cell_type": "markdown",
   "source": [
    "\n",
    "\n",
    "\n",
    "\n",
    "\n",
    "\n",
    "\n",
    "\n",
    "\n",
    "\n",
    "\n",
    "\n",
    "\n",
    "\n",
    "\n",
    "\n",
    "\n",
    "\n",
    "\n",
    "\n",
    "\n",
    "\n",
    "\n",
    "\n",
    "\n",
    "\n",
    "\n",
    "\n",
    "\n",
    "\n",
    "\n",
    "\n",
    "\n",
    "\n",
    "\n",
    "\n"
   ],
   "metadata": {
    "collapsed": false,
    "pycharm": {
     "name": "#%% md\n"
    }
   }
  }
 ],
 "metadata": {
  "language_info": {
   "codemirror_mode": {
    "name": "ipython",
    "version": 2
   },
   "file_extension": ".py",
   "mimetype": "text/x-python",
   "name": "python",
   "nbconvert_exporter": "python",
   "pygments_lexer": "ipython2",
   "version": "2.7.6"
  },
  "kernelspec": {
   "name": "python3",
   "language": "python",
   "display_name": "Python 3"
  },
  "pycharm": {
   "stem_cell": {
    "cell_type": "raw",
    "source": [],
    "metadata": {
     "collapsed": false
    }
   }
  }
 },
 "nbformat": 4,
 "nbformat_minor": 0
}