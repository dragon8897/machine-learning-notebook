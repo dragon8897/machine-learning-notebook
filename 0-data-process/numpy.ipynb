{
 "cells": [
  {
   "cell_type": "markdown",
   "source": [
    "# Numpy 基础\n",
    "\n",
    "### 创建 array\n",
    "---\n",
    "\n",
    "导入库文件"
   ],
   "metadata": {
    "collapsed": false,
    "pycharm": {
     "name": "#%% md\n"
    }
   }
  },
  {
   "cell_type": "code",
   "execution_count": 2,
   "outputs": [],
   "source": [
    "import numpy as np\n"
   ],
   "metadata": {
    "collapsed": false,
    "pycharm": {
     "name": "#%%\n",
     "is_executing": false
    }
   }
  },
  {
   "cell_type": "markdown",
   "source": [
    "创建 array\n"
   ],
   "metadata": {
    "collapsed": false,
    "pycharm": {
     "name": "#%% md\n"
    }
   }
  },
  {
   "cell_type": "code",
   "execution_count": 11,
   "outputs": [
    {
     "name": "stdout",
     "text": [
      "[1 2 3] int64\n[1. 2. 3.] float64\n[1.+0.j 2.+0.j 3.+0.j] complex128\n"
     ],
     "output_type": "stream"
    }
   ],
   "source": [
    "a = np.array([1, 2, 3])\n",
    "print(a, a.dtype)\n",
    "\n",
    "b = np.array([1., 2., 3.])\n",
    "print(b, b.dtype)\n",
    "\n",
    "c = np.array([1, 2, 3], dtype=complex)\n",
    "print(c, c.dtype)\n"
   ],
   "metadata": {
    "collapsed": false,
    "pycharm": {
     "name": "#%%\n",
     "is_executing": false
    }
   }
  },
  {
   "cell_type": "markdown",
   "source": [
    "创建 n 维数组\n"
   ],
   "metadata": {
    "collapsed": false,
    "pycharm": {
     "name": "#%% md\n"
    }
   }
  },
  {
   "cell_type": "code",
   "execution_count": 27,
   "outputs": [
    {
     "name": "stdout",
     "text": [
      "[[1. 2. 3.]\n [4. 5. 6.]]\n[(1, 2) (3, 4, 5)] (2,)\n"
     ],
     "output_type": "stream"
    }
   ],
   "source": [
    "b = np.array([(1., 2., 3.), (4., 5., 6.)])\n",
    "print(b)\n",
    "\n",
    "# 错误示例: (维度不对)\n",
    "c = np.array([(1, 2), (3, 4, 5)])\n",
    "print(c, c.shape)\n"
   ],
   "metadata": {
    "collapsed": false,
    "pycharm": {
     "name": "#%%\n",
     "is_executing": false
    }
   }
  },
  {
   "cell_type": "markdown",
   "source": [
    "快速创建方法\n"
   ],
   "metadata": {
    "collapsed": false,
    "pycharm": {
     "name": "#%% md\n"
    }
   }
  },
  {
   "cell_type": "code",
   "execution_count": 32,
   "outputs": [
    {
     "data": {
      "text/plain": "array([[1.39069238e-309, 1.39069238e-309, 1.39069238e-309],\n       [1.39069238e-309, 1.39069238e-309, 1.39069238e-309]])"
     },
     "metadata": {},
     "output_type": "execute_result",
     "execution_count": 32
    }
   ],
   "source": [
    "np.zeros((3, 5))\n",
    "\n",
    "np.ones((2,3,4), dtype=np.int16)\n",
    "\n",
    "np.empty((2, 3))\n"
   ],
   "metadata": {
    "collapsed": false,
    "pycharm": {
     "name": "#%%\n",
     "is_executing": false
    }
   }
  },
  {
   "cell_type": "markdown",
   "source": [
    "\n",
    "\n",
    "\n",
    "\n",
    "\n",
    "\n",
    "\n",
    "\n",
    "\n",
    "\n",
    "\n",
    "\n",
    "\n",
    "\n",
    "\n",
    "\n",
    "\n",
    "\n",
    "\n",
    "\n",
    "\n",
    "\n",
    "\n",
    "\n",
    "\n",
    "\n",
    "\n",
    "\n",
    "\n",
    "\n",
    "\n",
    "\n",
    "\n",
    "\n",
    "\n"
   ],
   "metadata": {
    "collapsed": false,
    "pycharm": {
     "name": "#%% md\n"
    }
   }
  }
 ],
 "metadata": {
  "language_info": {
   "codemirror_mode": {
    "name": "ipython",
    "version": 2
   },
   "file_extension": ".py",
   "mimetype": "text/x-python",
   "name": "python",
   "nbconvert_exporter": "python",
   "pygments_lexer": "ipython2",
   "version": "2.7.6"
  },
  "kernelspec": {
   "name": "python3",
   "language": "python",
   "display_name": "Python 3"
  },
  "pycharm": {
   "stem_cell": {
    "cell_type": "raw",
    "source": [],
    "metadata": {
     "collapsed": false
    }
   }
  }
 },
 "nbformat": 4,
 "nbformat_minor": 0
}