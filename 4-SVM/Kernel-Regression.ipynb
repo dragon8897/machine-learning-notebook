{
 "cells": [
  {
   "cell_type": "markdown",
   "metadata": {},
   "source": [
    "# Kernal Regression"
   ]
  },
  {
   "cell_type": "markdown",
   "metadata": {},
   "source": [
    "### 生成学习数据"
   ]
  },
  {
   "cell_type": "code",
   "execution_count": 28,
   "metadata": {},
   "outputs": [],
   "source": [
    "import numpy as np\n",
    "\n",
    "def generate_data(num, d=3, intercept=0, std=1):\n",
    "    coef = np.random.uniform(0, 50, size=d)\n",
    "    coef[-1] = intercept\n",
    "\n",
    "    y = []\n",
    "    X = np.random.uniform(-100, 100, size=(num, 1))\n",
    "    for x in X:\n",
    "        val = np.polyval(coef, x) + np.random.normal(0, std)\n",
    "        y.append(val)\n",
    "    y = np.array(y)\n",
    "\n",
    "    return X, y, coef"
   ]
  },
  {
   "cell_type": "code",
   "execution_count": 35,
   "metadata": {},
   "outputs": [
    {
     "data": {
      "image/png": "[encoded data removed]",
      "text/plain": [
       "<Figure size 432x288 with 1 Axes>"
      ]
     },
     "metadata": {
      "needs_background": "light"
     },
     "output_type": "display_data"
    }
   ],
   "source": [
    "import matplotlib.pyplot as plt\n",
    "\n",
    "x, y, _ = generate_data(100)\n",
    "\n",
    "plt.scatter(x, y)\n",
    "plt.show()"
   ]
  },
  {
   "cell_type": "markdown",
   "metadata": {},
   "source": [
    "### 定义[RBFKernel](./kernels.ipynb#Radial-basis-%E6%A0%B8%E5%87%BD%E6%95%B0)"
   ]
  },
  {
   "cell_type": "code",
   "execution_count": 151,
   "metadata": {},
   "outputs": [],
   "source": [
    "def pairwise_l2_distances(X, Y):\n",
    "    D = -2 * X @ Y.T + np.sum(Y ** 2, axis=1) + np.sum(X ** 2, axis=1)[:, np.newaxis]\n",
    "    D[D < 0] = 0  # clip any value less than 0 (a result of numerical imprecision)\n",
    "    return np.sqrt(D)\n",
    "\n",
    "def RBF_kernel(X, Y, sigma):\n",
    "    sigma = np.sqrt(X.shape[1] / 2) if sigma is None else sigma\n",
    "    return np.exp(-0.5 * pairwise_l2_distances(X / sigma, Y / sigma) ** 2)"
   ]
  },
  {
   "cell_type": "markdown",
   "metadata": {},
   "source": [
    "### 分离训练集和测试集"
   ]
  },
  {
   "cell_type": "code",
   "execution_count": 48,
   "metadata": {},
   "outputs": [],
   "source": [
    "def train_test_split(x, y, split_size = 0.7):\n",
    "    m = len(x)\n",
    "    shuffle_idx = np.random.permutation(np.arange(m))\n",
    "    train_size = int(m * split_size)\n",
    "    x_train = x[shuffle_idx[:train_size]]\n",
    "    y_train = y[shuffle_idx[:train_size]]\n",
    "    x_test = x[shuffle_idx[train_size:]]\n",
    "    y_test = y[shuffle_idx[train_size:]]\n",
    "    \n",
    "    return x_train, y_train, x_test, y_test"
   ]
  },
  {
   "cell_type": "markdown",
   "metadata": {},
   "source": [
    "### 训练"
   ]
  },
  {
   "cell_type": "code",
   "execution_count": 89,
   "metadata": {},
   "outputs": [],
   "source": [
    "def fit(x, y):\n",
    "    x_train, y_train, x_test, y_test = train_test_split(x, y)\n",
    "    sim = RBF_kernel(x_train, x_test, 1)\n",
    "    y_pred = np.sum(sim.T @ y_train, axis = 0) / np.sum(sim, axis=0)\n",
    "    loss = np.mean((y_test.flatten() - y_pred.flatten()) ** 2)\n",
    "    return loss"
   ]
  },
  {
   "cell_type": "code",
   "execution_count": 165,
   "metadata": {},
   "outputs": [
    {
     "name": "stdout",
     "output_type": "stream",
     "text": [
      "[[ 14.14213562  14.14213562  14.14213562  14.14213562  14.14213562\n",
      "   14.14213562]\n",
      " [ 53.85164807  53.85164807  53.85164807  53.85164807  53.85164807\n",
      "   53.85164807]\n",
      " [104.88088482 104.88088482 104.88088482 104.88088482 104.88088482\n",
      "  104.88088482]]\n",
      "[[3.72007598e-44 3.72007598e-44 3.72007598e-44 3.72007598e-44\n",
      "  3.72007598e-44 3.72007598e-44]\n",
      " [0.00000000e+00 0.00000000e+00 0.00000000e+00 0.00000000e+00\n",
      "  0.00000000e+00 0.00000000e+00]\n",
      " [0.00000000e+00 0.00000000e+00 0.00000000e+00 0.00000000e+00\n",
      "  0.00000000e+00 0.00000000e+00]]\n"
     ]
    }
   ],
   "source": [
    "print(RBF_kernel(np.arange(9).reshape(3, 3), np.ones((6,3)), 0.1))"
   ]
  }
 ],
 "metadata": {
  "kernelspec": {
   "display_name": "PyCharm (jupyter)",
   "language": "python",
   "name": "pycharm-34f9d306"
  },
  "language_info": {
   "codemirror_mode": {
    "name": "ipython",
    "version": 3
   },
   "file_extension": ".py",
   "mimetype": "text/x-python",
   "name": "python",
   "nbconvert_exporter": "python",
   "pygments_lexer": "ipython3",
   "version": "3.7.4"
  }
 },
 "nbformat": 4,
 "nbformat_minor": 2
}
