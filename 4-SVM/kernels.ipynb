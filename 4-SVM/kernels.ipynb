{
 "cells": [
  {
   "cell_type": "markdown",
   "metadata": {},
   "source": [
    "# Kernels \n",
    "\n",
    "各种核函数汇总"
   ]
  },
  {
   "cell_type": "markdown",
   "metadata": {},
   "source": [
    "### 线性核函数\n",
    "\n",
    "$$\n",
    "K(x,y) = x \\times y + c\n",
    "$$"
   ]
  },
  {
   "cell_type": "code",
   "execution_count": 1,
   "metadata": {},
   "outputs": [],
   "source": [
    "def linear_kernel(X, Y, c0):\n",
    "    \"\"\"\n",
    "    Parameters\n",
    "    ----------\n",
    "    c0 : float\n",
    "        An \"inhomogeneity\" parameter. When `c0` = 0, the kernel is said to be\n",
    "        homogenous. Default is 1.\n",
    "    \"\"\"\n",
    "    return X @ Y.T + c0"
   ]
  },
  {
   "cell_type": "markdown",
   "metadata": {},
   "source": [
    "### 多项式核函数 \n",
    "\n",
    "$$\n",
    "K(x,y) = (\\gamma(x \\times y) + c)^d\n",
    "$$"
   ]
  },
  {
   "cell_type": "code",
   "execution_count": 2,
   "metadata": {},
   "outputs": [],
   "source": [
    "def polynomial_kernel(X, Y, d, gamma, c0):\n",
    "    \"\"\"\n",
    "    Parameters\n",
    "    ----------\n",
    "    d : int\n",
    "        Degree of the polynomial kernel. Default is 3.\n",
    "    gamma : float or None\n",
    "        A scaling parameter for the dot product between `x` and `y`,\n",
    "        determining the amount of smoothing/resonlution of the kernel.\n",
    "        Larger values result in greater smoothing. If None, defaults to 1 /\n",
    "        `C`.  Sometimes referred to as the kernel bandwidth.  Default is\n",
    "        None.\n",
    "    c0 : float\n",
    "        Parameter trading off the influence of higher-order versus lower-order\n",
    "        terms in the polynomial. If `c0` = 0, the kernel is said to be\n",
    "        homogenous. Default is 1.\n",
    "    \"\"\"\n",
    "    gamma = 1 / X.shape[1] if gamma is None else gamma\n",
    "    return (gamma * (X @ Y.T) + c0) ** d"
   ]
  },
  {
   "cell_type": "markdown",
   "metadata": {},
   "source": [
    "### Radial basis 核函数 \n",
    "\n",
    "$$\n",
    "K(x,y) = e^{-\\gamma\\|x -y\\|^2}\n",
    "$$\n",
    "\n",
    "pairwise_l2_distances:\n",
    "\n",
    "A fast, vectorized way to compute pairwise l2 distances between rows in `X` and `Y`.\n",
    "\n",
    "$$\n",
    "\\begin{align*}\n",
    "        d[i, j]  &=  \\sqrt{(x_i - y_i) @ (x_i - y_i)} \\\\\n",
    "                 &=  \\sqrt{sum (x_i - y_j)^2} \\\\\n",
    "                 &=  \\sqrt{sum (x_i)^2 - 2 x_i y_j + (y_j)^2} \\\\\n",
    "\\end{align*}\n",
    "$$"
   ]
  },
  {
   "cell_type": "code",
   "execution_count": 3,
   "metadata": {},
   "outputs": [],
   "source": [
    "def pairwise_l2_distances(X, Y):\n",
    "    \"\"\"\n",
    "    Parameters\n",
    "    ----------\n",
    "    X : :py:class:`ndarray <numpy.ndarray>` of shape `(N, C)`\n",
    "        Collection of `N` input vectors\n",
    "    Y : :py:class:`ndarray <numpy.ndarray>` of shape `(M, C)`\n",
    "        Collection of `M` input vectors. If None, assume `Y` = `X`. Default is\n",
    "        None.\n",
    "\n",
    "    Returns\n",
    "    -------\n",
    "    dists : :py:class:`ndarray <numpy.ndarray>` of shape `(N, M)`\n",
    "        Pairwise distance matrix. Entry (i, j) contains the `L2` distance between\n",
    "        :math:`x_i` and :math:`y_j`.\n",
    "    \"\"\"\n",
    "    D = -2 * X @ Y.T + np.sum(Y ** 2, axis=1) + np.sum(X ** 2, axis=1)[:, np.newaxis]\n",
    "    D[D < 0] = 0  # clip any value less than 0 (a result of numerical imprecision)\n",
    "    return np.sqrt(D)\n",
    "\n",
    "def RBF_kernel(X, Y, sigma):\n",
    "    \"\"\"\n",
    "    Parameters\n",
    "    ----------\n",
    "    sigma : float or array of shape `(C,)` or None\n",
    "        A scaling parameter for the vectors **x** and **y**, producing an\n",
    "        isotropic kernel if a float, or an anistropic kernel if an array of\n",
    "        length `C`.  Larger values result in higher resolution / greater\n",
    "        smoothing. If None, defaults to :math:`\\sqrt(C / 2)`. Sometimes\n",
    "        referred to as the kernel 'bandwidth'. Default is None.\n",
    "    \"\"\"\n",
    "    sigma = np.sqrt(X.shape[1] / 2) if sigma is None else sigma\n",
    "    return np.exp(-0.5 * pairwise_l2_distances(X / sigma, Y / sigma) ** 2)"
   ]
  }
 ],
 "metadata": {
  "kernelspec": {
   "display_name": "PyCharm (jupyter)",
   "language": "python",
   "name": "pycharm-34f9d306"
  },
  "language_info": {
   "codemirror_mode": {
    "name": "ipython",
    "version": 3
   },
   "file_extension": ".py",
   "mimetype": "text/x-python",
   "name": "python",
   "nbconvert_exporter": "python",
   "pygments_lexer": "ipython3",
   "version": "3.7.4"
  }
 },
 "nbformat": 4,
 "nbformat_minor": 2
}
