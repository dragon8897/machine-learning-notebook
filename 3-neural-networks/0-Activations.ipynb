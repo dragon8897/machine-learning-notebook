{
 "cells": [
  {
   "cell_type": "markdown",
   "metadata": {},
   "source": [
    "# 激活函数"
   ]
  },
  {
   "cell_type": "markdown",
   "metadata": {},
   "source": [
    "导入库文件"
   ]
  },
  {
   "cell_type": "code",
   "execution_count": 1,
   "metadata": {},
   "outputs": [],
   "source": [
    "import matplotlib.pyplot as plt\n",
    "import numpy as np"
   ]
  },
  {
   "cell_type": "markdown",
   "metadata": {},
   "source": [
    "### sigmoid\n",
    "\n",
    "$$\n",
    "\\sigma(x) = \\frac{1}{1 + e^{-x}}\n",
    "$$\n",
    "\n",
    "- 1 阶导数\n",
    "    $$\n",
    "    \\frac{\\partial \\sigma}{\\partial x} = \\sigma(x) (1 - \\sigma(x))\n",
    "    $$\n",
    "- 2 阶导数\n",
    "    $$\n",
    "    \\frac{\\partial^2 \\sigma}{\\partial x^2} = \\frac{\\partial \\sigma}{\\partial x} (1 - 2 \\sigma(x))\n",
    "    $$"
   ]
  },
  {
   "cell_type": "code",
   "execution_count": 2,
   "metadata": {},
   "outputs": [],
   "source": [
    "import numpy as np\n",
    "\n",
    "class Sigmoid():\n",
    "    def fn(self, x):\n",
    "        return 1 / (1 + np.exp(-x))\n",
    "\n",
    "    def grad(self, x):\n",
    "        fn_x = self.fn(x)\n",
    "        return fn_x * (1 - fn_x)\n",
    "\n",
    "    def grad2(self, x):\n",
    "        fn_x = self.fn(x)\n",
    "        return fn_x * (1 - fn_x) * (1 - 2 * fn_x)"
   ]
  },
  {
   "cell_type": "code",
   "execution_count": 3,
   "metadata": {},
   "outputs": [
    {
     "data": {
      "image/png": "[encoded data removed]",
      "text/plain": [
       "<Figure size 432x288 with 1 Axes>"
      ]
     },
     "metadata": {
      "needs_background": "light"
     },
     "output_type": "display_data"
    }
   ],
   "source": [
    "x = np.linspace(-5, 5, 50)\n",
    "s = Sigmoid()\n",
    "\n",
    "plt.plot(x, s.fn(x), label=r'$y$')\n",
    "plt.plot(x, s.grad(x), label=r'$\\frac{dy}{dx}$')\n",
    "plt.plot(x, s.grad2(x), label=r'$\\frac{dy^2}{dx^2}$')\n",
    "\n",
    "plt.legend()\n",
    "plt.show()"
   ]
  },
  {
   "cell_type": "markdown",
   "metadata": {},
   "source": [
    "###  ReLU\n",
    "\n",
    "$$\n",
    "\\text{ReLU}(x_i) = \n",
    "\\begin{cases}\n",
    "    &  x_i &&\\text{if }x_i > 0 \\\\\n",
    "    &  0 &&\\text{otherwise}\n",
    "\\end{cases}\n",
    "$$\n",
    "\n",
    "- 1 阶导数\n",
    "    $$\n",
    "    \\frac{\\partial \\text{ReLU}}{\\partial x_i} = \n",
    "    \\begin{cases}\n",
    "        &  1 &&\\text{if }x_i > 0 \\\\\n",
    "        &  0 &&\\text{otherwise}\n",
    "    \\end{cases}\n",
    "    $$\n",
    "- 2 阶导数\n",
    "    $$\n",
    "    \\frac{\\partial^2 \\text{ReLU}}{\\partial x_i^2}  =  0\n",
    "    $$\n"
   ]
  },
  {
   "cell_type": "code",
   "execution_count": 4,
   "metadata": {},
   "outputs": [],
   "source": [
    "class ReLU():\n",
    "    def fn(self, x):\n",
    "        return np.clip(x, 0, np.inf)\n",
    "\n",
    "    def grad(self, x):\n",
    "        return (x > 0).astype(int)\n",
    "\n",
    "    def grad2(self, x):\n",
    "        return np.zeros_like(x)"
   ]
  },
  {
   "cell_type": "code",
   "execution_count": 5,
   "metadata": {},
   "outputs": [
    {
     "data": {
      "image/png": "[encoded data removed]",
      "text/plain": [
       "<Figure size 432x288 with 1 Axes>"
      ]
     },
     "metadata": {
      "needs_background": "light"
     },
     "output_type": "display_data"
    }
   ],
   "source": [
    "x = np.linspace(-5, 5, 50)\n",
    "s = ReLU()\n",
    "\n",
    "plt.plot(x, s.fn(x), label=r'$y$')\n",
    "plt.plot(x, s.grad(x), label=r'$\\frac{dy}{dx}$')\n",
    "plt.plot(x, s.grad2(x), label=r'$\\frac{dy^2}{dx^2}$')\n",
    "\n",
    "plt.legend()\n",
    "plt.show()"
   ]
  },
  {
   "cell_type": "markdown",
   "metadata": {},
   "source": [
    "### LeakyReLU\n",
    "\n",
    "$$\n",
    "            \\text{LeakyReLU}(x_i) = \n",
    "            \\begin{cases}\n",
    "                &=  x_i &&\\text{if } x_i > 0 \\\\\n",
    "                &=  \\alpha x_i &&\\text{otherwise}\n",
    "            \\end{cases}\n",
    "$$\n",
    "\n",
    "- 1 阶导数:\n",
    "    $$\n",
    "            \\frac{\\partial \\text{LeakyReLU}}{\\partial x_i} =\n",
    "            \\begin{cases}\n",
    "                &=  1 &&\\text{if }x_i > 0 \\\\\n",
    "                &=  \\alpha &&\\text{otherwise}\n",
    "            \\end{cases}\n",
    "    $$\n",
    "- 2 阶导数:\n",
    "    $$\n",
    "            \\frac{\\partial^2 \\text{LeakyReLU}}{\\partial x_i^2}  =  0\n",
    "    $$"
   ]
  },
  {
   "cell_type": "code",
   "execution_count": 6,
   "metadata": {},
   "outputs": [],
   "source": [
    "class LeakyReLU():\n",
    "    def __init__(self, alpha=0.3):\n",
    "        self.alpha = alpha\n",
    "    \n",
    "    def fn(self, x):\n",
    "        _x = x.copy()\n",
    "        _x[x < 0] = _x[x < 0] * self.alpha\n",
    "        return _x\n",
    "\n",
    "    def grad(self, x):\n",
    "        out = np.ones_like(x)\n",
    "        out[x < 0] *= self.alpha\n",
    "        return out\n",
    "\n",
    "    def grad2(self, x):\n",
    "        return np.zeros_like(x)\n"
   ]
  },
  {
   "cell_type": "code",
   "execution_count": 7,
   "metadata": {},
   "outputs": [
    {
     "data": {
      "image/png": "[encoded data removed]",
      "text/plain": [
       "<Figure size 432x288 with 1 Axes>"
      ]
     },
     "metadata": {
      "needs_background": "light"
     },
     "output_type": "display_data"
    }
   ],
   "source": [
    "x = np.linspace(-5, 5, 50)\n",
    "s = LeakyReLU()\n",
    "\n",
    "plt.plot(x, s.fn(x), label=r'$y$')\n",
    "plt.plot(x, s.grad(x), label=r'$\\frac{dy}{dx}$')\n",
    "plt.plot(x, s.grad2(x), label=r'$\\frac{dy^2}{dx^2}$')\n",
    "\n",
    "plt.legend()\n",
    "plt.show()"
   ]
  },
  {
   "cell_type": "markdown",
   "metadata": {},
   "source": [
    "### Tanh\n",
    "\n",
    "$$\n",
    "$$\n",
    "\n",
    "- 1 阶导数\n",
    "    $$\n",
    "            \\frac{\\partial \\tanh}{\\partial x_i}  =  1 - \\tanh(x)^2\n",
    "    $$\n",
    "- 2 阶导数\n",
    "    $$\n",
    "            \\frac{\\partial^2 \\tanh}{\\partial x_i^2} =\n",
    "                -2 \\tanh(x) \\left(\\frac{\\partial \\tanh}{\\partial x_i}\\right)\n",
    "    $$"
   ]
  },
  {
   "cell_type": "code",
   "execution_count": 8,
   "metadata": {},
   "outputs": [],
   "source": [
    "class Tanh():\n",
    "    def fn(self, x):\n",
    "        return np.tanh(x)\n",
    "\n",
    "    def grad(self, x):\n",
    "        return 1 - np.tanh(x) ** 2\n",
    "\n",
    "    def grad2(self, x):\n",
    "        tanh_x = np.tanh(x)\n",
    "        return -2 * tanh_x * (1 - tanh_x ** 2)\n"
   ]
  },
  {
   "cell_type": "code",
   "execution_count": 9,
   "metadata": {},
   "outputs": [
    {
     "data": {
      "image/png": "[encoded data removed]",
      "text/plain": [
       "<Figure size 432x288 with 1 Axes>"
      ]
     },
     "metadata": {
      "needs_background": "light"
     },
     "output_type": "display_data"
    }
   ],
   "source": [
    "x = np.linspace(-5, 5, 50)\n",
    "s = Tanh()\n",
    "\n",
    "plt.plot(x, s.fn(x), label=r'$y$')\n",
    "plt.plot(x, s.grad(x), label=r'$\\frac{dy}{dx}$')\n",
    "plt.plot(x, s.grad2(x), label=r'$\\frac{dy^2}{dx^2}$')\n",
    "\n",
    "plt.legend()\n",
    "plt.show()"
   ]
  },
  {
   "cell_type": "code",
   "execution_count": null,
   "metadata": {},
   "outputs": [],
   "source": []
  }
 ],
 "metadata": {
  "kernelspec": {
   "display_name": "PyCharm (jupyter)",
   "language": "python",
   "name": "pycharm-34f9d306"
  },
  "language_info": {
   "codemirror_mode": {
    "name": "ipython",
    "version": 3
   },
   "file_extension": ".py",
   "mimetype": "text/x-python",
   "name": "python",
   "nbconvert_exporter": "python",
   "pygments_lexer": "ipython3",
   "version": "3.7.4"
  }
 },
 "nbformat": 4,
 "nbformat_minor": 2
}
