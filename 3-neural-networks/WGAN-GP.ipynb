{
 "cells": [
  {
   "cell_type": "markdown",
   "metadata": {},
   "source": [
    "# 生成对抗网络"
   ]
  },
  {
   "cell_type": "code",
   "execution_count": 4,
   "metadata": {},
   "outputs": [
    {
     "name": "stdout",
     "output_type": "stream",
     "text": [
      "Extracting ./MNIST_data/train-images-idx3-ubyte.gz\n",
      "Extracting ./MNIST_data/train-labels-idx1-ubyte.gz\n",
      "Extracting ./MNIST_data/t10k-images-idx3-ubyte.gz\n",
      "Extracting ./MNIST_data/t10k-labels-idx1-ubyte.gz\n",
      "epoch 0, D_loss: -0.026107442, G_loss: 0.033424523\n",
      "epoch 1000, D_loss: -4.139182, G_loss: 0.02754787\n",
      "epoch 2000, D_loss: -4.353203, G_loss: -0.25469333\n",
      "epoch 3000, D_loss: -3.9520702, G_loss: -0.2129978\n",
      "epoch 4000, D_loss: -3.904901, G_loss: -0.16549759\n"
     ]
    },
    {
     "data": {
      "image/png": "[encoded data removed]",
      "text/plain": [
       "<Figure size 432x288 with 1 Axes>"
      ]
     },
     "metadata": {
      "needs_background": "light"
     },
     "output_type": "display_data"
    }
   ],
   "source": [
    "import tensorflow as tf\n",
    "from tensorflow.examples.tutorials.mnist import input_data\n",
    "import numpy as np\n",
    "import matplotlib.pyplot as plt\n",
    "\n",
    "mnist = input_data.read_data_sets('./MNIST_data')\n",
    "\n",
    "batch_size = 100\n",
    "width,height = 28,28\n",
    "mnist_dim = width*height\n",
    "random_dim = 10\n",
    "epochs = 5000\n",
    "\n",
    "def my_init(size):\n",
    "    return tf.random_uniform(size, -0.05, 0.05)\n",
    "\n",
    "D_W1 = tf.Variable(my_init([mnist_dim, 128]))\n",
    "D_b1 = tf.Variable(tf.zeros([128]))\n",
    "D_W2 = tf.Variable(my_init([128, 32]))\n",
    "D_b2 = tf.Variable(tf.zeros([32]))\n",
    "D_W3 = tf.Variable(my_init([32, 1]))\n",
    "D_b3 = tf.Variable(tf.zeros([1]))\n",
    "D_variables = [D_W1, D_b1, D_W2, D_b2, D_W3, D_b3]\n",
    "\n",
    "G_W1 = tf.Variable(my_init([random_dim, 32]))\n",
    "G_b1 = tf.Variable(tf.zeros([32]))\n",
    "G_W2 = tf.Variable(my_init([32, 128]))\n",
    "G_b2 = tf.Variable(tf.zeros([128]))\n",
    "G_W3 = tf.Variable(my_init([128, mnist_dim]))\n",
    "G_b3 = tf.Variable(tf.zeros([mnist_dim]))\n",
    "G_variables = [G_W1, G_b1, G_W2, G_b2, G_W3, G_b3]\n",
    "\n",
    "def D(X):\n",
    "    X = tf.nn.relu(tf.matmul(X, D_W1) + D_b1)\n",
    "    X = tf.nn.relu(tf.matmul(X, D_W2) + D_b2)\n",
    "    X = tf.matmul(X, D_W3) + D_b3\n",
    "    return X\n",
    "\n",
    "def G(X):\n",
    "    X = tf.nn.relu(tf.matmul(X, G_W1) + G_b1)\n",
    "    X = tf.nn.relu(tf.matmul(X, G_W2) + G_b2)\n",
    "    X = tf.nn.sigmoid(tf.matmul(X, G_W3) + G_b3)\n",
    "    return X\n",
    "\n",
    "real_X = tf.placeholder(tf.float32, shape=[batch_size, mnist_dim])\n",
    "random_X = tf.placeholder(tf.float32, shape=[batch_size, random_dim])\n",
    "random_Y = G(random_X)\n",
    "\n",
    "eps = tf.random_uniform([batch_size, 1], minval=0., maxval=1.)\n",
    "X_inter = eps*real_X + (1. - eps)*random_Y\n",
    "grad = tf.gradients(D(X_inter), [X_inter])[0]\n",
    "grad_norm = tf.sqrt(tf.reduce_sum((grad)**2, axis=1))\n",
    "grad_pen = 10 * tf.reduce_mean(tf.nn.relu(grad_norm - 1.))\n",
    "\n",
    "D_loss = tf.reduce_mean(D(real_X)) - tf.reduce_mean(D(random_Y)) + grad_pen\n",
    "G_loss = tf.reduce_mean(D(random_Y))\n",
    "\n",
    "D_solver = tf.train.AdamOptimizer(1e-4, 0.5).minimize(D_loss, var_list=D_variables)\n",
    "G_solver = tf.train.AdamOptimizer(1e-4, 0.5).minimize(G_loss, var_list=G_variables)\n",
    "\n",
    "\n",
    "sess = tf.Session()\n",
    "sess.run(tf.global_variables_initializer())\n",
    "\n",
    "\n",
    "for e in range(epochs):\n",
    "    for i in range(5):\n",
    "        real_batch_X,_ = mnist.train.next_batch(batch_size)\n",
    "        random_batch_X = np.random.uniform(-1, 1, (batch_size, random_dim))\n",
    "        _,D_loss_ = sess.run([D_solver,D_loss], feed_dict={real_X:real_batch_X, random_X:random_batch_X})\n",
    "    random_batch_X = np.random.uniform(-1, 1, (batch_size, random_dim))\n",
    "    _,G_loss_ = sess.run([G_solver,G_loss], feed_dict={random_X:random_batch_X})\n",
    "    if e % 1000 == 0:\n",
    "        print('epoch %s, D_loss: %s, G_loss: %s'%(e, D_loss_, G_loss_))\n",
    "        n_rows = 6\n",
    "        check_imgs = sess.run(random_Y, feed_dict={random_X:random_batch_X}).reshape((batch_size, width, height))[:n_rows*n_rows]\n",
    "        for i in range(n_rows*n_rows):\n",
    "            plt.imshow(check_imgs[i])\n",
    "\n",
    "plt.show()"
   ]
  }
 ],
 "metadata": {
  "kernelspec": {
   "display_name": "PyCharm (jupyter)",
   "language": "python",
   "name": "pycharm-34f9d306"
  },
  "language_info": {
   "codemirror_mode": {
    "name": "ipython",
    "version": 3
   },
   "file_extension": ".py",
   "mimetype": "text/x-python",
   "name": "python",
   "nbconvert_exporter": "python",
   "pygments_lexer": "ipython3",
   "version": "3.7.4"
  }
 },
 "nbformat": 4,
 "nbformat_minor": 2
}
