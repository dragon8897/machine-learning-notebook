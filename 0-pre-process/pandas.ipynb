{
 "cells": [
  {
   "cell_type": "markdown",
   "metadata": {},
   "source": [
    "# pandas 基础\n",
    "\n",
    "---\n",
    "\n",
    "导入库文件"
   ]
  },
  {
   "cell_type": "code",
   "execution_count": 1,
   "metadata": {},
   "outputs": [],
   "source": [
    "import numpy as np\n",
    "import pandas as pd"
   ]
  },
  {
   "cell_type": "markdown",
   "metadata": {},
   "source": [
    "### 数据结构\n",
    "\n",
    "##### Series\n",
    "\n",
    "创建 Series"
   ]
  },
  {
   "cell_type": "code",
   "execution_count": 2,
   "metadata": {},
   "outputs": [
    {
     "name": "stdout",
     "output_type": "stream",
     "text": [
      "0    0\n",
      "1    1\n",
      "2    2\n",
      "3    3\n",
      "4    4\n",
      "dtype: int64\n",
      "a    0\n",
      "b    1\n",
      "c    2\n",
      "d    3\n",
      "e    4\n",
      "dtype: int64\n",
      "Index(['a', 'b', 'c', 'd', 'e'], dtype='object')\n",
      "a    0\n",
      "b    1\n",
      "c    2\n",
      "dtype: int64\n",
      "d    NaN\n",
      "c    2.0\n",
      "b    1.0\n",
      "a    0.0\n",
      "dtype: float64\n",
      "a    5\n",
      "b    5\n",
      "c    5\n",
      "d    5\n",
      "e    5\n",
      "dtype: int64\n"
     ]
    }
   ],
   "source": [
    "s = pd.Series(np.arange(5))\n",
    "print(s)\n",
    "s = pd.Series(np.arange(5), index=['a', 'b', 'c', 'd', 'e'])\n",
    "print(s)\n",
    "print(s.index)\n",
    "\n",
    "d = {'a': 0, 'b': 1, 'c':2}\n",
    "s = pd.Series(d)\n",
    "print(s)\n",
    "s = pd.Series(d, index = ['d', 'c', 'b', 'a'])\n",
    "print(s)\n",
    "s = pd.Series(5, index = ['a', 'b', 'c', 'd', 'e'])\n",
    "print(s)"
   ]
  },
  {
   "cell_type": "markdown",
   "metadata": {},
   "source": [
    "取值"
   ]
  },
  {
   "cell_type": "code",
   "execution_count": 3,
   "metadata": {},
   "outputs": [
    {
     "name": "stdout",
     "output_type": "stream",
     "text": [
      "a    10\n",
      "b    11\n",
      "c    12\n",
      "d    13\n",
      "e    14\n",
      "dtype: int64\n",
      "11\n",
      "a    10\n",
      "b    11\n",
      "c    12\n",
      "dtype: int64\n",
      "d    13\n",
      "e    14\n",
      "dtype: int64\n",
      "d    13\n",
      "b    11\n",
      "dtype: int64\n",
      "11\n",
      "True\n",
      "nan\n"
     ]
    }
   ],
   "source": [
    "s = pd.Series(np.arange(5) + 10, index = ['a', 'b', 'c', 'd', 'e'])\n",
    "# index\n",
    "print(s)\n",
    "print(s[1])\n",
    "print(s[:3])\n",
    "print(s[s > s.median()])\n",
    "print(s[[3, 1]])\n",
    "\n",
    "# dict\n",
    "print(s['b'])\n",
    "print('c' in s)\n",
    "print(s.get('f', np.nan))"
   ]
  },
  {
   "cell_type": "markdown",
   "metadata": {},
   "source": [
    "数值操作"
   ]
  },
  {
   "cell_type": "code",
   "execution_count": 4,
   "metadata": {},
   "outputs": [
    {
     "name": "stdout",
     "output_type": "stream",
     "text": [
      "a    0\n",
      "b    2\n",
      "c    4\n",
      "d    6\n",
      "e    8\n",
      "dtype: int64\n",
      "a     0\n",
      "b     3\n",
      "c     6\n",
      "d     9\n",
      "e    12\n",
      "dtype: int64\n",
      "a     1.000000\n",
      "b     2.718282\n",
      "c     7.389056\n",
      "d    20.085537\n",
      "e    54.598150\n",
      "dtype: float64\n",
      "b    1\n",
      "c    2\n",
      "d    3\n",
      "e    4\n",
      "dtype: int64\n",
      "a    NaN\n",
      "b    2.0\n",
      "c    4.0\n",
      "d    6.0\n",
      "e    NaN\n",
      "dtype: float64\n"
     ]
    }
   ],
   "source": [
    "s = pd.Series(np.arange(5), index = ['a', 'b', 'c', 'd', 'e'])\n",
    "print(s + s)\n",
    "print(s * 3)\n",
    "print(np.exp(s))\n",
    "print(s[1:])\n",
    "# 没有相同 labels 时为空\n",
    "print(s[1:] + s[:-1])"
   ]
  },
  {
   "cell_type": "markdown",
   "metadata": {},
   "source": [
    "##### DataFrame\n",
    "\n",
    "创建"
   ]
  },
  {
   "cell_type": "code",
   "execution_count": 5,
   "metadata": {},
   "outputs": [
    {
     "name": "stdout",
     "output_type": "stream",
     "text": [
      "   one  two\n",
      "a  1.0    1\n",
      "b  2.0    2\n",
      "c  3.0    3\n",
      "d  NaN    4\n",
      "   one  two\n",
      "d  NaN    4\n",
      "b  2.0    2\n",
      "a  1.0    1\n",
      "   two three\n",
      "d    4   NaN\n",
      "b    2   NaN\n",
      "a    1   NaN\n"
     ]
    }
   ],
   "source": [
    "# index\n",
    "d = {'one': pd.Series([1, 2, 3], index = ['a', 'b', 'c']),\n",
    "     'two': pd.Series([1, 2, 3, 4], index = ['a', 'b', 'c', 'd'])}\n",
    "\n",
    "df = pd.DataFrame(d)\n",
    "print(df)\n",
    "df = pd.DataFrame(d, index = ['d', 'b', 'a'])\n",
    "print(df)\n",
    "df = pd.DataFrame(d, index = ['d', 'b', 'a'], columns = ['two', 'three'])\n",
    "print(df)"
   ]
  },
  {
   "cell_type": "code",
   "execution_count": 6,
   "metadata": {},
   "outputs": [
    {
     "name": "stdout",
     "output_type": "stream",
     "text": [
      "   one  two\n",
      "0    1    4\n",
      "1    2    3\n",
      "2    3    2\n",
      "3    4    1\n",
      "   one  two\n",
      "a    1    4\n",
      "b    2    3\n",
      "c    3    2\n",
      "d    4    1\n"
     ]
    }
   ],
   "source": [
    "# dict/list\n",
    "d = {'one': [1, 2, 3, 4],\n",
    "     'two': [4, 3, 2, 1]}\n",
    "\n",
    "df = pd.DataFrame(d)\n",
    "print(df)\n",
    "df = pd.DataFrame(d, index = ['a', 'b', 'c', 'd'])\n",
    "print(df)"
   ]
  },
  {
   "cell_type": "code",
   "execution_count": 7,
   "metadata": {},
   "outputs": [
    {
     "name": "stdout",
     "output_type": "stream",
     "text": [
      "[(1, 2., b'Hello') (2, 3., b'Hello')]\n",
      "   A    B         C\n",
      "0  1  2.0  b'Hello'\n",
      "1  2  3.0  b'Hello'\n",
      "        A    B         C\n",
      "first   1  2.0  b'Hello'\n",
      "second  2  3.0  b'Hello'\n",
      "          C    B  A\n",
      "0  b'Hello'  2.0  1\n",
      "1  b'Hello'  3.0  2\n"
     ]
    }
   ],
   "source": [
    "# structured array\n",
    "data = np.zeros((2,), dtype=[('A', 'i4'), ('B', 'f4'), ('C', 'a10')])\n",
    "data[:] = [(1, 2., 'Hello'), (2, 3., 'Hello')]\n",
    "print(data)\n",
    "print(pd.DataFrame(data))\n",
    "print(pd.DataFrame(data, index=['first', 'second']))\n",
    "print(pd.DataFrame(data, columns=['C', 'B', 'A']))"
   ]
  },
  {
   "cell_type": "code",
   "execution_count": 8,
   "metadata": {},
   "outputs": [
    {
     "name": "stdout",
     "output_type": "stream",
     "text": [
      "   a   b     c\n",
      "0  1   2   NaN\n",
      "1  5  10  20.0\n",
      "        a   b     c\n",
      "first   1   2   NaN\n",
      "second  5  10  20.0\n",
      "   a   b\n",
      "0  1   2\n",
      "1  5  10\n"
     ]
    }
   ],
   "source": [
    "# list of dicts\n",
    "data = [{'a':  1, 'b': 2}, {'a': 5, 'b': 10, 'c': 20}]\n",
    "print(pd.DataFrame(data))\n",
    "print(pd.DataFrame(data, index=['first', 'second']))\n",
    "print(pd.DataFrame(data, columns=['a', 'b']))"
   ]
  },
  {
   "cell_type": "code",
   "execution_count": 9,
   "metadata": {},
   "outputs": [
    {
     "data": {
      "text/html": [
       "<div>\n",
       "<style scoped>\n",
       "    .dataframe tbody tr th:only-of-type {\n",
       "        vertical-align: middle;\n",
       "    }\n",
       "\n",
       "    .dataframe tbody tr th {\n",
       "        vertical-align: top;\n",
       "    }\n",
       "\n",
       "    .dataframe thead tr th {\n",
       "        text-align: left;\n",
       "    }\n",
       "</style>\n",
       "<table border=\"1\" class=\"dataframe\">\n",
       "  <thead>\n",
       "    <tr>\n",
       "      <th></th>\n",
       "      <th></th>\n",
       "      <th colspan=\"3\" halign=\"left\">a</th>\n",
       "      <th colspan=\"2\" halign=\"left\">b</th>\n",
       "    </tr>\n",
       "    <tr>\n",
       "      <th></th>\n",
       "      <th></th>\n",
       "      <th>b</th>\n",
       "      <th>a</th>\n",
       "      <th>c</th>\n",
       "      <th>a</th>\n",
       "      <th>b</th>\n",
       "    </tr>\n",
       "  </thead>\n",
       "  <tbody>\n",
       "    <tr>\n",
       "      <th rowspan=\"3\" valign=\"top\">A</th>\n",
       "      <th>B</th>\n",
       "      <td>1.0</td>\n",
       "      <td>4.0</td>\n",
       "      <td>5.0</td>\n",
       "      <td>8.0</td>\n",
       "      <td>10.0</td>\n",
       "    </tr>\n",
       "    <tr>\n",
       "      <th>C</th>\n",
       "      <td>2.0</td>\n",
       "      <td>3.0</td>\n",
       "      <td>6.0</td>\n",
       "      <td>7.0</td>\n",
       "      <td>NaN</td>\n",
       "    </tr>\n",
       "    <tr>\n",
       "      <th>D</th>\n",
       "      <td>NaN</td>\n",
       "      <td>NaN</td>\n",
       "      <td>NaN</td>\n",
       "      <td>NaN</td>\n",
       "      <td>9.0</td>\n",
       "    </tr>\n",
       "  </tbody>\n",
       "</table>\n",
       "</div>"
      ],
      "text/plain": [
       "       a              b      \n",
       "       b    a    c    a     b\n",
       "A B  1.0  4.0  5.0  8.0  10.0\n",
       "  C  2.0  3.0  6.0  7.0   NaN\n",
       "  D  NaN  NaN  NaN  NaN   9.0"
      ]
     },
     "execution_count": 9,
     "metadata": {},
     "output_type": "execute_result"
    }
   ],
   "source": [
    "# dict of tuples\n",
    "pd.DataFrame({('a', 'b'): {('A', 'B'): 1, ('A', 'C'): 2},\n",
    "              ('a', 'a'): {('A', 'C'): 3, ('A', 'B'): 4},\n",
    "              ('a', 'c'): {('A', 'B'): 5, ('A', 'C'): 6},\n",
    "              ('b', 'a'): {('A', 'C'): 7, ('A', 'B'): 8},\n",
    "              ('b', 'b'): {('A', 'D'): 9, ('A', 'B'): 10}})"
   ]
  },
  {
   "cell_type": "code",
   "execution_count": 10,
   "metadata": {},
   "outputs": [
    {
     "data": {
      "text/html": [
       "<div>\n",
       "<style scoped>\n",
       "    .dataframe tbody tr th:only-of-type {\n",
       "        vertical-align: middle;\n",
       "    }\n",
       "\n",
       "    .dataframe tbody tr th {\n",
       "        vertical-align: top;\n",
       "    }\n",
       "\n",
       "    .dataframe thead th {\n",
       "        text-align: right;\n",
       "    }\n",
       "</style>\n",
       "<table border=\"1\" class=\"dataframe\">\n",
       "  <thead>\n",
       "    <tr style=\"text-align: right;\">\n",
       "      <th></th>\n",
       "      <th>0</th>\n",
       "      <th>1</th>\n",
       "      <th>2</th>\n",
       "    </tr>\n",
       "  </thead>\n",
       "  <tbody>\n",
       "    <tr>\n",
       "      <th>A</th>\n",
       "      <td>1</td>\n",
       "      <td>2</td>\n",
       "      <td>3</td>\n",
       "    </tr>\n",
       "    <tr>\n",
       "      <th>B</th>\n",
       "      <td>4</td>\n",
       "      <td>5</td>\n",
       "      <td>6</td>\n",
       "    </tr>\n",
       "  </tbody>\n",
       "</table>\n",
       "</div>"
      ],
      "text/plain": [
       "   0  1  2\n",
       "A  1  2  3\n",
       "B  4  5  6"
      ]
     },
     "execution_count": 10,
     "metadata": {},
     "output_type": "execute_result"
    }
   ],
   "source": [
    "# from_dict 可设置 orient 转换行和列\n",
    "pd.DataFrame.from_dict(dict([('A', [1, 2, 3]), ('B', [4, 5, 6])]), orient='index')"
   ]
  },
  {
   "cell_type": "code",
   "execution_count": 11,
   "metadata": {},
   "outputs": [
    {
     "name": "stdout",
     "output_type": "stream",
     "text": [
      "[(1, 2., b'Hello') (2, 3., b'World')]\n",
      "   A    B         C\n",
      "x  1  2.0  b'Hello'\n",
      "y  2  3.0  b'World'\n",
      "   A    B         C\n",
      "0  1  2.0  b'Hello'\n",
      "1  2  3.0  b'World'\n",
      "   A    B         C\n",
      "x  1  2.0  b'Hello'\n",
      "y  2  3.0  b'World'\n",
      "     A         C\n",
      "B               \n",
      "2.0  1  b'Hello'\n",
      "3.0  2  b'World'\n",
      "          A    B\n",
      "C               \n",
      "b'Hello'  1  2.0\n",
      "b'World'  2  3.0\n"
     ]
    }
   ],
   "source": [
    "# from_records 可使用 index 设置列\n",
    "data = np.array([(1, 2., b'Hello'), (2, 3., b'World')], dtype=[('A', '<i4'), ('B', '<f4'), ('C', 'S10')])\n",
    "print(data)\n",
    "print(pd.DataFrame(data, index=['x', 'y']))\n",
    "print(pd.DataFrame.from_records(data))\n",
    "print(pd.DataFrame.from_records(data, index=['x', 'y']))\n",
    "print(pd.DataFrame.from_records(data, index='B'))\n",
    "print(pd.DataFrame.from_records(data, index='C'))"
   ]
  },
  {
   "cell_type": "markdown",
   "metadata": {},
   "source": [
    "### 数据操作"
   ]
  },
  {
   "cell_type": "code",
   "execution_count": 40,
   "metadata": {},
   "outputs": [
    {
     "name": "stdout",
     "output_type": "stream",
     "text": [
      "   one  two  three\n",
      "a    1    1      2\n",
      "b    2    2      4\n",
      "c    3    3      9\n",
      "   one  two  three   flag\n",
      "a    1    1      1  False\n",
      "b    2    2      4   True\n",
      "c    3    3      9   True\n",
      "   one  three   flag\n",
      "a    1      1  False\n",
      "b    2      4   True\n",
      "c    3      9   True\n",
      "   one   flag\n",
      "a    1  False\n",
      "b    2   True\n",
      "c    3   True\n",
      "   one   flag  foo\n",
      "a    1  False  bar\n",
      "b    2   True  bar\n",
      "c    3   True  bar\n",
      "   one   flag  foo  one_trunc\n",
      "a    1  False  bar        1.0\n",
      "b    2   True  bar        2.0\n",
      "c    3   True  bar        NaN\n",
      "   one  bar   flag  foo  one_trunc\n",
      "a    1    1  False  bar        1.0\n",
      "b    2    2   True  bar        2.0\n",
      "c    3    3   True  bar        NaN\n",
      "5\n",
      "   one  bar   flag  foo  one_trunc\n",
      "a    5    1  False  bar        1.0\n",
      "b    2    2   True  bar        2.0\n",
      "c    3    3   True  bar        NaN\n"
     ]
    }
   ],
   "source": [
    "df = pd.DataFrame({'one': [1, 2, 3], \n",
    "                   'two': [1, 2, 3], \n",
    "                   'three': [2, 4, 9]}, index=['a', 'b', 'c'])\n",
    "print(df)\n",
    "\n",
    "df['three'] = df['one'] * df['two']\n",
    "df['flag'] = df['one'] > 1\n",
    "print(df)\n",
    "\n",
    "del df['two']\n",
    "print(df)\n",
    "three = df.pop('three')\n",
    "print(df)\n",
    "\n",
    "df['foo'] = 'bar'\n",
    "print(df)\n",
    "\n",
    "df['one_trunc'] = df['one'][:2]\n",
    "print(df)\n",
    "\n",
    "df.insert(1, 'bar', df['one'])\n",
    "print(df)\n",
    "df.at['a', 'one'] = 5\n",
    "print(df['one']['a'])\n",
    "print(df)"
   ]
  },
  {
   "cell_type": "code",
   "execution_count": 13,
   "metadata": {},
   "outputs": [
    {
     "name": "stdout",
     "output_type": "stream",
     "text": [
      "   one  two  three\n",
      "a    1    1      2\n",
      "b    2    2      4\n",
      "c    3    3      9\n",
      "   one  two  three     other\n",
      "a    1    1      2  0.500000\n",
      "b    2    2      4  0.500000\n",
      "c    3    3      9  0.333333\n",
      "   one  two  three\n",
      "a    1    1      2\n",
      "b    2    2      4\n",
      "c    3    3      9\n",
      "   one  two  three  other\n",
      "a    1    1      2      2\n",
      "b    2    2      4      3\n",
      "c    3    3      9      4\n"
     ]
    }
   ],
   "source": [
    "df = pd.DataFrame({'one': [1, 2, 3], \n",
    "                   'two': [1, 2, 3], \n",
    "                   'three': [2, 4, 9]}, index=['a', 'b', 'c'])\n",
    "\n",
    "dff = df.assign(other=df['one'] / df['three'])\n",
    "print(df)\n",
    "print(dff)\n",
    "dff = df.assign(other=lambda x: x['one'] + 1)\n",
    "print(df)\n",
    "print(dff)"
   ]
  },
  {
   "cell_type": "code",
   "execution_count": 14,
   "metadata": {},
   "outputs": [
    {
     "name": "stdout",
     "output_type": "stream",
     "text": [
      "   one  two  three\n",
      "a    1    1      2\n",
      "b    2    2      4\n",
      "c    3    3      9\n",
      "one      2\n",
      "two      2\n",
      "three    4\n",
      "Name: b, dtype: int64\n",
      "one      3\n",
      "two      3\n",
      "three    9\n",
      "Name: c, dtype: int64\n",
      "9\n",
      "   one  two  three\n",
      "a    1    1      2\n",
      "b    2    2      4\n"
     ]
    }
   ],
   "source": [
    "df = pd.DataFrame({'one': [1, 2, 3], \n",
    "                   'two': [1, 2, 3], \n",
    "                   'three': [2, 4, 9]}, index=['a', 'b', 'c'])\n",
    "\n",
    "print(df)\n",
    "print(df.loc['b'])\n",
    "print(df.iloc[2])\n",
    "print(df.loc['c', 'three'])\n",
    "print(df.loc['a':'b'])"
   ]
  },
  {
   "cell_type": "code",
   "execution_count": 15,
   "metadata": {},
   "outputs": [
    {
     "name": "stdout",
     "output_type": "stream",
     "text": [
      "   one  two  three\n",
      "a    1    1      2\n",
      "b    2    2      4\n",
      "c    3    3      9\n",
      "   one  two  three\n",
      "b    2    2      4\n",
      "c    3    3      9\n",
      "   one  two  three\n",
      "a  NaN  NaN      2\n",
      "b  2.0  2.0      4\n",
      "c  3.0  3.0      9\n",
      "   one  two  three\n",
      "a    1    1      2\n",
      "c    3    3      9\n"
     ]
    }
   ],
   "source": [
    "df = pd.DataFrame({'one': [1, 2, 3], \n",
    "                   'two': [1, 2, 3], \n",
    "                   'three': [2, 4, 9]}, index=['a', 'b', 'c'])\n",
    "\n",
    "print(df)\n",
    "print(df[df.one > 1])\n",
    "print(df[df > 1])\n",
    "print(df[df.two.isin([1, 3])])"
   ]
  },
  {
   "cell_type": "markdown",
   "metadata": {},
   "source": [
    "### 算术运算"
   ]
  },
  {
   "cell_type": "code",
   "execution_count": 16,
   "metadata": {},
   "outputs": [
    {
     "name": "stdout",
     "output_type": "stream",
     "text": [
      "          a         b         c   d   e\n",
      "0  3.330750  2.085646  4.134636 NaN NaN\n",
      "1  2.522848 -1.417129  0.054945 NaN NaN\n",
      "2 -1.615018  0.710973  0.273414 NaN NaN\n",
      "3 -0.877516 -2.186180 -2.070944 NaN NaN\n",
      "4  0.065184 -0.611641 -0.981919 NaN NaN\n",
      "5  0.111324 -1.800228 -0.384548 NaN NaN\n",
      "6  1.266283 -0.811280 -1.975692 NaN NaN\n",
      "7       NaN       NaN       NaN NaN NaN\n",
      "8       NaN       NaN       NaN NaN NaN\n",
      "9       NaN       NaN       NaN NaN NaN\n",
      "          a         b         c         d         e\n",
      "0  0.000000  0.000000  0.000000  0.000000  0.000000\n",
      "1  0.273008 -4.092552 -1.929524 -1.861572  2.033297\n",
      "2 -1.376759 -2.965392 -1.821963 -3.969247  1.824151\n",
      "3 -0.394945 -3.302974 -2.252613 -1.263425  0.675627\n",
      "4 -0.665777 -3.099852 -1.915899 -0.217539  1.318769\n",
      "5  0.752806 -4.868927 -0.774219 -1.909848  2.505260\n",
      "6 -0.100766 -3.391954 -2.407273 -2.018001  2.319248\n",
      "7 -0.770945 -3.520691 -2.250355  0.100463  1.357207\n",
      "8 -1.183263 -4.727772 -0.467288 -1.126362  1.923501\n",
      "9 -0.765361 -3.435360 -2.289108 -1.670994  3.169582\n",
      "          a          b         c          d         e\n",
      "0  4.742596  16.084481  8.313552   7.457691 -9.779790\n",
      "1  6.107636  -4.378279 -1.334069  -1.850170  0.386694\n",
      "2 -2.141198   1.257521 -0.796265 -12.388543 -0.659033\n",
      "3  2.767873  -0.430392 -2.949513   1.140565 -6.401656\n",
      "4  1.413712   0.585221 -1.265944   6.369995 -3.185947\n",
      "5  8.506626  -8.260156  4.442455  -2.091551  2.746512\n",
      "6  4.238767  -0.875289 -3.722814  -2.632314  1.816452\n",
      "7  0.887873  -1.518977 -2.938223   7.960008 -2.993754\n",
      "8 -1.173719  -7.554380  5.977114   1.825883 -0.162287\n",
      "9  0.915793  -1.092321 -3.131989  -0.897277  6.068122\n",
      "          a         b         c          d          e\n",
      "0  1.823090  0.355001  0.791947   0.916138  -0.424456\n",
      "1  1.217245 -0.783910 -1.499669  -1.298644  -3.099226\n",
      "2 -1.207380 -6.734196 -1.788099  -0.347499  -1.880383\n",
      "3  6.511496 -2.057282 -1.010200  -5.817775  -0.595121\n",
      "4 -8.528239 -3.534122 -1.530951   1.144166  -0.964144\n",
      "5  0.768447 -0.487322  2.047120  -1.222030   6.697819\n",
      "6  2.233372 -1.738955 -0.873696  -1.079374 -27.240856\n",
      "7 -4.495890 -1.420868 -1.012510   0.838925  -1.001251\n",
      "8 -1.575439 -0.523320  1.257193 -28.716366  -2.312367\n",
      "9 -4.611666 -1.616909 -0.974281  -1.725758   1.229068\n",
      "          a          b         c          d          e\n",
      "0  0.090525  62.962697  2.542231   1.419566  30.808473\n",
      "1  0.455499   2.648098  0.197705   0.351592   0.010839\n",
      "2  0.470570   0.000486  0.097821  68.578385   0.079986\n",
      "3  0.000556   0.055825  0.960218   0.000873   7.972225\n",
      "4  0.000189   0.006410  0.182035   0.583504   1.157264\n",
      "5  2.867763  17.731105  0.056941   0.448406   0.000497\n",
      "6  0.040194   0.109357  1.716163   0.736736   0.000002\n",
      "7  0.002448   0.245350  0.951487   2.018865   0.995012\n",
      "8  0.162328  13.333067  0.400306   0.000001   0.034976\n",
      "9  0.002211   0.146305  1.109846   0.112741   0.438224\n"
     ]
    }
   ],
   "source": [
    "df = pd.DataFrame(np.random.randn(10, 5), columns=['a', 'b', 'c', 'd', 'e'])\n",
    "df2 = pd.DataFrame(np.random.randn(7, 3), columns=['a', 'b', 'c'])\n",
    "\n",
    "print(df + df2)\n",
    "print(df - df.iloc[0])\n",
    "print(df * 5 + 2)\n",
    "print(1 / df)\n",
    "print(df ** 4)"
   ]
  },
  {
   "cell_type": "markdown",
   "metadata": {},
   "source": [
    "**包含 date 的运算**\n",
    "\n",
    "会列向广播"
   ]
  },
  {
   "cell_type": "code",
   "execution_count": 17,
   "metadata": {},
   "outputs": [
    {
     "name": "stdout",
     "output_type": "stream",
     "text": [
      "                   A         B         C\n",
      "2000-01-01  0.692553  0.349052 -0.304831\n",
      "2000-01-02 -0.564191 -0.434350  0.808060\n",
      "2000-01-03 -0.730110 -0.454349 -0.366816\n",
      "2000-01-04 -0.610859 -0.075399  0.130657\n",
      "2000-01-05 -0.816259 -1.719771 -0.845364\n",
      "2000-01-06  0.042271 -0.395275 -0.339231\n",
      "2000-01-07  0.822979 -0.829899 -0.029342\n",
      "2000-01-08 -0.026568 -1.166015  0.012877\n",
      "            2000-01-01 00:00:00  2000-01-02 00:00:00  2000-01-03 00:00:00  \\\n",
      "2000-01-01                  NaN                  NaN                  NaN   \n",
      "2000-01-02                  NaN                  NaN                  NaN   \n",
      "2000-01-03                  NaN                  NaN                  NaN   \n",
      "2000-01-04                  NaN                  NaN                  NaN   \n",
      "2000-01-05                  NaN                  NaN                  NaN   \n",
      "2000-01-06                  NaN                  NaN                  NaN   \n",
      "2000-01-07                  NaN                  NaN                  NaN   \n",
      "2000-01-08                  NaN                  NaN                  NaN   \n",
      "\n",
      "            2000-01-04 00:00:00  2000-01-05 00:00:00  2000-01-06 00:00:00  \\\n",
      "2000-01-01                  NaN                  NaN                  NaN   \n",
      "2000-01-02                  NaN                  NaN                  NaN   \n",
      "2000-01-03                  NaN                  NaN                  NaN   \n",
      "2000-01-04                  NaN                  NaN                  NaN   \n",
      "2000-01-05                  NaN                  NaN                  NaN   \n",
      "2000-01-06                  NaN                  NaN                  NaN   \n",
      "2000-01-07                  NaN                  NaN                  NaN   \n",
      "2000-01-08                  NaN                  NaN                  NaN   \n",
      "\n",
      "            2000-01-07 00:00:00  2000-01-08 00:00:00   A   B   C  \n",
      "2000-01-01                  NaN                  NaN NaN NaN NaN  \n",
      "2000-01-02                  NaN                  NaN NaN NaN NaN  \n",
      "2000-01-03                  NaN                  NaN NaN NaN NaN  \n",
      "2000-01-04                  NaN                  NaN NaN NaN NaN  \n",
      "2000-01-05                  NaN                  NaN NaN NaN NaN  \n",
      "2000-01-06                  NaN                  NaN NaN NaN NaN  \n",
      "2000-01-07                  NaN                  NaN NaN NaN NaN  \n",
      "2000-01-08                  NaN                  NaN NaN NaN NaN  \n"
     ]
    }
   ],
   "source": [
    "index = pd.date_range('1/1/2000', periods = 8)\n",
    "\n",
    "df = pd.DataFrame(np.random.randn(8, 3), index = index, columns = list('ABC'))\n",
    "print(df)\n",
    "\n",
    "print(df - df['A'])"
   ]
  },
  {
   "cell_type": "markdown",
   "metadata": {},
   "source": [
    "### 逻辑运算"
   ]
  },
  {
   "cell_type": "code",
   "execution_count": 18,
   "metadata": {},
   "outputs": [
    {
     "name": "stdout",
     "output_type": "stream",
     "text": [
      "       a      b\n",
      "0   True  False\n",
      "1  False   True\n",
      "2   True   True\n",
      "       a      b\n",
      "0  False  False\n",
      "1  False   True\n",
      "2   True  False\n",
      "      a     b\n",
      "0  True  True\n",
      "1  True  True\n",
      "2  True  True\n",
      "       a      b\n",
      "0   True   True\n",
      "1   True  False\n",
      "2  False   True\n",
      "       a      b\n",
      "0  False   True\n",
      "1   True  False\n",
      "2  False  False\n"
     ]
    }
   ],
   "source": [
    "df1 = pd.DataFrame({'a': [3, 0, -1], 'b': [0, 1, 1]}, dtype=bool)\n",
    "df2 = pd.DataFrame({'a': [0, 1, 1], 'b': [1, 1, 0]}, dtype=bool)\n",
    "\n",
    "print(df1)\n",
    "print(df1 & df2)\n",
    "print(df1 | df2)\n",
    "print(df1 ^ df2)\n",
    "print(-df1)"
   ]
  },
  {
   "cell_type": "markdown",
   "metadata": {},
   "source": [
    "### 使用 numpy 库"
   ]
  },
  {
   "cell_type": "code",
   "execution_count": 19,
   "metadata": {},
   "outputs": [
    {
     "name": "stdout",
     "output_type": "stream",
     "text": [
      "          0         1         2         3         4\n",
      "0  2.087496 -0.478904 -0.333340  1.174382 -0.287025\n",
      "1  0.307408 -0.743478  0.890287 -0.547813 -1.662365\n",
      "2  0.433934 -0.622469 -0.036222 -1.220431 -0.935433\n",
      "          0         1         2\n",
      "0  2.087496  0.307408  0.433934\n",
      "1 -0.478904 -0.743478 -0.622469\n",
      "2 -0.333340  0.890287 -0.036222\n",
      "3  1.174382 -0.547813 -1.220431\n",
      "4 -0.287025 -1.662365 -0.935433\n",
      "          0         1         2         3         4\n",
      "0  8.064694  0.619462  0.716527  3.236143  0.750493\n",
      "1  1.359896  0.475457  2.435829  0.578213  0.189690\n",
      "2  1.543317  0.536618  0.964426  0.295103  0.392416\n",
      "[[ 2.08749578 -0.4789036  -0.33333966  1.1743822  -0.28702489]\n",
      " [ 0.30740832 -0.74347849  0.8902872  -0.54781276 -1.66236498]\n",
      " [ 0.43393405 -0.62246883 -0.03622247 -1.22043084 -0.93543344]]\n",
      "0      2.718282\n",
      "1      7.389056\n",
      "2     20.085537\n",
      "3     54.598150\n",
      "4    148.413159\n",
      "dtype: float64\n"
     ]
    }
   ],
   "source": [
    "df = pd.DataFrame(np.random.randn(3, 5))\n",
    "print(df)\n",
    "print(df.T)\n",
    "print(np.exp(df))\n",
    "print(np.asarray(df))\n",
    "\n",
    "s = pd.Series([1, 2, 3, 4, 5])\n",
    "print(np.exp(s))"
   ]
  },
  {
   "cell_type": "markdown",
   "metadata": {},
   "source": [
    "### 丢失的数据"
   ]
  },
  {
   "cell_type": "code",
   "execution_count": 20,
   "metadata": {},
   "outputs": [
    {
     "name": "stdout",
     "output_type": "stream",
     "text": [
      "   one  two  three\n",
      "0  1.0    1    1.0\n",
      "1  2.0    2    NaN\n",
      "2  NaN    3    3.0\n",
      "   one  two  three\n",
      "0  1.0    1    1.0\n",
      "   one  two  three\n",
      "0  1.0    1    1.0\n",
      "   one  two  three\n",
      "0  1.0    1    1.0\n",
      "1  2.0    2    5.0\n",
      "2  5.0    3    3.0\n",
      "     one    two  three\n",
      "0  False  False  False\n",
      "1  False  False   True\n",
      "2   True  False  False\n"
     ]
    }
   ],
   "source": [
    "df = pd.DataFrame({'one': [1, 2, np.nan],\n",
    "                   'two': [1, 2, 3],\n",
    "                   'three': [1, np.nan, 3]})\n",
    "\n",
    "print(df)\n",
    "print(df.dropna())\n",
    "print(df.dropna(how='any'))\n",
    "print(df.fillna(5))\n",
    "print(df.isna())"
   ]
  },
  {
   "cell_type": "markdown",
   "metadata": {},
   "source": [
    "### 其他操作"
   ]
  },
  {
   "cell_type": "code",
   "execution_count": 21,
   "metadata": {},
   "outputs": [
    {
     "name": "stdout",
     "output_type": "stream",
     "text": [
      "    A   B   C\n",
      "0   0   1   2\n",
      "1   3   4   5\n",
      "2   6   7   8\n",
      "3   9  10  11\n",
      "4  12  13  14\n",
      "A    6.0\n",
      "B    7.0\n",
      "C    8.0\n",
      "dtype: float64\n",
      "0     1.0\n",
      "1     4.0\n",
      "2     7.0\n",
      "3    10.0\n",
      "4    13.0\n",
      "dtype: float64\n",
      "A    30\n",
      "B    35\n",
      "C    40\n",
      "dtype: int64\n",
      "0     3\n",
      "1    12\n",
      "2    21\n",
      "3    30\n",
      "4    39\n",
      "dtype: int64\n"
     ]
    }
   ],
   "source": [
    "df = pd.DataFrame(np.arange(15).reshape(5, 3), columns=list('ABC'))\n",
    "\n",
    "print(df)\n",
    "print(df.mean())\n",
    "print(df.mean(1))\n",
    "print(df.sum())\n",
    "print(df.sum(1))"
   ]
  },
  {
   "cell_type": "markdown",
   "metadata": {},
   "source": [
    "apply: 调用函数"
   ]
  },
  {
   "cell_type": "code",
   "execution_count": 22,
   "metadata": {},
   "outputs": [
    {
     "name": "stdout",
     "output_type": "stream",
     "text": [
      "    A   B   C   D   E\n",
      "0   0   1   2   3   4\n",
      "1   5   6   7   8   9\n",
      "2  10  11  12  13  14\n",
      "    A   B   C   D   E\n",
      "0   0   1   2   3   4\n",
      "1   5   7   9  11  13\n",
      "2  15  18  21  24  27\n",
      "A    10\n",
      "B    10\n",
      "C    10\n",
      "D    10\n",
      "E    10\n",
      "dtype: int64\n"
     ]
    }
   ],
   "source": [
    "df = pd.DataFrame(np.arange(15).reshape(3, 5), columns=list('ABCDE'))\n",
    "\n",
    "print(df)\n",
    "print(df.apply(np.cumsum))\n",
    "print(df.apply(lambda x: x.max() - x.min()))"
   ]
  },
  {
   "cell_type": "markdown",
   "metadata": {},
   "source": [
    "直方图函数"
   ]
  },
  {
   "cell_type": "code",
   "execution_count": 23,
   "metadata": {},
   "outputs": [
    {
     "name": "stdout",
     "output_type": "stream",
     "text": [
      "0    0\n",
      "1    4\n",
      "2    0\n",
      "3    0\n",
      "4    0\n",
      "5    4\n",
      "6    4\n",
      "7    4\n",
      "8    0\n",
      "9    1\n",
      "dtype: int64\n",
      "0    5\n",
      "4    4\n",
      "1    1\n",
      "dtype: int64\n"
     ]
    }
   ],
   "source": [
    "s = pd.Series(np.random.randint(0, 7, size=10))\n",
    "print(s)\n",
    "print(s.value_counts())"
   ]
  },
  {
   "cell_type": "markdown",
   "metadata": {},
   "source": [
    "连接函数(concat, merge, append)"
   ]
  },
  {
   "cell_type": "code",
   "execution_count": 24,
   "metadata": {},
   "outputs": [
    {
     "name": "stdout",
     "output_type": "stream",
     "text": [
      "          0         1         2\n",
      "0  0.389654  0.132951 -0.185719\n",
      "1 -0.031104  0.780390  0.895148\n",
      "2  0.432392 -0.141363  0.584487\n",
      "3 -0.377385 -0.241167  0.282097\n",
      "4 -1.039993  0.246469  0.954342\n",
      "5 -0.759267 -0.525595  0.724355\n",
      "6  0.560931  0.447554 -1.209913\n",
      "7 -0.625240  0.866905 -0.509506\n",
      "8  0.107855 -0.410119  0.693797\n",
      "9 -0.339627  0.612623  1.348514\n",
      "          0         1         2\n",
      "0  0.870342  0.114908 -0.273670\n",
      "1  1.588141  2.923471 -0.121900\n",
      "2 -0.532022 -1.105307 -1.523883\n",
      "3  0.438919  0.736406 -0.400885\n",
      "4  0.048989  1.071322 -1.818710\n",
      "5  1.439038  1.535364  1.778150\n",
      "6  0.174681  1.572112 -0.448438\n",
      "7  0.833963 -1.007743  0.036044\n",
      "8  0.118418 -2.479949 -1.421893\n",
      "9  0.207663 -2.013950 -0.410850\n",
      "          0         1         2\n",
      "0  0.389654  0.132951 -0.185719\n",
      "1 -0.031104  0.780390  0.895148\n",
      "2  0.432392 -0.141363  0.584487\n",
      "1  1.588141  2.923471 -0.121900\n",
      "2 -0.532022 -1.105307 -1.523883\n",
      "3  0.438919  0.736406 -0.400885\n",
      "4  0.048989  1.071322 -1.818710\n",
      "5  1.439038  1.535364  1.778150\n",
      "   key  lval\n",
      "0  foo     1\n",
      "1  foo     2\n",
      "   key  lval\n",
      "0  foo     3\n",
      "1  foo     5\n",
      "   key  lval_x  lval_y\n",
      "0  foo       1       3\n",
      "1  foo       1       5\n",
      "2  foo       2       3\n",
      "3  foo       2       5\n",
      "   key  lval\n",
      "0  foo     1\n",
      "1  bar     2\n",
      "   key  lval\n",
      "0  foo     3\n",
      "1  bar     5\n",
      "   key  lval_x  lval_y\n",
      "0  foo       1       3\n",
      "1  bar       2       5\n",
      "          A         B         C\n",
      "0 -0.415449 -0.057445  1.516020\n",
      "1  1.291790 -0.578742  0.508732\n",
      "2  0.922893  0.637269 -0.879283\n",
      "3  0.447110 -0.681406 -0.483756\n",
      "4  0.104266 -0.783380  0.267164\n",
      "5  0.267518  1.173291 -0.509159\n",
      "6 -0.074722  0.994323 -1.698711\n",
      "7 -1.165861 -0.406955 -0.049523\n",
      "          A         B         C\n",
      "0 -0.415449 -0.057445  1.516020\n",
      "1  1.291790 -0.578742  0.508732\n",
      "2  0.922893  0.637269 -0.879283\n",
      "3  0.447110 -0.681406 -0.483756\n",
      "4  0.104266 -0.783380  0.267164\n",
      "5  0.267518  1.173291 -0.509159\n",
      "6 -0.074722  0.994323 -1.698711\n",
      "7 -1.165861 -0.406955 -0.049523\n",
      "8  0.447110 -0.681406 -0.483756\n"
     ]
    }
   ],
   "source": [
    "df1 = pd.DataFrame(np.random.randn(10, 3))\n",
    "print(df1)\n",
    "\n",
    "df2 = pd.DataFrame(np.random.randn(10, 3))\n",
    "print(df2)\n",
    "print(pd.concat([df1[:3], df2[1:6]]))\n",
    "\n",
    "df1 = pd.DataFrame({'key': ['foo', 'foo'], 'lval': [1, 2]})\n",
    "df2 = pd.DataFrame({'key': ['foo', 'foo'], 'lval': [3, 5]})\n",
    "print(df1)\n",
    "print(df2)\n",
    "print(pd.merge(df1, df2, on='key'))\n",
    "\n",
    "df1 = pd.DataFrame({'key': ['foo', 'bar'], 'lval': [1, 2]})\n",
    "df2 = pd.DataFrame({'key': ['foo', 'bar'], 'lval': [3, 5]})\n",
    "print(df1)\n",
    "print(df2)\n",
    "print(pd.merge(df1, df2, on='key'))\n",
    "\n",
    "df = pd.DataFrame(np.random.randn(8, 3), columns=list('ABC'))\n",
    "print(df)\n",
    "print(df.append(df.iloc[3], ignore_index=True))"
   ]
  },
  {
   "cell_type": "markdown",
   "metadata": {},
   "source": [
    "Grouping"
   ]
  },
  {
   "cell_type": "code",
   "execution_count": 25,
   "metadata": {},
   "outputs": [
    {
     "name": "stdout",
     "output_type": "stream",
     "text": [
      "     A      B         C         D\n",
      "0  foo    one  1.265666 -0.214716\n",
      "1  bar    one -0.272539  0.435138\n",
      "2  foo    two  1.902522 -1.873425\n",
      "3  bar  three  0.798464 -0.522836\n",
      "4  foo    two  0.838822 -0.352077\n",
      "5  bar    tow  0.503512 -0.896307\n",
      "6  foo    one  1.499019 -1.350517\n",
      "7  bar  three  0.626966  1.083584\n",
      "            C         D\n",
      "A                      \n",
      "bar  1.656402  0.099579\n",
      "foo  5.506029 -3.790735\n",
      "                  C         D\n",
      "A   B                        \n",
      "bar one   -0.272539  0.435138\n",
      "    three  1.425430  0.560748\n",
      "    tow    0.503512 -0.896307\n",
      "foo one    2.764685 -1.565233\n",
      "    two    2.741344 -2.225502\n"
     ]
    }
   ],
   "source": [
    "df = pd.DataFrame({'A': ['foo', 'bar', 'foo', 'bar', 'foo', 'bar', 'foo', 'bar'],\n",
    "                   'B': ['one', 'one', 'two', 'three', 'two', 'tow', 'one', 'three'],\n",
    "                   'C': np.random.randn(8),\n",
    "                   'D': np.random.randn(8)})\n",
    "\n",
    "print(df)\n",
    "print(df.groupby('A').sum())\n",
    "print(df.groupby(['A', 'B']).sum())"
   ]
  },
  {
   "cell_type": "markdown",
   "metadata": {},
   "source": [
    "### Reshaping\n",
    "\n",
    "1. Stack"
   ]
  },
  {
   "cell_type": "code",
   "execution_count": 26,
   "metadata": {},
   "outputs": [
    {
     "name": "stdout",
     "output_type": "stream",
     "text": [
      "     A      B         C         D\n",
      "0  foo    one  1.988716  0.824695\n",
      "1  bar    one  0.160458  0.342379\n",
      "2  foo    two  0.189523  0.218679\n",
      "3  bar  three -0.606517  0.930221\n",
      "4  foo    two  0.946979 -0.629034\n",
      "5  bar    tow  0.070013 -0.580997\n",
      "6  foo    one  1.012384  0.015211\n",
      "7  bar  three -0.471639 -0.176326\n",
      "0  A          foo\n",
      "   B          one\n",
      "   C      1.98872\n",
      "   D     0.824695\n",
      "1  A          bar\n",
      "   B          one\n",
      "   C     0.160458\n",
      "   D     0.342379\n",
      "2  A          foo\n",
      "   B          two\n",
      "   C     0.189523\n",
      "   D     0.218679\n",
      "3  A          bar\n",
      "   B        three\n",
      "   C    -0.606517\n",
      "   D     0.930221\n",
      "4  A          foo\n",
      "   B          two\n",
      "   C     0.946979\n",
      "   D    -0.629034\n",
      "5  A          bar\n",
      "   B          tow\n",
      "   C    0.0700134\n",
      "   D    -0.580997\n",
      "6  A          foo\n",
      "   B          one\n",
      "   C      1.01238\n",
      "   D    0.0152106\n",
      "7  A          bar\n",
      "   B        three\n",
      "   C    -0.471639\n",
      "   D    -0.176326\n",
      "dtype: object\n",
      "     A      B          C          D\n",
      "0  foo    one    1.98872   0.824695\n",
      "1  bar    one   0.160458   0.342379\n",
      "2  foo    two   0.189523   0.218679\n",
      "3  bar  three  -0.606517   0.930221\n",
      "4  foo    two   0.946979  -0.629034\n",
      "5  bar    tow  0.0700134  -0.580997\n",
      "6  foo    one    1.01238  0.0152106\n",
      "7  bar  three  -0.471639  -0.176326\n"
     ]
    }
   ],
   "source": [
    "df = pd.DataFrame({'A': ['foo', 'bar', 'foo', 'bar', 'foo', 'bar', 'foo', 'bar'],\n",
    "                   'B': ['one', 'one', 'two', 'three', 'two', 'tow', 'one', 'three'],\n",
    "                   'C': np.random.randn(8),\n",
    "                   'D': np.random.randn(8)})\n",
    "\n",
    "print(df)\n",
    "print(df.stack())\n",
    "print(df.stack().unstack())"
   ]
  },
  {
   "cell_type": "markdown",
   "metadata": {},
   "source": [
    "2. Pivot tables"
   ]
  },
  {
   "cell_type": "code",
   "execution_count": 27,
   "metadata": {},
   "outputs": [
    {
     "name": "stdout",
     "output_type": "stream",
     "text": [
      "        A  B    C         D         E\n",
      "0     one  A  foo -1.585687  0.186302\n",
      "1     one  B  foo  0.442664  0.379674\n",
      "2     two  C  foo  2.449075 -0.480867\n",
      "3   three  A  bar  0.582720  0.459319\n",
      "4     one  B  bar  0.778986 -0.066089\n",
      "5     one  C  bar -0.129267  0.747121\n",
      "6     two  A  foo  1.512353  0.028118\n",
      "7   three  B  foo -0.563416  1.922253\n",
      "8     one  C  foo  0.039638  1.719558\n",
      "9     one  A  bar  1.463450  2.058046\n",
      "10    two  B  bar -0.084120 -0.017062\n",
      "11  three  C  bar -1.137139 -0.689691\n",
      "C             bar       foo\n",
      "A     B                    \n",
      "one   A  1.463450 -1.585687\n",
      "      B  0.778986  0.442664\n",
      "      C -0.129267  0.039638\n",
      "three A  0.582720       NaN\n",
      "      B       NaN -0.563416\n",
      "      C -1.137139       NaN\n",
      "two   A       NaN  1.512353\n",
      "      B -0.084120       NaN\n",
      "      C       NaN  2.449075\n"
     ]
    }
   ],
   "source": [
    "df = pd.DataFrame({'A': ['one', 'one', 'two', 'three'] * 3,\n",
    "                   'B': ['A', 'B', 'C'] * 4,\n",
    "                   'C': ['foo', 'foo', 'foo', 'bar', 'bar', 'bar'] * 2,\n",
    "                   'D': np.random.randn(12),\n",
    "                   'E': np.random.randn(12)})\n",
    "print(df)\n",
    "print(pd.pivot_table(df, values='D', index=['A', 'B'], columns=['C']))"
   ]
  },
  {
   "cell_type": "markdown",
   "metadata": {},
   "source": [
    "### Time Series"
   ]
  },
  {
   "cell_type": "code",
   "execution_count": 28,
   "metadata": {},
   "outputs": [
    {
     "name": "stdout",
     "output_type": "stream",
     "text": [
      "2000-01-01    341\n",
      "2000-01-02    382\n",
      "2000-01-03    392\n",
      "2000-01-04      1\n",
      "2000-01-05     18\n",
      "             ... \n",
      "2000-04-05    253\n",
      "2000-04-06    367\n",
      "2000-04-07    393\n",
      "2000-04-08    101\n",
      "2000-04-09    493\n",
      "Freq: D, Length: 100, dtype: int64\n",
      "1999-12-31 19:00:00-05:00    341\n",
      "2000-01-01 19:00:00-05:00    382\n",
      "2000-01-02 19:00:00-05:00    392\n",
      "2000-01-03 19:00:00-05:00      1\n",
      "2000-01-04 19:00:00-05:00     18\n",
      "                            ... \n",
      "2000-04-04 20:00:00-04:00    253\n",
      "2000-04-05 20:00:00-04:00    367\n",
      "2000-04-06 20:00:00-04:00    393\n",
      "2000-04-07 20:00:00-04:00    101\n",
      "2000-04-08 20:00:00-04:00    493\n",
      "Freq: D, Length: 100, dtype: int64\n",
      "2000-01-01    341\n",
      "2000-01-02    382\n",
      "2000-01-03    392\n",
      "2000-01-04      1\n",
      "2000-01-05     18\n",
      "             ... \n",
      "2000-04-05    253\n",
      "2000-04-06    367\n",
      "2000-04-07    393\n",
      "2000-04-08    101\n",
      "2000-04-09    493\n",
      "Freq: D, Length: 100, dtype: int64\n"
     ]
    }
   ],
   "source": [
    "rng = pd.date_range('1/1/2000', periods = 100, freq = 'D')\n",
    "\n",
    "ts = pd.Series(np.random.randint(0, 500, len(rng)), index = rng)\n",
    "print(ts)\n",
    "print(ts.tz_localize('UTC').tz_convert('US/Eastern'))\n",
    "print(ts.to_period())"
   ]
  },
  {
   "cell_type": "markdown",
   "metadata": {},
   "source": [
    "### Categoricals"
   ]
  },
  {
   "cell_type": "code",
   "execution_count": 29,
   "metadata": {},
   "outputs": [
    {
     "name": "stdout",
     "output_type": "stream",
     "text": [
      "   id raw_grade\n",
      "0   1         a\n",
      "1   2         b\n",
      "2   3         b\n",
      "3   4         a\n",
      "4   5         a\n",
      "5   6         e\n",
      "   id raw_grade grade\n",
      "0   1         a     a\n",
      "1   2         b     b\n",
      "2   3         b     b\n",
      "3   4         a     a\n",
      "4   5         a     a\n",
      "5   6         e     e\n",
      "   id raw_grade      grade\n",
      "0   1         a  very good\n",
      "1   2         b       good\n",
      "2   3         b       good\n",
      "3   4         a  very good\n",
      "4   5         a  very good\n",
      "5   6         e   very bad\n",
      "   id raw_grade      grade\n",
      "0   1         a  very good\n",
      "1   2         b       good\n",
      "2   3         b       good\n",
      "3   4         a  very good\n",
      "4   5         a  very good\n",
      "5   6         e   very bad\n",
      "   id raw_grade      grade\n",
      "5   6         e   very bad\n",
      "1   2         b       good\n",
      "2   3         b       good\n",
      "0   1         a  very good\n",
      "3   4         a  very good\n",
      "4   5         a  very good\n"
     ]
    }
   ],
   "source": [
    "df = pd.DataFrame({'id': [1, 2, 3, 4, 5, 6],\n",
    "                   'raw_grade': ['a', 'b', 'b', 'a', 'a', 'e']})\n",
    "print(df)\n",
    "df['grade'] = df['raw_grade'].astype('category')\n",
    "print(df)\n",
    "df['grade'].cat.categories = [\"very good\", \"good\", \"very bad\"]\n",
    "print(df)\n",
    "df['grade'] = df['grade'].cat.set_categories([\"very bad\", \"bad\", \"medium\", \"good\", \"very good\"])\n",
    "print(df)\n",
    "print(df.sort_values(by='grade'))"
   ]
  },
  {
   "cell_type": "markdown",
   "metadata": {},
   "source": [
    "### Plotting"
   ]
  },
  {
   "cell_type": "code",
   "execution_count": 30,
   "metadata": {},
   "outputs": [
    {
     "name": "stdout",
     "output_type": "stream",
     "text": [
      "2000-01-01    -2.131697\n",
      "2000-01-02    -3.229068\n",
      "2000-01-03    -3.085780\n",
      "2000-01-04    -3.916855\n",
      "2000-01-05    -4.568948\n",
      "                ...    \n",
      "2002-09-22    27.626399\n",
      "2002-09-23    27.720935\n",
      "2002-09-24    27.964200\n",
      "2002-09-25    27.100834\n",
      "2002-09-26    27.580475\n",
      "Freq: D, Length: 1000, dtype: float64\n"
     ]
    },
    {
     "data": {
      "text/plain": [
       "<matplotlib.axes._subplots.AxesSubplot at 0x11233f4d0>"
      ]
     },
     "execution_count": 30,
     "metadata": {},
     "output_type": "execute_result"
    }
   ],
   "source": [
    "ts = pd.Series(np.random.randn(1000), index = pd.date_range('1/1/2000', periods=1000))\n",
    "ts = ts.cumsum()\n",
    "print(ts)\n",
    "\n",
    "ts.plot()"
   ]
  }
 ],
 "metadata": {
  "kernelspec": {
   "display_name": "PyCharm (jupyter)",
   "language": "python",
   "name": "pycharm-34f9d306"
  },
  "language_info": {
   "codemirror_mode": {
    "name": "ipython",
    "version": 3
   },
   "file_extension": ".py",
   "mimetype": "text/x-python",
   "name": "python",
   "nbconvert_exporter": "python",
   "pygments_lexer": "ipython3",
   "version": "3.7.4"
  }
 },
 "nbformat": 4,
 "nbformat_minor": 2
}
