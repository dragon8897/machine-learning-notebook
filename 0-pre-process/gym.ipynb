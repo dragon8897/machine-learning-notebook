{
 "cells": [
  {
   "cell_type": "markdown",
   "metadata": {},
   "source": [
    "### openAI gym"
   ]
  },
  {
   "cell_type": "markdown",
   "metadata": {},
   "source": [
    "创建运行环境"
   ]
  },
  {
   "cell_type": "code",
   "execution_count": 33,
   "metadata": {},
   "outputs": [
    {
     "name": "stdout",
     "output_type": "stream",
     "text": [
      "[ 0.0021311  -0.02618807  0.03980482  0.03168933]\n",
      "Discrete(2)\n",
      "2\n",
      "Box(4,)\n",
      "[ 0.00160734 -0.22185756  0.04043861  0.33666062] 1.0\n",
      "[-0.00282981 -0.41753096  0.04717182  0.64181647] 1.0\n",
      "[-0.01118043 -0.2230972   0.06000815  0.36435364] 1.0\n",
      "[-0.01564238 -0.41901836  0.06729522  0.67533822] 1.0\n",
      "[-0.02402274 -0.61500775  0.08080199  0.98842674] 1.0\n",
      "[-0.0363229  -0.81111307  0.10057052  1.30535491] 1.0\n",
      "[-0.05254516 -0.61739971  0.12667762  1.04577103] 1.0\n",
      "[-0.06489315 -0.42416601  0.14759304  0.79538671] 1.0\n",
      "[-0.07337647 -0.62097187  0.16350077  1.13062094] 1.0\n",
      "[-0.08579591 -0.81781249  0.18611319  1.46979946] 1.0\n",
      "[-0.10215216 -0.62539055  0.21550918  1.24055294] 1.0\n",
      "done\n"
     ]
    }
   ],
   "source": [
    "import gym\n",
    "\n",
    "# gym 与 jupyter notebook 有冲突, 调用 render 会挂起\n",
    "# 本地运行设置为 true\n",
    "isLocalPlaying = False\n",
    "\n",
    "env = gym.make('CartPole-v0')\n",
    "\n",
    "# 设置随机数种子\n",
    "env.seed(seed=12345)\n",
    "\n",
    "# 重置环境\n",
    "observation = env.reset()\n",
    "print(observation)\n",
    "\n",
    "if isLocalPlaying:\n",
    "    env.render()\n",
    "\n",
    "print(env.action_space)\n",
    "# output : Discrete(2) (0, 1, ..., n-1) 的离散值\n",
    "print(env.action_space.n)\n",
    "print(env.observation_space)\n",
    "\n",
    "for step in range(100):\n",
    "    # 抽样动作\n",
    "    action = env.action_space.sample()\n",
    "\n",
    "    # 采取动作\n",
    "    observation, reward, done, info = env.step(action)\n",
    "    print(observation, reward)\n",
    "    \n",
    "    if isLocalPlaying:\n",
    "        env.render()\n",
    "    if done:\n",
    "        print('done')\n",
    "        break\n",
    "\n",
    "env.close()"
   ]
  },
  {
   "cell_type": "markdown",
   "metadata": {},
   "source": [
    "### 判断 env 中 action 和 observation 的**维度**,**连续型**和**离散型**"
   ]
  },
  {
   "cell_type": "code",
   "execution_count": 37,
   "metadata": {},
   "outputs": [],
   "source": [
    "import gym\n",
    "import numpy as np\n",
    "\n",
    "def is_tuple(env):\n",
    "    tuple_space, dict_space = gym.spaces.Tuple, gym.spaces.Dict\n",
    "    tuple_action = isinstance(env.action_space, (tuple_space, dict_space))\n",
    "    tuple_obs = isinstance(env.observation_space, (tuple_space, dict_space))\n",
    "    return tuple_action, tuple_obs\n",
    "\n",
    "def is_multidimensional(env):\n",
    "    md_action, md_obs = True, True\n",
    "    tuple_action, tuple_obs = is_tuple(env)\n",
    "    if not tuple_action:\n",
    "        act = env.action_space.sample()\n",
    "        md_action = isinstance(act, (tuple, list, np.ndarray)) and len(act) > 0\n",
    "    if not tuple_obs:\n",
    "        obs = env.observation_space.low if 'low' in dir(env.observation_space) else env.observation_space.sample()\n",
    "        md_obs = isinstance(obs, (tuple, list, np.ndarray)) and len(obs) > 0\n",
    "    return md_action, md_obs, tuple_action, tuple_obs\n",
    "\n",
    "def is_continuous(env, tuple_action, tuple_obs):\n",
    "    if tuple_action:\n",
    "        spaces = env.action_space.spaces\n",
    "        cont_action = all([isinstance(s, gym.spaces.box.Box) for s in spaces])\n",
    "    else:\n",
    "        cont_action = isinstance(env.action_space, gym.spaces.box.Box)\n",
    "        \n",
    "    if tuple_obs:\n",
    "        spaces = env.observation_space.spaces\n",
    "        cont_obs = all([isinstance(s, gym.spaces.box.Box) for s in spaces])\n",
    "    else:\n",
    "        cont_obs = isinstance(env.observation_space, gym.spaces.box.Box)\n",
    "        \n",
    "    return cont_action, cont_obs"
   ]
  },
  {
   "cell_type": "code",
   "execution_count": 50,
   "metadata": {},
   "outputs": [
    {
     "name": "stdout",
     "output_type": "stream",
     "text": [
      "md_action, md_obs, tuple_action, tuple_obs\n",
      "False True False False\n",
      "cont_action, cont_obs\n",
      "False True\n"
     ]
    }
   ],
   "source": [
    "import gym\n",
    "\n",
    "env = gym.make('CartPole-v0')\n",
    "# env = gym.make('Taxi-v2')\n",
    "# env = gym.make('Copy-v0')\n",
    "md_action, md_obs, tuple_action, tuple_obs = is_multidimensional(env)\n",
    "print('md_action, md_obs, tuple_action, tuple_obs')\n",
    "print(md_action, md_obs, tuple_action, tuple_obs)\n",
    "cont_action, cont_obs = is_continuous(env, tuple_action, tuple_obs)\n",
    "print('cont_action, cont_obs')\n",
    "print(cont_action, cont_obs)\n",
    "\n",
    "env.close()"
   ]
  }
 ],
 "metadata": {
  "kernelspec": {
   "display_name": "PyCharm (jupyter)",
   "language": "python",
   "name": "pycharm-34f9d306"
  },
  "language_info": {
   "codemirror_mode": {
    "name": "ipython",
    "version": 3
   },
   "file_extension": ".py",
   "mimetype": "text/x-python",
   "name": "python",
   "nbconvert_exporter": "python",
   "pygments_lexer": "ipython3",
   "version": "3.7.4"
  }
 },
 "nbformat": 4,
 "nbformat_minor": 2
}
