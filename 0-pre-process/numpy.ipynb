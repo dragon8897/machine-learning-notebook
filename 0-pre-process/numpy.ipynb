{
 "cells": [
  {
   "cell_type": "markdown",
   "metadata": {
    "pycharm": {
     "name": "#%% md\n"
    }
   },
   "source": [
    "# Numpy 基础\n",
    "\n",
    "---\n",
    "\n",
    "导入库文件"
   ]
  },
  {
   "cell_type": "code",
   "execution_count": 1,
   "metadata": {
    "pycharm": {
     "is_executing": false,
     "name": "#%%\n"
    }
   },
   "outputs": [],
   "source": [
    "import numpy as np"
   ]
  },
  {
   "cell_type": "markdown",
   "metadata": {
    "pycharm": {
     "name": "#%% md\n"
    }
   },
   "source": [
    "创建 array\n"
   ]
  },
  {
   "cell_type": "code",
   "execution_count": 2,
   "metadata": {
    "pycharm": {
     "is_executing": false,
     "name": "#%%\n"
    }
   },
   "outputs": [
    {
     "name": "stdout",
     "output_type": "stream",
     "text": [
      "[1 2 3] int64\n",
      "[1. 2. 3.] float64\n",
      "[1.+0.j 2.+0.j 3.+0.j] complex128\n",
      "[1 2 3 4 5 6 6]\n",
      "[[1]\n",
      " [2]\n",
      " [3]\n",
      " [4]\n",
      " [5]]\n"
     ]
    }
   ],
   "source": [
    "a = np.array([1, 2, 3])\n",
    "print(a, a.dtype)\n",
    "\n",
    "b = np.array([1., 2., 3.])\n",
    "print(b, b.dtype)\n",
    "\n",
    "c = np.array([1, 2, 3], dtype=complex)\n",
    "print(c, c.dtype)\n",
    "\n",
    "print(np.r_[1:6, 6, 6])\n",
    "print(np.c_[1:6])\n"
   ]
  },
  {
   "cell_type": "markdown",
   "metadata": {
    "pycharm": {
     "name": "#%% md\n"
    }
   },
   "source": [
    "创建 n 维数组\n"
   ]
  },
  {
   "cell_type": "code",
   "execution_count": 3,
   "metadata": {
    "pycharm": {
     "is_executing": false,
     "name": "#%%\n"
    }
   },
   "outputs": [
    {
     "name": "stdout",
     "output_type": "stream",
     "text": [
      "[[1. 2. 3.]\n",
      " [4. 5. 6.]]\n",
      "[(1, 2) (3, 4, 5)] (2,)\n"
     ]
    }
   ],
   "source": [
    "b = np.array([(1., 2., 3.), (4., 5., 6.)])\n",
    "print(b)\n",
    "\n",
    "# 错误示例: (维度不对)\n",
    "c = np.array([(1, 2), (3, 4, 5)])\n",
    "print(c, c.shape)\n"
   ]
  },
  {
   "cell_type": "markdown",
   "metadata": {
    "pycharm": {
     "name": "#%% md\n"
    }
   },
   "source": [
    "快速创建方法\n"
   ]
  },
  {
   "cell_type": "code",
   "execution_count": 4,
   "metadata": {
    "pycharm": {
     "is_executing": false,
     "name": "#%%\n"
    }
   },
   "outputs": [
    {
     "data": {
      "text/plain": [
       "array([[0., 0., 0., 0., 0.],\n",
       "       [0., 0., 0., 0., 0.],\n",
       "       [0., 0., 0., 0., 0.]])"
      ]
     },
     "execution_count": 4,
     "metadata": {},
     "output_type": "execute_result"
    }
   ],
   "source": [
    "np.zeros((3, 5))\n"
   ]
  },
  {
   "cell_type": "code",
   "execution_count": 5,
   "metadata": {
    "pycharm": {
     "is_executing": false,
     "name": "#%%\n"
    }
   },
   "outputs": [
    {
     "data": {
      "text/plain": [
       "array([[[1, 1, 1, 1],\n",
       "        [1, 1, 1, 1],\n",
       "        [1, 1, 1, 1]],\n",
       "\n",
       "       [[1, 1, 1, 1],\n",
       "        [1, 1, 1, 1],\n",
       "        [1, 1, 1, 1]]], dtype=int16)"
      ]
     },
     "execution_count": 5,
     "metadata": {},
     "output_type": "execute_result"
    }
   ],
   "source": [
    "np.ones((2,3,4), dtype=np.int16)\n"
   ]
  },
  {
   "cell_type": "code",
   "execution_count": 6,
   "metadata": {
    "pycharm": {
     "is_executing": false,
     "name": "#%%\n"
    }
   },
   "outputs": [
    {
     "data": {
      "text/plain": [
       "array([[1., 2., 3.],\n",
       "       [4., 5., 6.]])"
      ]
     },
     "execution_count": 6,
     "metadata": {},
     "output_type": "execute_result"
    }
   ],
   "source": [
    "# 结果没有初始化\n",
    "np.empty((2, 3))\n"
   ]
  },
  {
   "cell_type": "markdown",
   "metadata": {
    "pycharm": {
     "name": "#%% md\n"
    }
   },
   "source": [
    "生成序列 number\n"
   ]
  },
  {
   "cell_type": "code",
   "execution_count": 7,
   "metadata": {
    "pycharm": {
     "is_executing": false,
     "name": "#%%\n"
    }
   },
   "outputs": [
    {
     "data": {
      "text/plain": [
       "array([0, 1, 2, 3, 4, 5, 6, 7, 8, 9])"
      ]
     },
     "execution_count": 7,
     "metadata": {},
     "output_type": "execute_result"
    }
   ],
   "source": [
    "np.arange(10)\n"
   ]
  },
  {
   "cell_type": "code",
   "execution_count": 8,
   "metadata": {
    "pycharm": {
     "is_executing": false,
     "name": "#%%\n"
    }
   },
   "outputs": [
    {
     "data": {
      "text/plain": [
       "array([10, 15, 20, 25])"
      ]
     },
     "execution_count": 8,
     "metadata": {},
     "output_type": "execute_result"
    }
   ],
   "source": [
    "np.arange(10, 30, 5)\n"
   ]
  },
  {
   "cell_type": "code",
   "execution_count": 9,
   "metadata": {
    "pycharm": {
     "is_executing": true,
     "name": "#%%\n"
    }
   },
   "outputs": [
    {
     "data": {
      "text/plain": [
       "array([0. , 0.3, 0.6, 0.9, 1.2, 1.5, 1.8])"
      ]
     },
     "execution_count": 9,
     "metadata": {},
     "output_type": "execute_result"
    }
   ],
   "source": [
    "np.arange(0, 2, 0.3)\n"
   ]
  },
  {
   "cell_type": "code",
   "execution_count": 10,
   "metadata": {
    "pycharm": {
     "is_executing": false,
     "name": "#%%\n"
    }
   },
   "outputs": [
    {
     "data": {
      "text/plain": [
       "array([0.  , 0.25, 0.5 , 0.75, 1.  , 1.25, 1.5 , 1.75, 2.  ])"
      ]
     },
     "execution_count": 10,
     "metadata": {},
     "output_type": "execute_result"
    }
   ],
   "source": [
    "np.linspace(0, 2, 9)\n"
   ]
  },
  {
   "cell_type": "markdown",
   "metadata": {
    "pycharm": {
     "name": "#%% md\n"
    }
   },
   "source": [
    "1 维转 n 维\n"
   ]
  },
  {
   "cell_type": "code",
   "execution_count": 11,
   "metadata": {
    "pycharm": {
     "is_executing": false,
     "name": "#%%\n"
    }
   },
   "outputs": [
    {
     "data": {
      "text/plain": [
       "array([[0, 1, 2, 3, 4],\n",
       "       [5, 6, 7, 8, 9]])"
      ]
     },
     "execution_count": 11,
     "metadata": {},
     "output_type": "execute_result"
    }
   ],
   "source": [
    "np.arange(10).reshape(2, 5)\n"
   ]
  },
  {
   "cell_type": "code",
   "execution_count": 12,
   "metadata": {
    "pycharm": {
     "is_executing": false,
     "name": "#%%\n"
    }
   },
   "outputs": [
    {
     "ename": "ValueError",
     "evalue": "cannot reshape array of size 10 into shape (2,3)",
     "output_type": "error",
     "traceback": [
      "\u001b[0;31m---------------------------------------------------------------------------\u001b[0m",
      "\u001b[0;31mValueError\u001b[0m                                Traceback (most recent call last)",
      "\u001b[0;32m<ipython-input-12-3c67d5c73657>\u001b[0m in \u001b[0;36m<module>\u001b[0;34m\u001b[0m\n\u001b[1;32m      1\u001b[0m \u001b[0;31m# 错误示例: 维数相乘不相等\u001b[0m\u001b[0;34m\u001b[0m\u001b[0;34m\u001b[0m\u001b[0;34m\u001b[0m\u001b[0m\n\u001b[0;32m----> 2\u001b[0;31m \u001b[0mnp\u001b[0m\u001b[0;34m.\u001b[0m\u001b[0marange\u001b[0m\u001b[0;34m(\u001b[0m\u001b[0;36m10\u001b[0m\u001b[0;34m)\u001b[0m\u001b[0;34m.\u001b[0m\u001b[0mreshape\u001b[0m\u001b[0;34m(\u001b[0m\u001b[0;36m2\u001b[0m\u001b[0;34m,\u001b[0m \u001b[0;36m3\u001b[0m\u001b[0;34m)\u001b[0m\u001b[0;34m\u001b[0m\u001b[0;34m\u001b[0m\u001b[0m\n\u001b[0m",
      "\u001b[0;31mValueError\u001b[0m: cannot reshape array of size 10 into shape (2,3)"
     ]
    }
   ],
   "source": [
    "# 错误示例: 维数相乘不相等\n",
    "np.arange(10).reshape(2, 3)\n"
   ]
  },
  {
   "cell_type": "markdown",
   "metadata": {},
   "source": [
    "基本操作\n"
   ]
  },
  {
   "cell_type": "code",
   "execution_count": 13,
   "metadata": {
    "pycharm": {
     "is_executing": false,
     "name": "#%%\n"
    }
   },
   "outputs": [
    {
     "name": "stdout",
     "output_type": "stream",
     "text": [
      "[20 29 38 47 56]\n",
      "[ 0  1  4  9 16]\n",
      "[ 9.12945251 -9.88031624  7.4511316  -2.62374854 -3.04810621]\n",
      "[ True  True False False False]\n"
     ]
    }
   ],
   "source": [
    "a = np.array([20, 30, 40, 50, 60])\n",
    "b = np.arange(5)\n",
    "\n",
    "c = a - b\n",
    "print(c)\n",
    "\n",
    "# power\n",
    "print(b**2)\n",
    "\n",
    "print(10 * np.sin(a))\n",
    "\n",
    "print(a < 36)"
   ]
  },
  {
   "cell_type": "markdown",
   "metadata": {},
   "source": [
    "乘法操作\n"
   ]
  },
  {
   "cell_type": "code",
   "execution_count": 14,
   "metadata": {
    "pycharm": {
     "is_executing": false,
     "name": "#%%\n"
    }
   },
   "outputs": [
    {
     "name": "stdout",
     "output_type": "stream",
     "text": [
      "[[2 0]\n",
      " [0 4]]\n",
      "[[5 4]\n",
      " [3 4]]\n",
      "[[5 4]\n",
      " [3 4]]\n"
     ]
    }
   ],
   "source": [
    "A = np.array([[1, 1], \n",
    "              [0, 1]])\n",
    "B = np.array([[2, 0], \n",
    "              [3, 4]])\n",
    "# elementwise product\n",
    "print(A * B)\n",
    "# matrix product\n",
    "print(A @ B)\n",
    "# another matrix product\n",
    "print(A.dot(B))"
   ]
  },
  {
   "cell_type": "markdown",
   "metadata": {},
   "source": [
    "+= 和 *= 等类似操作会改变现有 array\n"
   ]
  },
  {
   "cell_type": "code",
   "execution_count": 15,
   "metadata": {
    "pycharm": {
     "is_executing": false,
     "name": "#%%\n"
    }
   },
   "outputs": [
    {
     "name": "stdout",
     "output_type": "stream",
     "text": [
      "[[1. 1. 1.]\n",
      " [1. 1. 1.]]\n",
      "[[3. 3. 3.]\n",
      " [3. 3. 3.]]\n",
      "[[0.40065352 0.21453985 0.02348679]\n",
      " [0.83416897 0.41220112 0.69026197]]\n",
      "[[3.40065352 3.21453985 3.02348679]\n",
      " [3.83416897 3.41220112 3.69026197]]\n"
     ]
    }
   ],
   "source": [
    "a = np.ones((2, 3))\n",
    "print(a)\n",
    "a *= 3\n",
    "print(a)\n",
    "\n",
    "b = np.random.random((2, 3))\n",
    "print(b)\n",
    "b += a\n",
    "print(b)"
   ]
  },
  {
   "cell_type": "markdown",
   "metadata": {},
   "source": [
    "数据类型转换\n"
   ]
  },
  {
   "cell_type": "code",
   "execution_count": 16,
   "metadata": {
    "pycharm": {
     "is_executing": false,
     "name": "#%%\n"
    }
   },
   "outputs": [
    {
     "name": "stdout",
     "output_type": "stream",
     "text": [
      "int64 float64\n",
      "[[1.26033272 1.5985853  1.35579137]\n",
      " [1.64932339 1.351993   1.05025037]]\n"
     ]
    },
    {
     "ename": "TypeError",
     "evalue": "Cannot cast ufunc add output from dtype('float64') to dtype('int64') with casting rule 'same_kind'",
     "output_type": "error",
     "traceback": [
      "\u001b[0;31m---------------------------------------------------------------------------\u001b[0m",
      "\u001b[0;31mTypeError\u001b[0m                                 Traceback (most recent call last)",
      "\u001b[0;32m<ipython-input-16-dcb5fc3f0254>\u001b[0m in \u001b[0;36m<module>\u001b[0;34m\u001b[0m\n\u001b[1;32m      8\u001b[0m \u001b[0;34m\u001b[0m\u001b[0m\n\u001b[1;32m      9\u001b[0m \u001b[0;31m# 错误示例: float -> int\u001b[0m\u001b[0;34m\u001b[0m\u001b[0;34m\u001b[0m\u001b[0;34m\u001b[0m\u001b[0m\n\u001b[0;32m---> 10\u001b[0;31m \u001b[0ma\u001b[0m \u001b[0;34m+=\u001b[0m \u001b[0mb\u001b[0m\u001b[0;34m\u001b[0m\u001b[0;34m\u001b[0m\u001b[0m\n\u001b[0m",
      "\u001b[0;31mTypeError\u001b[0m: Cannot cast ufunc add output from dtype('float64') to dtype('int64') with casting rule 'same_kind'"
     ]
    }
   ],
   "source": [
    "a = np.ones((2, 3), dtype=np.int)\n",
    "b = np.random.random((2, 3))\n",
    "print(a.dtype, b.dtype)\n",
    "\n",
    "# int -> float\n",
    "b += a\n",
    "print(b)\n",
    "\n",
    "# 错误示例: float -> int\n",
    "a += b\n"
   ]
  },
  {
   "cell_type": "markdown",
   "metadata": {},
   "source": [
    "ndarray 的一元操作\n"
   ]
  },
  {
   "cell_type": "code",
   "execution_count": 17,
   "metadata": {
    "pycharm": {
     "is_executing": true,
     "name": "#%%\n"
    }
   },
   "outputs": [
    {
     "name": "stdout",
     "output_type": "stream",
     "text": [
      "[[0.06107879 0.26127172 0.04995713]\n",
      " [0.57084005 0.09508052 0.14367703]]\n",
      "1.1819052413854196\n",
      "0.049957125513921063\n",
      "0.5708400503213619\n",
      "[[ 0  1  2  3]\n",
      " [ 4  5  6  7]\n",
      " [ 8  9 10 11]]\n",
      "[12 15 18 21]\n",
      "[ 6 22 38]\n",
      "[[ 0  1  3  6]\n",
      " [ 4  9 15 22]\n",
      " [ 8 17 27 38]]\n"
     ]
    }
   ],
   "source": [
    "a = np.random.random((2, 3))\n",
    "print(a)\n",
    "print(a.sum())\n",
    "print(a.min())\n",
    "print(a.max())\n",
    "\n",
    "b = np.arange(12).reshape(3, 4)\n",
    "print(b)\n",
    "print(b.sum(axis = 0))\n",
    "print(b.sum(axis = 1))\n",
    "# 每行的累计值\n",
    "print(b.cumsum(axis = 1))"
   ]
  },
  {
   "cell_type": "markdown",
   "metadata": {},
   "source": [
    "通用方法,如: \n",
    "\n",
    "sin, cos, exp, all, any, apply_along_axis, argmax, argmin, argsort, average, bincount, ceil, clip, conj, corrcoef, cov, cross, cumprod, cumsum, diff, dot, floor, inner, inv, lexsort, max, maximum, mean, median, min, minimum, nonzero, outer, prod, re, round, sort, std, sum, trace, transpose, var, vdot, vectorize, where\n"
   ]
  },
  {
   "cell_type": "code",
   "execution_count": 18,
   "metadata": {
    "pycharm": {
     "is_executing": true,
     "name": "#%%\n"
    }
   },
   "outputs": [
    {
     "name": "stdout",
     "output_type": "stream",
     "text": [
      "[0 1 2]\n",
      "[1.         2.71828183 7.3890561 ]\n",
      "[0.         1.         1.41421356]\n",
      "[2. 0. 5.]\n"
     ]
    }
   ],
   "source": [
    "B = np.arange(3)\n",
    "print(B)\n",
    "print(np.exp(B))\n",
    "print(np.sqrt(B))\n",
    "\n",
    "C = np.array([2., -1., 3.])\n",
    "print(np.add(B, C))"
   ]
  },
  {
   "cell_type": "markdown",
   "metadata": {},
   "source": [
    "array 的取值,切片和迭代\n"
   ]
  },
  {
   "cell_type": "code",
   "execution_count": 19,
   "metadata": {
    "pycharm": {
     "is_executing": false,
     "name": "#%% \n"
    }
   },
   "outputs": [
    {
     "name": "stdout",
     "output_type": "stream",
     "text": [
      "[  0   1   8  27  64 125 216 343 512 729]\n",
      "8\n",
      "[  1   8  27  64 125]\n",
      "[  0   1   8  27  64 125 216 343 512]\n",
      "0\n",
      "3\n",
      "24\n",
      "81\n",
      "192\n",
      "375\n",
      "648\n",
      "1029\n",
      "1536\n",
      "2187\n"
     ]
    }
   ],
   "source": [
    "a = np.arange(10)**3\n",
    "print(a)\n",
    "print(a[2])\n",
    "print(a[1:6])\n",
    "print(a[:-1])\n",
    "\n",
    "for i in a:\n",
    "    print(i * 3)"
   ]
  },
  {
   "cell_type": "markdown",
   "metadata": {},
   "source": [
    "多维度 array 取值\n"
   ]
  },
  {
   "cell_type": "code",
   "execution_count": 20,
   "metadata": {
    "pycharm": {
     "is_executing": false,
     "name": "#%% \n"
    }
   },
   "outputs": [
    {
     "name": "stdout",
     "output_type": "stream",
     "text": [
      "[[ 0  1  2  3]\n",
      " [10 11 12 13]\n",
      " [20 21 22 23]\n",
      " [30 31 32 33]\n",
      " [40 41 42 43]]\n",
      "23\n",
      "[ 1 11 21 31 41]\n",
      "[ 1 11 21 31 41]\n",
      "[[10 11 12 13]\n",
      " [20 21 22 23]]\n"
     ]
    }
   ],
   "source": [
    "def f(x, y):\n",
    "    return 10 * x + y\n",
    "\n",
    "b = np.fromfunction(f, (5, 4), dtype=np.int)\n",
    "print(b)\n",
    "print(b[2, 3])\n",
    "print(b[:5, 1])\n",
    "print(b[:, 1])\n",
    "print(b[1:3, :])"
   ]
  },
  {
   "cell_type": "markdown",
   "metadata": {
    "pycharm": {
     "name": "#%% md\n"
    }
   },
   "source": [
    "点操作 (`...`) 代表省略的冒号.如: `x` 为 5 维数组, 则:\n",
    "- `x[1, 2, ...]` = `x[1, 2, :, :, :]`\n",
    "- `x[..., 3]` = `x[:, :, :, :, 3]`\n",
    "- `x[4, ..., 5, :]` = `x[4, :, :, 5, :]`\n"
   ]
  },
  {
   "cell_type": "code",
   "execution_count": 21,
   "metadata": {
    "pycharm": {
     "is_executing": false,
     "name": "#%%\n"
    }
   },
   "outputs": [
    {
     "name": "stdout",
     "output_type": "stream",
     "text": [
      "[[[ 1  3  5]\n",
      "  [ 2  4  6]]\n",
      "\n",
      " [[10 12 14]\n",
      "  [11 13 15]]]\n",
      "[[10 12 14]\n",
      " [11 13 15]]\n",
      "[[ 5  6]\n",
      " [14 15]]\n",
      "row:  [[1 3 5]\n",
      " [2 4 6]]\n",
      "row:  [[10 12 14]\n",
      " [11 13 15]]\n",
      "element:  1\n",
      "element:  3\n",
      "element:  5\n",
      "element:  2\n",
      "element:  4\n",
      "element:  6\n",
      "element:  10\n",
      "element:  12\n",
      "element:  14\n",
      "element:  11\n",
      "element:  13\n",
      "element:  15\n"
     ]
    }
   ],
   "source": [
    "c = np.fromfunction(lambda x, y, z: 10**x + y + 2*z, (2, 2, 3), dtype=np.int)\n",
    "print(c)\n",
    "print(c[1, ...])\n",
    "print(c[..., 2])\n",
    "\n",
    "for row in c:\n",
    "    print('row: ', row)\n",
    "\n",
    "for element in c.flat:\n",
    "    print('element: ', element)"
   ]
  },
  {
   "cell_type": "markdown",
   "metadata": {},
   "source": [
    "维度控制\n"
   ]
  },
  {
   "cell_type": "code",
   "execution_count": 22,
   "metadata": {
    "pycharm": {
     "is_executing": false,
     "name": "#%% \n"
    }
   },
   "outputs": [
    {
     "name": "stdout",
     "output_type": "stream",
     "text": [
      "[[ 0  1  2  3  4]\n",
      " [ 5  6  7  8  9]\n",
      " [10 11 12 13 14]] (3, 5)\n",
      "[ 0  1  2  3  4  5  6  7  8  9 10 11 12 13 14]\n",
      "[ 0  1  2  3  4  5  6  7  8  9 10 11 12 13 14]\n",
      "[[ 0  1  2]\n",
      " [ 3  4  5]\n",
      " [ 6  7  8]\n",
      " [ 9 10 11]\n",
      " [12 13 14]] (5, 3)\n",
      "[[ 0  5 10]\n",
      " [ 1  6 11]\n",
      " [ 2  7 12]\n",
      " [ 3  8 13]\n",
      " [ 4  9 14]] (5, 3)\n",
      "[[ 0 11  8]\n",
      " [ 5  2 13]\n",
      " [10  7  4]\n",
      " [ 1 12  9]\n",
      " [ 6  3 14]] (5, 3)\n",
      "[ 0  1  2  3  4  5  6  7  8  9 10 11 12 13 14 15 16 17 18 19 20 21 22 23\n",
      " 24 25 26 27 28 29]\n",
      "(2, 5, 3)\n"
     ]
    }
   ],
   "source": [
    "a = np.array([[0, 1, 2, 3, 4], \n",
    "              [5, 6, 7, 8, 9], \n",
    "              [10, 11, 12, 13, 14]], order='F')\n",
    "print(a, a.shape)\n",
    "\n",
    "# matrix.flatten : returns a similar output matrix but always a copy\n",
    "# matrix.flat : a flat iterator on the array.\n",
    "# numpy.ravel : related function which returns an ndarray\n",
    "print(a.flatten())\n",
    "print(a.ravel())\n",
    "\n",
    "b = a.reshape(5, 3)\n",
    "print(b, b.shape)\n",
    "\n",
    "c = a.T\n",
    "print(c, c.shape)\n",
    "\n",
    "# 与 array 的 order 有关, 如果是 Fortran 风格的 array ,则与 reshape 的结果不同\n",
    "# 且会改变原 array\n",
    "a.resize(5, 3)\n",
    "print(a, a.shape)\n",
    "\n",
    "d = np.arange(30)\n",
    "print(d)\n",
    "# -1 代表任何值\n",
    "d.shape = 2, -1, 3\n",
    "print(d.shape)"
   ]
  },
  {
   "cell_type": "markdown",
   "metadata": {
    "pycharm": {
     "name": "#%% md\n"
    }
   },
   "source": [
    "array 的连接方法\n"
   ]
  },
  {
   "cell_type": "code",
   "execution_count": 23,
   "metadata": {
    "pycharm": {
     "is_executing": false,
     "name": "#%% \n"
    }
   },
   "outputs": [
    {
     "name": "stdout",
     "output_type": "stream",
     "text": [
      "[[1 1 1]\n",
      " [2 2 2]]\n",
      "[1 1 1 2 2 2]\n",
      "[[1 2]\n",
      " [1 2]\n",
      " [1 2]]\n",
      "[[1 1 1]\n",
      " [2 2 2]]\n"
     ]
    }
   ],
   "source": [
    "a = np.array([1, 1, 1])\n",
    "b = np.array([2, 2, 2])\n",
    "print(np.vstack((a, b)))\n",
    "print(np.hstack((a, b)))\n",
    "print(np.column_stack((a, b)))\n",
    "print(np.row_stack((a, b)))\n"
   ]
  },
  {
   "cell_type": "markdown",
   "metadata": {},
   "source": [
    "array 的分离方法"
   ]
  },
  {
   "cell_type": "code",
   "execution_count": 24,
   "metadata": {
    "pycharm": {
     "is_executing": false,
     "name": "#%% \n"
    }
   },
   "outputs": [
    {
     "name": "stdout",
     "output_type": "stream",
     "text": [
      "[[ 0  1  2  3  4  5]\n",
      " [ 6  7  8  9 10 11]\n",
      " [12 13 14 15 16 17]]\n",
      "[array([[ 0,  1],\n",
      "       [ 6,  7],\n",
      "       [12, 13]]), array([[ 2,  3],\n",
      "       [ 8,  9],\n",
      "       [14, 15]]), array([[ 4,  5],\n",
      "       [10, 11],\n",
      "       [16, 17]])]\n",
      "[array([[ 0],\n",
      "       [ 6],\n",
      "       [12]]), array([[ 1,  2],\n",
      "       [ 7,  8],\n",
      "       [13, 14]]), array([[ 3,  4,  5],\n",
      "       [ 9, 10, 11],\n",
      "       [15, 16, 17]])]\n",
      "[array([[0, 1, 2, 3, 4, 5]]), array([[ 6,  7,  8,  9, 10, 11]]), array([[12, 13, 14, 15, 16, 17]])]\n",
      "[array([[ 0,  1,  2,  3,  4,  5],\n",
      "       [ 6,  7,  8,  9, 10, 11]]), array([[12, 13, 14, 15, 16, 17]]), array([], shape=(0, 6), dtype=int64)]\n"
     ]
    }
   ],
   "source": [
    "\n",
    "a = np.arange(18).reshape(3, 6)\n",
    "print(a)\n",
    "# 按份数分\n",
    "print(np.hsplit(a, 3))\n",
    "# 按分割线分\n",
    "print(np.hsplit(a, (1, 3)))\n",
    "print(np.vsplit(a, 3))\n",
    "print(np.vsplit(a, (2, 5)))"
   ]
  },
  {
   "cell_type": "markdown",
   "metadata": {
    "pycharm": {
     "name": "#%% md\n"
    }
   },
   "source": [
    "array 的拷贝\n",
    "\n",
    "1. 不拷贝"
   ]
  },
  {
   "cell_type": "code",
   "execution_count": 25,
   "metadata": {
    "pycharm": {
     "is_executing": false,
     "name": "#%% \n"
    }
   },
   "outputs": [
    {
     "name": "stdout",
     "output_type": "stream",
     "text": [
      "True\n",
      "(2, 5)\n",
      "4665535264\n",
      "4665535264\n"
     ]
    }
   ],
   "source": [
    "a = np.arange(10)\n",
    "b = a\n",
    "print(b is a)\n",
    "\n",
    "b.shape = 2, 5\n",
    "print(a.shape)\n",
    "\n",
    "# 函数传参\n",
    "\n",
    "def f(x):\n",
    "    print(id(x))\n",
    "\n",
    "\n",
    "print(id(a))\n",
    "f(a)\n"
   ]
  },
  {
   "cell_type": "markdown",
   "metadata": {},
   "source": [
    "2. 浅拷贝\n"
   ]
  },
  {
   "cell_type": "code",
   "execution_count": 26,
   "metadata": {
    "pycharm": {
     "is_executing": false,
     "name": "#%% \n"
    }
   },
   "outputs": [
    {
     "name": "stdout",
     "output_type": "stream",
     "text": [
      "False False False\n",
      "(3, 10)\n",
      "[[  0   1   2   3   4   5]\n",
      " [  6   7   8 100  10  11]\n",
      " [ 12  13  14  15  16  17]\n",
      " [ 18  19  20  21  22  23]\n",
      " [ 24  25  26  27  28  29]]\n",
      "[[  0   1   2   3   4   5   6   7   8 100]\n",
      " [ 10  11  12  13  14  15  16  17  18  19]\n",
      " [ 20  21  22  23  24  25  26  27  28  29]]\n",
      "[[ 1  2]\n",
      " [11 12]\n",
      " [21 22]]\n",
      "[[  0  10  10   3   4   5   6   7   8 100]\n",
      " [ 10  10  10  13  14  15  16  17  18  19]\n",
      " [ 20  10  10  23  24  25  26  27  28  29]]\n"
     ]
    }
   ],
   "source": [
    "a = np.arange(30).reshape(3,10)\n",
    "\n",
    "c = a.view()\n",
    "print(c is a, c.base is a, c.flags.owndata)\n",
    "\n",
    "c.shape = 5, 6\n",
    "print(a.shape)\n",
    "\n",
    "c[1, 3] = 100\n",
    "print(c)\n",
    "print(a)\n",
    "\n",
    "s = a[:, 1:3]\n",
    "print(s)\n",
    "\n",
    "s[:] = 10\n",
    "print(a)"
   ]
  },
  {
   "cell_type": "markdown",
   "metadata": {},
   "source": [
    "3. 深拷贝\n"
   ]
  },
  {
   "cell_type": "code",
   "execution_count": 27,
   "metadata": {
    "pycharm": {
     "is_executing": false,
     "name": "#%% \n"
    }
   },
   "outputs": [
    {
     "name": "stdout",
     "output_type": "stream",
     "text": [
      "False False\n",
      "[[100   1   2   3   4   5   6   7   8   9]\n",
      " [ 10  11  12  13  14  15  16  17  18  19]\n",
      " [ 20  21  22  23  24  25  26  27  28  29]]\n",
      "[[ 0  1  2  3  4  5  6  7  8  9]\n",
      " [10 11 12 13 14 15 16 17 18 19]\n",
      " [20 21 22 23 24 25 26 27 28 29]]\n"
     ]
    }
   ],
   "source": [
    "a = np.arange(30).reshape(3,10)\n",
    "\n",
    "d = a.copy()\n",
    "print(d is a, d.base is a)\n",
    "\n",
    "d[0, 0] = 100\n",
    "print(d)\n",
    "print(a)"
   ]
  },
  {
   "cell_type": "markdown",
   "metadata": {},
   "source": [
    "\n",
    "### 传播规则\n",
    "\n",
    "让通用函数处理不同 shape 的 array 的一种手段.\n",
    "\n",
    "需要 arrays 的维度满足以下条件:\n",
    "1. 相同,或者\n",
    "2. 其中之一为 1\n",
    "\n",
    "如:\n",
    "\n",
    "```\n",
    "    Image  (3d array): 256 x 256 x 3\n",
    "    Scale  (1d array):             3\n",
    "    Result (3d array): 256 x 256 x 3\n",
    "    \n",
    "    A      (4d array):  8 x 1 x 6 x 1\n",
    "    B      (3d array):      7 x 1 x 5\n",
    "    Result (4d array):  8 x 7 x 6 x 5\n",
    "```\n"
   ]
  },
  {
   "cell_type": "code",
   "execution_count": 28,
   "metadata": {
    "pycharm": {
     "is_executing": false,
     "name": "#%% \n"
    }
   },
   "outputs": [
    {
     "name": "stdout",
     "output_type": "stream",
     "text": [
      "[[[1. 1. 1. 1. 1.]]\n",
      "\n",
      " [[1. 1. 1. 1. 1.]]\n",
      "\n",
      " [[1. 1. 1. 1. 1.]]]\n",
      "[[ 0  1  2  3  4]\n",
      " [ 5  6  7  8  9]\n",
      " [10 11 12 13 14]]\n",
      "[[[ 1.  2.  3.  4.  5.]\n",
      "  [ 6.  7.  8.  9. 10.]\n",
      "  [11. 12. 13. 14. 15.]]\n",
      "\n",
      " [[ 1.  2.  3.  4.  5.]\n",
      "  [ 6.  7.  8.  9. 10.]\n",
      "  [11. 12. 13. 14. 15.]]\n",
      "\n",
      " [[ 1.  2.  3.  4.  5.]\n",
      "  [ 6.  7.  8.  9. 10.]\n",
      "  [11. 12. 13. 14. 15.]]] (3, 3, 5)\n"
     ]
    }
   ],
   "source": [
    "a = np.ones((3, 1, 5))\n",
    "b = np.arange(15).reshape(3, 5)\n",
    "print(a)\n",
    "print(b)\n",
    "c = a + b\n",
    "print(c, c.shape)"
   ]
  },
  {
   "cell_type": "markdown",
   "metadata": {
    "pycharm": {
     "name": "#%% md\n"
    }
   },
   "source": [
    "使用 array index\n"
   ]
  },
  {
   "cell_type": "code",
   "execution_count": 29,
   "metadata": {
    "pycharm": {
     "is_executing": false,
     "name": "#%% \n"
    }
   },
   "outputs": [
    {
     "name": "stdout",
     "output_type": "stream",
     "text": [
      "[  0   1   4   9  16  25  36  49  64  81 100 121]\n",
      "[ 1  4  9 64 25]\n",
      "[[ 9 25]\n",
      " [81 49]]\n"
     ]
    }
   ],
   "source": [
    "a = np.arange(12) ** 2\n",
    "print(a)\n",
    "i = np.array([1, 2, 3, 8, 5])\n",
    "\n",
    "print(a[i])\n",
    "\n",
    "j = np.array([[3, 5], [9, 7]])\n",
    "print(a[j])"
   ]
  },
  {
   "cell_type": "markdown",
   "metadata": {},
   "source": [
    "使用多维 array index\n"
   ]
  },
  {
   "cell_type": "code",
   "execution_count": 30,
   "metadata": {
    "pycharm": {
     "is_executing": false,
     "name": "#%% \n"
    }
   },
   "outputs": [
    {
     "name": "stdout",
     "output_type": "stream",
     "text": [
      "[[[0 0 0]\n",
      "  [1 1 1]\n",
      "  [0 2 0]\n",
      "  [0 0 0]]\n",
      "\n",
      " [[0 0 0]\n",
      "  [0 0 3]\n",
      "  [5 0 5]\n",
      "  [0 0 0]]]\n",
      "[[ 0  1  2  3  4]\n",
      " [ 5  6  7  8  9]\n",
      " [10 11 12 13 14]]\n",
      "[[ 2  6]\n",
      " [ 8 13]]\n"
     ]
    }
   ],
   "source": [
    "a = np.array([[0, 0, 0],\n",
    "              [1, 1, 1],\n",
    "              [0, 2, 0],\n",
    "              [0, 0, 3],\n",
    "              [0, 0, 4],\n",
    "              [5, 0, 5]])\n",
    "\n",
    "i = np.array([[0, 1, 2, 0], [0, 3, 5, 0]])\n",
    "\n",
    "print(a[i])\n",
    "\n",
    "a = np.arange(15).reshape(3, 5)\n",
    "print(a)\n",
    "# 1 维\n",
    "i = np.array([[0, 1],\n",
    "              [1, 2]])\n",
    "# 2 维\n",
    "j = np.array([[2, 1],\n",
    "              [3, 3]])\n",
    "\n",
    "# i, j 的 shape 必须一致\n",
    "print(a[i, j])"
   ]
  },
  {
   "cell_type": "markdown",
   "metadata": {},
   "source": [
    "使用 boolean array index\n"
   ]
  },
  {
   "cell_type": "code",
   "execution_count": 31,
   "metadata": {
    "pycharm": {
     "is_executing": false,
     "name": "#%% \n"
    }
   },
   "outputs": [
    {
     "name": "stdout",
     "output_type": "stream",
     "text": [
      "[[False False False False False]\n",
      " [False  True  True  True  True]\n",
      " [ True  True  True  True  True]]\n",
      "[ 6  7  8  9 10 11 12 13 14]\n",
      "[[0 1 2 3 4]\n",
      " [5 0 0 0 0]\n",
      " [0 0 0 0 0]]\n"
     ]
    }
   ],
   "source": [
    "a = np.arange(15).reshape(3, 5)\n",
    "b = a > 5\n",
    "print(b)\n",
    "print(a[b])\n",
    "\n",
    "a[b] = 0\n",
    "print(a)\n"
   ]
  },
  {
   "cell_type": "markdown",
   "metadata": {},
   "source": [
    "[ix_](https://www.numpy.org/devdocs/reference/generated/numpy.ix_.html#numpy.ix_) 函数\n",
    "快速构造 index\n"
   ]
  },
  {
   "cell_type": "code",
   "execution_count": 32,
   "metadata": {
    "pycharm": {
     "is_executing": false,
     "name": "#%% \n"
    },
    "scrolled": true
   },
   "outputs": [
    {
     "name": "stdout",
     "output_type": "stream",
     "text": [
      "[[0 1 2 3 4]\n",
      " [5 6 7 8 9]] (array([[0],\n",
      "       [1]]), array([[2, 3]]))\n",
      "[[2 3]\n",
      " [7 8]]\n"
     ]
    }
   ],
   "source": [
    "a = np.arange(10).reshape(2, 5)\n",
    "ix = np.ix_([0, 1], [2, 3])\n",
    "print(a, ix)\n",
    "print(a[ix])\n"
   ]
  },
  {
   "cell_type": "markdown",
   "metadata": {},
   "source": [
    "线性代数"
   ]
  },
  {
   "cell_type": "code",
   "execution_count": 33,
   "metadata": {},
   "outputs": [
    {
     "name": "stdout",
     "output_type": "stream",
     "text": [
      "[[1. 2.]\n",
      " [3. 4.]]\n",
      "[[1. 3.]\n",
      " [2. 4.]]\n",
      "[[-2.   1. ]\n",
      " [ 1.5 -0.5]]\n",
      "[[1. 0.]\n",
      " [0. 1.]]\n",
      "2.0\n",
      "[[-1.  0.]\n",
      " [ 0. -1.]]\n",
      "[[-3.]\n",
      " [ 4.]]\n"
     ]
    }
   ],
   "source": [
    "a = np.array([[1., 2.], \n",
    "              [3., 4.]])\n",
    "print(a)\n",
    "\n",
    "print(a.transpose())\n",
    "\n",
    "print(np.linalg.inv(a))\n",
    "\n",
    "u = np.eye(2)\n",
    "print(u)\n",
    "print(np.trace(u))\n",
    "\n",
    "j = np.array([[0., -1.], \n",
    "              [1., 0.]])\n",
    "print(j@j)\n",
    "\n",
    "b = np.array([[5.], \n",
    "              [7.]])\n",
    "print(np.linalg.solve(a, b))"
   ]
  },
  {
   "cell_type": "markdown",
   "metadata": {},
   "source": [
    "### 其他"
   ]
  },
  {
   "cell_type": "markdown",
   "metadata": {},
   "source": [
    "np.prod: array 对应 axis 的乘积"
   ]
  },
  {
   "cell_type": "code",
   "execution_count": 34,
   "metadata": {},
   "outputs": [
    {
     "name": "stdout",
     "output_type": "stream",
     "text": [
      "30\n",
      "[ 2 15]\n",
      "[ 3 10]\n"
     ]
    }
   ],
   "source": [
    "print(np.prod([[1, 3], [2, 5]]))\n",
    "print(np.prod([[1, 3], [2, 5]], axis = 0))\n",
    "print(np.prod([[1, 3], [2, 5]], axis = 1))"
   ]
  },
  {
   "cell_type": "code",
   "execution_count": 35,
   "metadata": {},
   "outputs": [
    {
     "name": "stdout",
     "output_type": "stream",
     "text": [
      "[0 2 3 4 1]\n",
      "[1 5 7 8 9]\n"
     ]
    }
   ],
   "source": [
    "a = np.array([1, 9, 5, 7, 8])\n",
    "print(np.argsort(a))\n",
    "print(a[np.argsort(a)])"
   ]
  },
  {
   "cell_type": "code",
   "execution_count": 36,
   "metadata": {},
   "outputs": [
    {
     "name": "stdout",
     "output_type": "stream",
     "text": [
      "2.6666666666666665\n",
      "3.0\n",
      "2.6666666666666665\n"
     ]
    }
   ],
   "source": [
    "a = [1, 3, 5]\n",
    "print(np.var(a))\n",
    "print(np.mean(a))\n",
    "# var 的计算方法\n",
    "print(np.mean((a - np.mean(a))**2))"
   ]
  },
  {
   "cell_type": "code",
   "execution_count": 37,
   "metadata": {},
   "outputs": [
    {
     "name": "stdout",
     "output_type": "stream",
     "text": [
      "[[ 0  1  2  3  4  5]\n",
      " [ 6  7  8  9 10 11]\n",
      " [12 13 14 15 16 17]\n",
      " [18 19 20 21 22 23]\n",
      " [24 25 26 27 28 29]\n",
      " [30 31 32 33 34 35]]\n",
      "[ 0  7 14 21 28 35]\n",
      "[[0 0 0 0 0]\n",
      " [0 1 0 0 0]\n",
      " [0 0 2 0 0]\n",
      " [0 0 0 3 0]\n",
      " [0 0 0 0 4]]\n"
     ]
    }
   ],
   "source": [
    "a = np.arange(36).reshape(6, 6)\n",
    "print(a)\n",
    "# 取斜行数据\n",
    "print(np.diag(a))\n",
    "print(np.diag(np.arange(5)))"
   ]
  },
  {
   "cell_type": "code",
   "execution_count": 38,
   "metadata": {},
   "outputs": [
    {
     "name": "stdout",
     "output_type": "stream",
     "text": [
      "[188 159 174 150 178 151]\n",
      "[[171 168 164 163 166 168]\n",
      " [184 180 155 183 143 155]]\n",
      "[169 333 175 143 180   0]\n",
      "[161  83 167 191 155 243]\n"
     ]
    }
   ],
   "source": [
    "# 扔 1000 次骰子, 得到每个点数的次数\n",
    "print(np.random.multinomial(1000, [1./6, 1./6, 1./6, 1./6, 1./6, 1./6]))\n",
    "print(np.random.multinomial(1000, [1./ 6] * 6, size = 2))\n",
    "# 当数组内的概率 不等于 1 时,只影响最后一位的次数\n",
    "print(np.random.multinomial(1000, [1./6, 2./6, 1./6, 1./6, 1./6, 1./6]))\n",
    "print(np.random.multinomial(1000, [1./6, .5/6, 1./6, 1./6, 1./6, 1./6]))"
   ]
  },
  {
   "cell_type": "code",
   "execution_count": 39,
   "metadata": {},
   "outputs": [
    {
     "name": "stdout",
     "output_type": "stream",
     "text": [
      "[[ 31.84458484 -26.30632633]\n",
      " [ 31.21612215 -26.91127575]\n",
      " [ 30.08397113 -45.48702381]\n",
      " ...\n",
      " [ 27.53837578 -32.67774772]\n",
      " [ 29.35227333 -34.91950522]\n",
      " [ 33.58892415 -23.46559509]] (5000, 2)\n"
     ]
    },
    {
     "data": {
      "text/plain": [
       "<Figure size 640x480 with 1 Axes>"
      ]
     },
     "metadata": {},
     "output_type": "display_data"
    }
   ],
   "source": [
    "import matplotlib.pyplot as plt\n",
    "# 使用正态分布抽样多维度数据: 第二个参数为 斜行方阵\n",
    "# np.random.randn 的高级版本\n",
    "a = np.random.multivariate_normal([30, -30], [[10, 0], [0, 100]], 5000)\n",
    "print(a, a.shape)\n",
    "x, y = a.T\n",
    "plt.plot(x, y, 'o')\n",
    "plt.axis('equal')\n",
    "plt.show()"
   ]
  },
  {
   "cell_type": "code",
   "execution_count": 40,
   "metadata": {},
   "outputs": [
    {
     "name": "stdout",
     "output_type": "stream",
     "text": [
      "[ 0  1  4  9 16 25 36 49 64 81]\n",
      "[81 64 49 36 25 16  9  4  1  0]\n"
     ]
    }
   ],
   "source": [
    "a = np.arange(10) ** 2\n",
    "print(a)\n",
    "# 翻转 ndarray\n",
    "print(a[::-1])"
   ]
  },
  {
   "cell_type": "code",
   "execution_count": 2,
   "metadata": {},
   "outputs": [
    {
     "name": "stdout",
     "output_type": "stream",
     "text": [
      "[[ 2.14799752 -0.41820876 -1.47994605 ... -0.84206837 -1.86625846\n",
      "  -1.4081478 ]\n",
      " [ 0.66222753  1.34409151 -0.98362023 ... -1.10363367 -1.88541754\n",
      "   2.01587128]\n",
      " [ 0.26666903  0.2307335   1.57919177 ...  0.43872329  1.55609708\n",
      "  -0.25898404]\n",
      " ...\n",
      " [-1.45421971 -1.89195246  0.2354702  ...  0.76210366 -0.61513514\n",
      "   1.03357194]\n",
      " [-0.42594522  1.15614142  0.39275416 ... -0.05754799 -0.04360392\n",
      "   0.41129031]\n",
      " [ 1.18292729 -1.38342697  0.25335201 ... -0.6154701   0.74358864\n",
      "   1.28865376]]\n",
      "(36,)\n"
     ]
    }
   ],
   "source": [
    "a = np.random.randn(500, 36)\n",
    "print(a)\n",
    "print(np.mean(a[:100], axis = 0).shape)"
   ]
  },
  {
   "cell_type": "code",
   "execution_count": 26,
   "metadata": {},
   "outputs": [
    {
     "name": "stdout",
     "output_type": "stream",
     "text": [
      "[[ 85.92321856 -36.72488908 -63.21623766 -59.08794429  13.54500582]\n",
      " [ 19.1089406   92.90290395  30.63541937  49.78132751  30.71397417]\n",
      " [ 49.54296185  92.26134721 -98.32234041 -78.71112466 -40.25925725]]\n",
      "[[ 85.92321856 -36.72488908 -63.21623766 -59.08794429  13.54500582]\n",
      " [ 19.1089406   92.90290395  30.63541937  49.78132751  30.71397417]\n",
      " [ 49.54296185  92.26134721 -98.32234041 -78.71112466 -40.25925725]]\n"
     ]
    }
   ],
   "source": [
    "np.random.seed(12345)\n",
    "print(np.random.uniform(-100, 100, size=(3, 5)))\n",
    "np.random.seed(12345)\n",
    "print(np.random.rand(3, 5) * 200 - 100)"
   ]
  },
  {
   "cell_type": "code",
   "execution_count": 2,
   "metadata": {},
   "outputs": [
    {
     "name": "stdout",
     "output_type": "stream",
     "text": [
      "[4 9 7 5 3 1 2 8 0 6]\n"
     ]
    }
   ],
   "source": [
    "print(np.random.permutation(np.arange(10)))"
   ]
  },
  {
   "cell_type": "code",
   "execution_count": 135,
   "metadata": {},
   "outputs": [
    {
     "name": "stdout",
     "output_type": "stream",
     "text": [
      "[6 6 6]\n",
      "[9 5 0 6 3 4 8 1 2 7]\n"
     ]
    }
   ],
   "source": [
    "print(np.full(3, 6))\n",
    "a = np.arange(10)\n",
    "np.random.shuffle(a)\n",
    "print(a)"
   ]
  },
  {
   "cell_type": "code",
   "execution_count": 2,
   "metadata": {},
   "outputs": [
    {
     "name": "stdout",
     "output_type": "stream",
     "text": [
      "[1 1 1 1 1 1 1 1 1 1]\n",
      "[1 3 0 2 0 2]\n"
     ]
    }
   ],
   "source": [
    "print(np.bincount(np.arange(10)))\n",
    "print(np.bincount(np.array([1,3,0,1,5,3,1,5])))"
   ]
  }
 ],
 "metadata": {
  "kernelspec": {
   "display_name": "Python 3",
   "language": "python",
   "name": "python3"
  },
  "language_info": {
   "codemirror_mode": {
    "name": "ipython",
    "version": 3
   },
   "file_extension": ".py",
   "mimetype": "text/x-python",
   "name": "python",
   "nbconvert_exporter": "python",
   "pygments_lexer": "ipython3",
   "version": "3.7.4"
  },
  "pycharm": {
   "stem_cell": {
    "cell_type": "raw",
    "metadata": {
     "collapsed": false
    },
    "source": []
   }
  }
 },
 "nbformat": 4,
 "nbformat_minor": 1
}
