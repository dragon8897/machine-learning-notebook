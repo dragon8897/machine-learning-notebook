{
 "cells": [
  {
   "cell_type": "markdown",
   "metadata": {},
   "source": [
    "# Logic Regression\n",
    "\n",
    "对于样本: $\\{x_{1}, y_{1}\\}, \\{x_{2}, y_{2}\\},\\dots,\\{x_{m}, y_{m}\\}$\n",
    "\n",
    "### 假设函数:\n",
    "\n",
    "需求: $0 \\leq h_{\\theta} \\leq 1$\n",
    "\n",
    "则:\n",
    "$$\n",
    "h_{\\theta}(x) = g(\\theta^T\\cdot x) \\\\\n",
    "g(z) = \\frac{1}{1 + e^{-z}}\n",
    "$$\n",
    "\n",
    "$h_{\\theta}(x)$ 表示为概率\n",
    "$$\n",
    "h_{\\theta}(x)=P(y=1|x;θ)=1−P(y=0|x;θ) \\\\\n",
    "P(y=0|x;θ)+P(y=1|x;θ)=1\n",
    "$$\n",
    "\n",
    "可令:\n",
    "当 $h_{\\theta}(x) \\geq 0.5$ 时, $y = 1$;\n",
    "当 $h_{\\theta}(x) \\lt 0.5$ 时, $y = 0$;\n",
    "\n",
    "### 代价函数:\n",
    "\n",
    "$$\n",
    "J_{\\theta} = \\frac{1}{m}\\sum_{i=1}^{m}(Cost(h_{\\theta}(x^{(i)}), y^{(i)})\\\\\n",
    "\\begin{array}{ll}\n",
    "Cost(h_{\\theta}(x), y) = -log(h_{\\theta}(x)) & \\textrm{if y == 1}\\\\\n",
    "Cost(h_{\\theta}(x), y) = -log(1 - h_{\\theta}(x)) & \\textrm{if y == 0}\n",
    "\\end{array}\n",
    "$$\n",
    "\n",
    "简化版:\n",
    "$$\n",
    "J_{\\theta} = -\\frac{1}{m}\\sum_{i=1}^{m}[y^{(i)}log(h_{\\theta}(x^{(i)}) + (1 - y^{(i)})log(1 - h_{\\theta}(x^{(i)}))]\n",
    "$$\n",
    "\n",
    "向量化:\n",
    "$$\n",
    "h = g(X\\cdot\\Theta) \\\\\n",
    "J_θ = -\\frac{1}{m}(y^Tlog(h)+(1−y)^Tlog(1−h))\n",
    "$$\n",
    "\n",
    "### 梯度下降算法\n",
    "\n",
    "$\\alpha$ : 学习速率\n",
    "\n",
    "$$\n",
    "\\begin{align*}\n",
    "& \\text{repeat until convergence } \\{ \\\\\n",
    "& \\quad\\theta_{j} := \\theta_{j} - \\alpha\\frac{\\partial}{\\partial\\theta_{j}}J_{(\\theta)} \\\\\n",
    "& \\} \\\\\n",
    "\\end{align*}\n",
    "$$\n",
    "\n",
    "计算导数后得：\n",
    "\n",
    "$$\n",
    "\\begin{align*}\n",
    "& \\text{repeat until convergence } \\{ \\\\\n",
    "& \\quad\\theta_{j} := \\theta_{j} - \\frac{\\alpha}{m}\\sum_{i=1}^m[(h_{\\theta}(x^{(i)}) - y^{(i)})\\cdot x_{j}] \\\\\n",
    "& \\} \\\\\n",
    "\\end{align*}\n",
    "$$\n",
    "\n",
    "注：$\\{\\theta_{0},\\theta_{1},\\dots,\\theta_{j}\\}$ 需要同步更新\n",
    "\n",
    "向量化:\n",
    "\n",
    "$$\n",
    "\\Theta = \\Theta - \\frac{\\alpha}{m} X^T(g(X\\cdot\\Theta) - y)\n",
    "$$\n",
    "\n",
    "### 其他优化算法\n",
    "\n",
    "- Conjugate gradient\n",
    "- BFGS\n",
    "- L-BFGS\n",
    "\n",
    "优点|缺点\n",
    "----|----\n",
    "1. 不需要手动选择 $\\alpha$ | 比较复杂\n",
    "2. 比梯度下降要快 |"
   ]
  },
  {
   "cell_type": "markdown",
   "metadata": {},
   "source": [
    "### 生成学习数据"
   ]
  },
  {
   "cell_type": "code",
   "execution_count": 2,
   "metadata": {},
   "outputs": [],
   "source": [
    "import numpy as np\n",
    "\n",
    "def generate_data(num):\n",
    "    x = np.random.rand(num, 2) * 10\n",
    "    y = np.sum((x - np.array([5, 5])) ** 2, axis = 1) < 9\n",
    "    y = (y + 0).reshape(num, 1)\n",
    "    return x, y"
   ]
  },
  {
   "cell_type": "code",
   "execution_count": 5,
   "metadata": {},
   "outputs": [
    {
     "data": {
      "image/png": "[encoded data removed]",
      "text/plain": [
       "<Figure size 432x288 with 1 Axes>"
      ]
     },
     "metadata": {
      "needs_background": "light"
     },
     "output_type": "display_data"
    }
   ],
   "source": [
    "import matplotlib.pyplot as plt\n",
    "\n",
    "x, y = generate_data(300)\n",
    "p = x[y[:, 0] == 1]\n",
    "n = x[y[:, 0] == 0]\n",
    "\n",
    "plt.plot(p[:, 0], p[:, 1], 'o')\n",
    "plt.plot(n[:, 0], n[:, 1], 'x')\n",
    "plt.show()"
   ]
  },
  {
   "cell_type": "markdown",
   "metadata": {},
   "source": [
    "### 定义sigmod激活函数"
   ]
  },
  {
   "cell_type": "code",
   "execution_count": 6,
   "metadata": {},
   "outputs": [],
   "source": [
    "def sigmod(z):\n",
    "    return 1 / (1 + np.exp(-z))"
   ]
  },
  {
   "cell_type": "markdown",
   "metadata": {},
   "source": [
    "### 假设函数"
   ]
  },
  {
   "cell_type": "code",
   "execution_count": 7,
   "metadata": {},
   "outputs": [],
   "source": [
    "def h_x(x, theta):\n",
    "    return sigmod(x @ theta)"
   ]
  },
  {
   "cell_type": "markdown",
   "metadata": {},
   "source": [
    "### 成本函数"
   ]
  },
  {
   "cell_type": "code",
   "execution_count": 8,
   "metadata": {},
   "outputs": [],
   "source": [
    "def J_theta(h, y):\n",
    "    m = len(y)\n",
    "    cost = - (y.T @ np.log(h) + (1 - y).T @ np.log(1 - h)) / m\n",
    "    return cost[0, 0]"
   ]
  },
  {
   "cell_type": "markdown",
   "metadata": {},
   "source": [
    "### 更新 $\\Theta$"
   ]
  },
  {
   "cell_type": "code",
   "execution_count": 9,
   "metadata": {},
   "outputs": [],
   "source": [
    "def update_theta(theta, alpha, x, y):\n",
    "    m = len(y)\n",
    "    theta = theta - alpha / m * (x.T @ (h_x(x, theta) - y))\n",
    "    return theta"
   ]
  },
  {
   "cell_type": "markdown",
   "metadata": {},
   "source": [
    "### 训练"
   ]
  },
  {
   "cell_type": "code",
   "execution_count": 10,
   "metadata": {},
   "outputs": [],
   "source": [
    "def train(t):\n",
    "    # 处理 bias\n",
    "    x_b = np.c_[np.ones(x.shape[0]), x]\n",
    "    # theta[0] ~ bias\n",
    "    theta = np.random.rand(x_b.shape[1], 1)\n",
    "    J_history = []\n",
    "    for i in range(t):\n",
    "        J = J_theta(h_x(x_b, theta), y)\n",
    "        J_history.append(J)\n",
    "        theta = update_theta(theta, 0.01, x_b, y)\n",
    "    return theta, J_history"
   ]
  },
  {
   "cell_type": "code",
   "execution_count": 11,
   "metadata": {},
   "outputs": [
    {
     "name": "stdout",
     "output_type": "stream",
     "text": [
      "[[ 0.05473655]\n",
      " [-0.09798013]\n",
      " [-0.10351521]]\n"
     ]
    },
    {
     "data": {
      "image/png": "[encoded data removed]",
      "text/plain": [
       "<Figure size 432x288 with 1 Axes>"
      ]
     },
     "metadata": {
      "needs_background": "light"
     },
     "output_type": "display_data"
    }
   ],
   "source": [
    "theta, J_history = train(100)\n",
    "print(theta)\n",
    "\n",
    "plt.plot(J_history)\n",
    "plt.show()"
   ]
  }
 ],
 "metadata": {
  "kernelspec": {
   "display_name": "PyCharm (jupyter)",
   "language": "python",
   "name": "pycharm-34f9d306"
  },
  "language_info": {
   "codemirror_mode": {
    "name": "ipython",
    "version": 3
   },
   "file_extension": ".py",
   "mimetype": "text/x-python",
   "name": "python",
   "nbconvert_exporter": "python",
   "pygments_lexer": "ipython3",
   "version": "3.7.4"
  }
 },
 "nbformat": 4,
 "nbformat_minor": 2
}
