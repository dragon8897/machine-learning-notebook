{
 "cells": [
  {
   "cell_type": "markdown",
   "metadata": {},
   "source": [
    "# Linear Regression\n",
    "\n",
    "对于样本: $\\{x_{1}, y_{1}\\}, \\{x_{2}, y_{2}\\},\\dots,\\{x_{m}, y_{m}\\}$\n",
    "\n",
    "参数：$\\theta_{0}, \\theta_{1}$\n",
    "\n",
    "假设函数：\n",
    "$$\n",
    "h_{\\theta}(x) = \\theta_{0} + \\theta_{1}x\n",
    "$$\n",
    "\n",
    "代价函数：\n",
    "$$\n",
    "J_{(\\theta_{0}, \\theta_{1})} = \\frac{1}{2m}\\sum_{i=1}^m(h_{\\theta}(x_{i}) - y_{i}) ^ 2\n",
    "$$\n",
    "\n",
    "目标：找到$\\theta_{0}, \\theta_{1}$，使$J_{(\\theta_{0}, \\theta_{1})}$ 最小\n",
    "\n",
    "注：$(\\frac{1}{2})$ 是为了便利的计算代价函数的导数，用于梯度下降。\n",
    "\n",
    "### 梯度下降算法\n",
    "\n",
    "$\\alpha$ : 学习速率\n",
    "\n",
    "$$\n",
    "\\begin{align*}\n",
    "& \\text{repeat until convergence } \\{ \\\\\n",
    "& \\quad\\theta_{j} := \\theta_{j} - \\alpha\\frac{\\partial}{\\partial\\theta_{j}}J_{(\\theta_{0}, \\theta_{1})} \\quad \\textrm{(for j = 0 and j = 1)} \\\\\n",
    "& \\} \\\\\n",
    "\\end{align*}\n",
    "$$\n",
    "\n",
    "计算导数后得:\n",
    "$$\n",
    "\\begin{align*}\n",
    "& \\text{repeat until convergence } \\{ \\\\\n",
    "& \\quad\\theta_{j} := \\theta_{j} - \\alpha\\frac{1}{m}\\sum_{i=1}^m[(h_{\\theta}(x_{i}) - y_{i})\\cdot x_{i}] \\quad \\textrm{(for j = 0 and j = 1)} \\\\\n",
    "& \\} \\\\\n",
    "\\end{align*}\n",
    "$$\n",
    "\n",
    "注：$\\{\\theta_{0},\\theta_{1},\\dots,\\theta_{j}\\}$ 需要同步更新"
   ]
  },
  {
   "cell_type": "markdown",
   "metadata": {},
   "source": [
    "### 生成学习数据"
   ]
  },
  {
   "cell_type": "code",
   "execution_count": 1,
   "metadata": {},
   "outputs": [],
   "source": [
    "import numpy as np\n",
    "\n",
    "def generate_data(num):\n",
    "    x = np.linspace(0, 10, num)\n",
    "    # 添加 bias\n",
    "    b = np.random.randn(num) + 5\n",
    "    y = x * 3.6 + b\n",
    "    return x, y"
   ]
  },
  {
   "cell_type": "code",
   "execution_count": 2,
   "metadata": {},
   "outputs": [
    {
     "data": {
      "text/plain": [
       "<Figure size 640x480 with 1 Axes>"
      ]
     },
     "metadata": {},
     "output_type": "display_data"
    }
   ],
   "source": [
    "import matplotlib.pyplot as plt\n",
    "\n",
    "x, y = generate_data(100)\n",
    "plt.plot(x, y, 'o')\n",
    "plt.show()"
   ]
  },
  {
   "cell_type": "markdown",
   "metadata": {},
   "source": [
    "### 定义 $\\theta_0, \\theta_1$"
   ]
  },
  {
   "cell_type": "code",
   "execution_count": 3,
   "metadata": {},
   "outputs": [],
   "source": [
    "theta_0 = 0\n",
    "theta_1 = np.random.rand()\n",
    "\n",
    "def init_theta():\n",
    "    global theta_0, theta_1\n",
    "    theta_0 = 0\n",
    "    theta_1 = np.random.rand()"
   ]
  },
  {
   "cell_type": "markdown",
   "metadata": {},
   "source": [
    "### 假设函数 "
   ]
  },
  {
   "cell_type": "code",
   "execution_count": 4,
   "metadata": {},
   "outputs": [],
   "source": [
    "def h_x(x, theta_0, theta_1):\n",
    "    return x * theta_1 + theta_0"
   ]
  },
  {
   "cell_type": "markdown",
   "metadata": {},
   "source": [
    "### 代价函数"
   ]
  },
  {
   "cell_type": "code",
   "execution_count": 5,
   "metadata": {},
   "outputs": [],
   "source": [
    "def j_x(h, y):\n",
    "    m = len(h)\n",
    "    return np.sum((h - y) ** 2) * 0.5 / m"
   ]
  },
  {
   "cell_type": "markdown",
   "metadata": {},
   "source": [
    "### 更新 $\\theta_0, \\theta_1$"
   ]
  },
  {
   "cell_type": "code",
   "execution_count": 6,
   "metadata": {},
   "outputs": [],
   "source": [
    "def update_theta(h, x, y, alpha):\n",
    "    global theta_0, theta_1\n",
    "    m = len(h)\n",
    "    theta_0 -= alpha * np.sum(h - y) / m\n",
    "    theta_1 -= alpha * np.sum((h - y) * x) / m"
   ]
  },
  {
   "cell_type": "markdown",
   "metadata": {},
   "source": [
    "### 训练"
   ]
  },
  {
   "cell_type": "code",
   "execution_count": 12,
   "metadata": {},
   "outputs": [],
   "source": [
    "def train(t):\n",
    "    J_history = []\n",
    "    init_theta()\n",
    "    for i in range(t):\n",
    "        h = h_x(x, theta_0, theta_1)\n",
    "        J_history.append(j_x(h, y))\n",
    "        update_theta(h, x, y, 0.01)\n",
    "    \n",
    "    return J_history"
   ]
  },
  {
   "cell_type": "code",
   "execution_count": 13,
   "metadata": {},
   "outputs": [
    {
     "name": "stdout",
     "output_type": "stream",
     "text": [
      "3.6856174126193753 3.7937253820249976\n"
     ]
    },
    {
     "data": {
      "image/png": "[encoded data removed]",
      "text/plain": [
       "<Figure size 432x288 with 1 Axes>"
      ]
     },
     "metadata": {
      "needs_background": "light"
     },
     "output_type": "display_data"
    }
   ],
   "source": [
    "J_history = train(500)\n",
    "print(theta_0, theta_1)\n",
    "plt.plot(J_history)\n",
    "plt.show()"
   ]
  },
  {
   "cell_type": "markdown",
   "metadata": {},
   "source": [
    "### 显示预测数据"
   ]
  },
  {
   "cell_type": "code",
   "execution_count": 14,
   "metadata": {},
   "outputs": [
    {
     "data": {
      "image/png": "[encoded data removed]",
      "text/plain": [
       "<Figure size 432x288 with 1 Axes>"
      ]
     },
     "metadata": {
      "needs_background": "light"
     },
     "output_type": "display_data"
    }
   ],
   "source": [
    "plt.plot(x, y, 'o')\n",
    "plt.plot(x, x * theta_1 + theta_0)\n",
    "plt.show()"
   ]
  },
  {
   "cell_type": "markdown",
   "metadata": {},
   "source": [
    "## 正规方程解法\n",
    "\n",
    "### 公式：\n",
    "\n",
    "$$\n",
    "\\Theta = (X^T\\cdot X)^{-1}\\cdot X^T\\cdot Y\n",
    "$$\n",
    "\n",
    "可以直接算出 $\\Theta$ 的最佳解。\n",
    "\n",
    "### 优缺点\n",
    "优点|缺点\n",
    "----|----\n",
    "不需要选择学习速率|需要计算 $(X^T\\cdot X)^{-1}$，计算量：$O(n^3)$\n",
    "不需要迭代|不适用于大数据量\n",
    "\n",
    "### 适用范围\n",
    "\n",
    "- $n \\leq 10000$\n",
    "- $X^T\\cdot X$ 可逆(即需要样本数量 m $\\gg$ 特征数量n)"
   ]
  },
  {
   "cell_type": "code",
   "execution_count": 10,
   "metadata": {},
   "outputs": [],
   "source": [
    "def normal_equation(x, y):\n",
    "    x = np.c_[np.ones(x.shape[0]), x]\n",
    "    return np.linalg.inv(x.T @ x) @ x.T @ y"
   ]
  },
  {
   "cell_type": "code",
   "execution_count": 11,
   "metadata": {},
   "outputs": [
    {
     "name": "stdout",
     "output_type": "stream",
     "text": [
      "[[4.96405959]\n",
      " [3.60149858]]\n"
     ]
    }
   ],
   "source": [
    "print(normal_equation(x.reshape(len(x), 1), y.reshape(len(y), 1)))"
   ]
  },
  {
   "cell_type": "code",
   "execution_count": null,
   "metadata": {},
   "outputs": [],
   "source": []
  }
 ],
 "metadata": {
  "kernelspec": {
   "display_name": "PyCharm (jupyter)",
   "language": "python",
   "name": "pycharm-34f9d306"
  },
  "language_info": {
   "codemirror_mode": {
    "name": "ipython",
    "version": 3
   },
   "file_extension": ".py",
   "mimetype": "text/x-python",
   "name": "python",
   "nbconvert_exporter": "python",
   "pygments_lexer": "ipython3",
   "version": "3.7.4"
  }
 },
 "nbformat": 4,
 "nbformat_minor": 2
}
